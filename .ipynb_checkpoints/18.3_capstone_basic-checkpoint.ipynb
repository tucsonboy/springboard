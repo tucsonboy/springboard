{
 "cells": [
  {
   "cell_type": "code",
   "execution_count": 1,
   "id": "93f8fbe4",
   "metadata": {},
   "outputs": [],
   "source": [
    "import pandas as pd\n",
    "import numpy as np\n",
    "from sklearn.model_selection import train_test_split\n",
    "# suppress future warnings\n",
    "import warnings\n",
    "warnings.simplefilter(action='ignore', category=FutureWarning)\n",
    "warnings.simplefilter(action='ignore', category=UserWarning)"
   ]
  },
  {
   "cell_type": "code",
   "execution_count": 2,
   "id": "7c41f027",
   "metadata": {
    "scrolled": true
   },
   "outputs": [],
   "source": [
    "df = pd.read_csv(r'C:\\data\\mia_data2.csv')"
   ]
  },
  {
   "cell_type": "code",
   "execution_count": 3,
   "id": "dd32b1c3",
   "metadata": {},
   "outputs": [
    {
     "data": {
      "text/plain": [
       "Index(['Unnamed: 0.1', 'Unnamed: 0', 'YEAR', 'MONTH', 'DAY_OF_WEEK',\n",
       "       'OP_CARRIER_FL_NUM', 'ORIGIN', 'DEST', 'CRS_DEP_TIME', 'DEP_TIME',\n",
       "       'DEP_DELAY', 'DEP_DELAY_NEW', 'CRS_ARR_TIME', 'ARR_TIME', 'ARR_DELAY',\n",
       "       'ARR_DELAY_NEW', 'CANCELLED', 'CANCELLATION_CODE', 'DIVERTED',\n",
       "       'CRS_ELAPSED_TIME', 'ACTUAL_ELAPSED_TIME', 'CARRIER_DELAY',\n",
       "       'WEATHER_DELAY', 'NAS_DELAY', 'SECURITY_DELAY', 'LATE_AIRCRAFT_DELAY',\n",
       "       'WHY_DELAY', 'DAY', 'DATE'],\n",
       "      dtype='object')"
      ]
     },
     "execution_count": 3,
     "metadata": {},
     "output_type": "execute_result"
    }
   ],
   "source": [
    "df.keys()"
   ]
  },
  {
   "cell_type": "code",
   "execution_count": 4,
   "id": "67c416e4",
   "metadata": {},
   "outputs": [],
   "source": [
    "# Keeping all rows were the flight was not diverted\n",
    "df = df[df.DIVERTED ==0]"
   ]
  },
  {
   "cell_type": "code",
   "execution_count": 5,
   "id": "cf9f946b",
   "metadata": {},
   "outputs": [],
   "source": [
    "# Keeping all rows where the flight was not cancelled\n",
    "df = df[df.CANCELLED == 0]\n"
   ]
  },
  {
   "cell_type": "code",
   "execution_count": 6,
   "id": "bab9b780",
   "metadata": {},
   "outputs": [
    {
     "data": {
      "text/plain": [
       "array(['0', 'nas', 'carrier', 'weather', 'late aircraft', 'security'],\n",
       "      dtype=object)"
      ]
     },
     "execution_count": 6,
     "metadata": {},
     "output_type": "execute_result"
    }
   ],
   "source": [
    "df.WHY_DELAY.unique()"
   ]
  },
  {
   "cell_type": "code",
   "execution_count": 7,
   "id": "7432f0e6",
   "metadata": {},
   "outputs": [],
   "source": [
    "# Keeping all rows that were either on time or delayed by weather.\n",
    "keep = ['0', 'weather']\n",
    "df1 = df[df.WHY_DELAY.isin(keep)]"
   ]
  },
  {
   "cell_type": "code",
   "execution_count": 8,
   "id": "03ffe081",
   "metadata": {},
   "outputs": [],
   "source": [
    "# I want to create dummy values based on the why delay column\n",
    "dummy = pd.get_dummies(df1['WHY_DELAY'])"
   ]
  },
  {
   "cell_type": "code",
   "execution_count": 9,
   "id": "d46b76c8",
   "metadata": {},
   "outputs": [
    {
     "data": {
      "text/html": [
       "<div>\n",
       "<style scoped>\n",
       "    .dataframe tbody tr th:only-of-type {\n",
       "        vertical-align: middle;\n",
       "    }\n",
       "\n",
       "    .dataframe tbody tr th {\n",
       "        vertical-align: top;\n",
       "    }\n",
       "\n",
       "    .dataframe thead th {\n",
       "        text-align: right;\n",
       "    }\n",
       "</style>\n",
       "<table border=\"1\" class=\"dataframe\">\n",
       "  <thead>\n",
       "    <tr style=\"text-align: right;\">\n",
       "      <th></th>\n",
       "      <th>0</th>\n",
       "      <th>weather</th>\n",
       "    </tr>\n",
       "  </thead>\n",
       "  <tbody>\n",
       "    <tr>\n",
       "      <th>0</th>\n",
       "      <td>1</td>\n",
       "      <td>0</td>\n",
       "    </tr>\n",
       "    <tr>\n",
       "      <th>1</th>\n",
       "      <td>1</td>\n",
       "      <td>0</td>\n",
       "    </tr>\n",
       "    <tr>\n",
       "      <th>2</th>\n",
       "      <td>1</td>\n",
       "      <td>0</td>\n",
       "    </tr>\n",
       "    <tr>\n",
       "      <th>3</th>\n",
       "      <td>1</td>\n",
       "      <td>0</td>\n",
       "    </tr>\n",
       "    <tr>\n",
       "      <th>4</th>\n",
       "      <td>1</td>\n",
       "      <td>0</td>\n",
       "    </tr>\n",
       "  </tbody>\n",
       "</table>\n",
       "</div>"
      ],
      "text/plain": [
       "   0  weather\n",
       "0  1        0\n",
       "1  1        0\n",
       "2  1        0\n",
       "3  1        0\n",
       "4  1        0"
      ]
     },
     "execution_count": 9,
     "metadata": {},
     "output_type": "execute_result"
    }
   ],
   "source": [
    "dummy.head()"
   ]
  },
  {
   "cell_type": "code",
   "execution_count": 10,
   "id": "f889a43a",
   "metadata": {},
   "outputs": [],
   "source": [
    "df = df1"
   ]
  },
  {
   "cell_type": "code",
   "execution_count": 11,
   "id": "33861e41",
   "metadata": {},
   "outputs": [
    {
     "data": {
      "text/plain": [
       "Index(['Unnamed: 0.1', 'Unnamed: 0', 'YEAR', 'MONTH', 'DAY_OF_WEEK',\n",
       "       'OP_CARRIER_FL_NUM', 'ORIGIN', 'DEST', 'CRS_DEP_TIME', 'DEP_TIME',\n",
       "       'DEP_DELAY', 'DEP_DELAY_NEW', 'CRS_ARR_TIME', 'ARR_TIME', 'ARR_DELAY',\n",
       "       'ARR_DELAY_NEW', 'CANCELLED', 'CANCELLATION_CODE', 'DIVERTED',\n",
       "       'CRS_ELAPSED_TIME', 'ACTUAL_ELAPSED_TIME', 'CARRIER_DELAY',\n",
       "       'WEATHER_DELAY', 'NAS_DELAY', 'SECURITY_DELAY', 'LATE_AIRCRAFT_DELAY',\n",
       "       'WHY_DELAY', 'DAY', 'DATE', '0', 'weather'],\n",
       "      dtype='object')"
      ]
     },
     "execution_count": 11,
     "metadata": {},
     "output_type": "execute_result"
    }
   ],
   "source": [
    "df = pd.concat([df, dummy], axis = 1)\n",
    "df.keys()"
   ]
  },
  {
   "cell_type": "code",
   "execution_count": 12,
   "id": "e79427b4",
   "metadata": {},
   "outputs": [],
   "source": [
    "df.drop(columns = ['Unnamed: 0.1', 'Unnamed: 0', 'OP_CARRIER_FL_NUM', 'CANCELLATION_CODE', 'DIVERTED',  'CARRIER_DELAY','WEATHER_DELAY', 'NAS_DELAY', 'SECURITY_DELAY', 'LATE_AIRCRAFT_DELAY', 'DATE', 'WHY_DELAY','OP_CARRIER_FL_NUM', 'CANCELLED', '0']  , inplace = True)"
   ]
  },
  {
   "cell_type": "code",
   "execution_count": 13,
   "id": "75a191ef",
   "metadata": {},
   "outputs": [
    {
     "name": "stdout",
     "output_type": "stream",
     "text": [
      "<class 'pandas.core.frame.DataFrame'>\n",
      "Int64Index: 528022 entries, 0 to 736649\n",
      "Data columns (total 17 columns):\n",
      " #   Column               Non-Null Count   Dtype  \n",
      "---  ------               --------------   -----  \n",
      " 0   YEAR                 528022 non-null  int64  \n",
      " 1   MONTH                528022 non-null  int64  \n",
      " 2   DAY_OF_WEEK          528022 non-null  float64\n",
      " 3   ORIGIN               528022 non-null  object \n",
      " 4   DEST                 528022 non-null  object \n",
      " 5   CRS_DEP_TIME         528022 non-null  int64  \n",
      " 6   DEP_TIME             528022 non-null  float64\n",
      " 7   DEP_DELAY            528022 non-null  float64\n",
      " 8   DEP_DELAY_NEW        528022 non-null  float64\n",
      " 9   CRS_ARR_TIME         528022 non-null  int64  \n",
      " 10  ARR_TIME             528022 non-null  float64\n",
      " 11  ARR_DELAY            528022 non-null  float64\n",
      " 12  ARR_DELAY_NEW        528022 non-null  float64\n",
      " 13  CRS_ELAPSED_TIME     528022 non-null  float64\n",
      " 14  ACTUAL_ELAPSED_TIME  528022 non-null  float64\n",
      " 15  DAY                  528022 non-null  int64  \n",
      " 16  weather              528022 non-null  uint8  \n",
      "dtypes: float64(9), int64(5), object(2), uint8(1)\n",
      "memory usage: 69.0+ MB\n"
     ]
    }
   ],
   "source": [
    "df.info()"
   ]
  },
  {
   "cell_type": "code",
   "execution_count": 14,
   "id": "18836292",
   "metadata": {},
   "outputs": [],
   "source": [
    "df_features = df.drop(columns=['DAY_OF_WEEK', 'DEP_TIME', 'DEP_DELAY', 'DEP_DELAY_NEW', 'ARR_TIME', 'ARR_DELAY', 'ARR_DELAY_NEW', 'ACTUAL_ELAPSED_TIME', 'CRS_ELAPSED_TIME'])\n",
    "                    "
   ]
  },
  {
   "cell_type": "code",
   "execution_count": 15,
   "id": "3d8e83ce",
   "metadata": {},
   "outputs": [
    {
     "name": "stdout",
     "output_type": "stream",
     "text": [
      "<class 'pandas.core.frame.DataFrame'>\n",
      "Int64Index: 528022 entries, 0 to 736649\n",
      "Data columns (total 8 columns):\n",
      " #   Column        Non-Null Count   Dtype \n",
      "---  ------        --------------   ----- \n",
      " 0   YEAR          528022 non-null  int64 \n",
      " 1   MONTH         528022 non-null  int64 \n",
      " 2   ORIGIN        528022 non-null  object\n",
      " 3   DEST          528022 non-null  object\n",
      " 4   CRS_DEP_TIME  528022 non-null  int64 \n",
      " 5   CRS_ARR_TIME  528022 non-null  int64 \n",
      " 6   DAY           528022 non-null  int64 \n",
      " 7   weather       528022 non-null  uint8 \n",
      "dtypes: int64(5), object(2), uint8(1)\n",
      "memory usage: 32.7+ MB\n"
     ]
    }
   ],
   "source": [
    "df_features.info()"
   ]
  },
  {
   "cell_type": "code",
   "execution_count": null,
   "id": "07dff6a3",
   "metadata": {},
   "outputs": [],
   "source": [
    "'''\n",
    "# Want to create a wider time are rather than the specific time of departure. Going to be three categories morning, \n",
    "# afternoon and night.\n",
    "\n",
    "#List of conditions\n",
    "conditions = [\n",
    "    (df_features['CRS_DEP_TIME'] >= 600) & (df_features['CRS_DEP_TIME'] <1400),\n",
    "    (df_features['CRS_DEP_TIME'] >= 1400) & (df_features['CRS_DEP_TIME'] <2200),\n",
    "    (df_features['CRS_DEP_TIME'] >= 2200) | (df_features['CRS_DEP_TIME'] <600)   \n",
    "    ]\n",
    "\n",
    "# List of values\n",
    "values = ['Morning', 'Afternoon', 'Night']\n",
    "df_features['Time_of_Day'] = np.select(conditions, values)\n",
    "'''"
   ]
  },
  {
   "cell_type": "code",
   "execution_count": null,
   "id": "f732cc2c",
   "metadata": {},
   "outputs": [],
   "source": [
    "#df_features['Time_of_Day'].unique()"
   ]
  },
  {
   "cell_type": "code",
   "execution_count": 16,
   "id": "320aa4fc",
   "metadata": {},
   "outputs": [
    {
     "data": {
      "text/html": [
       "<div>\n",
       "<style scoped>\n",
       "    .dataframe tbody tr th:only-of-type {\n",
       "        vertical-align: middle;\n",
       "    }\n",
       "\n",
       "    .dataframe tbody tr th {\n",
       "        vertical-align: top;\n",
       "    }\n",
       "\n",
       "    .dataframe thead th {\n",
       "        text-align: right;\n",
       "    }\n",
       "</style>\n",
       "<table border=\"1\" class=\"dataframe\">\n",
       "  <thead>\n",
       "    <tr style=\"text-align: right;\">\n",
       "      <th></th>\n",
       "      <th>YEAR</th>\n",
       "      <th>MONTH</th>\n",
       "      <th>ORIGIN</th>\n",
       "      <th>DEST</th>\n",
       "      <th>CRS_DEP_TIME</th>\n",
       "      <th>CRS_ARR_TIME</th>\n",
       "      <th>DAY</th>\n",
       "      <th>weather</th>\n",
       "    </tr>\n",
       "  </thead>\n",
       "  <tbody>\n",
       "    <tr>\n",
       "      <th>0</th>\n",
       "      <td>2010</td>\n",
       "      <td>5</td>\n",
       "      <td>STT</td>\n",
       "      <td>MIA</td>\n",
       "      <td>1535</td>\n",
       "      <td>1840</td>\n",
       "      <td>1</td>\n",
       "      <td>0</td>\n",
       "    </tr>\n",
       "    <tr>\n",
       "      <th>1</th>\n",
       "      <td>2010</td>\n",
       "      <td>5</td>\n",
       "      <td>STT</td>\n",
       "      <td>MIA</td>\n",
       "      <td>1535</td>\n",
       "      <td>1840</td>\n",
       "      <td>2</td>\n",
       "      <td>0</td>\n",
       "    </tr>\n",
       "    <tr>\n",
       "      <th>2</th>\n",
       "      <td>2010</td>\n",
       "      <td>5</td>\n",
       "      <td>STT</td>\n",
       "      <td>MIA</td>\n",
       "      <td>1535</td>\n",
       "      <td>1840</td>\n",
       "      <td>3</td>\n",
       "      <td>0</td>\n",
       "    </tr>\n",
       "    <tr>\n",
       "      <th>3</th>\n",
       "      <td>2010</td>\n",
       "      <td>5</td>\n",
       "      <td>STT</td>\n",
       "      <td>MIA</td>\n",
       "      <td>1535</td>\n",
       "      <td>1840</td>\n",
       "      <td>4</td>\n",
       "      <td>0</td>\n",
       "    </tr>\n",
       "    <tr>\n",
       "      <th>4</th>\n",
       "      <td>2010</td>\n",
       "      <td>5</td>\n",
       "      <td>STT</td>\n",
       "      <td>MIA</td>\n",
       "      <td>1535</td>\n",
       "      <td>1840</td>\n",
       "      <td>5</td>\n",
       "      <td>0</td>\n",
       "    </tr>\n",
       "  </tbody>\n",
       "</table>\n",
       "</div>"
      ],
      "text/plain": [
       "   YEAR  MONTH ORIGIN DEST  CRS_DEP_TIME  CRS_ARR_TIME  DAY  weather\n",
       "0  2010      5    STT  MIA          1535          1840    1        0\n",
       "1  2010      5    STT  MIA          1535          1840    2        0\n",
       "2  2010      5    STT  MIA          1535          1840    3        0\n",
       "3  2010      5    STT  MIA          1535          1840    4        0\n",
       "4  2010      5    STT  MIA          1535          1840    5        0"
      ]
     },
     "execution_count": 16,
     "metadata": {},
     "output_type": "execute_result"
    }
   ],
   "source": [
    "df_features.head()"
   ]
  },
  {
   "cell_type": "code",
   "execution_count": 17,
   "id": "8255b78c",
   "metadata": {},
   "outputs": [],
   "source": [
    "# I need to create two data frames to work on one that is about departures from MIA and the \n",
    "#other one that deals with arrivals.\n",
    "\n",
    "\n",
    "df_arr = df_features[df_features.DEST == 'MIA']\n",
    "df_dep = df_features[df_features.ORIGIN == 'MIA']"
   ]
  },
  {
   "cell_type": "code",
   "execution_count": 18,
   "id": "f2b65637",
   "metadata": {},
   "outputs": [
    {
     "name": "stdout",
     "output_type": "stream",
     "text": [
      "<class 'pandas.core.frame.DataFrame'>\n",
      "Int64Index: 267544 entries, 0 to 736648\n",
      "Data columns (total 8 columns):\n",
      " #   Column        Non-Null Count   Dtype \n",
      "---  ------        --------------   ----- \n",
      " 0   YEAR          267544 non-null  int64 \n",
      " 1   MONTH         267544 non-null  int64 \n",
      " 2   ORIGIN        267544 non-null  object\n",
      " 3   DEST          267544 non-null  object\n",
      " 4   CRS_DEP_TIME  267544 non-null  int64 \n",
      " 5   CRS_ARR_TIME  267544 non-null  int64 \n",
      " 6   DAY           267544 non-null  int64 \n",
      " 7   weather       267544 non-null  uint8 \n",
      "dtypes: int64(5), object(2), uint8(1)\n",
      "memory usage: 16.6+ MB\n"
     ]
    }
   ],
   "source": [
    "df_arr.info()"
   ]
  },
  {
   "cell_type": "code",
   "execution_count": 19,
   "id": "e5ff3d0d",
   "metadata": {},
   "outputs": [
    {
     "name": "stderr",
     "output_type": "stream",
     "text": [
      "C:/Users/FERNAN~1/AppData/Local/Temp/xpython_3372/3278312932.py:4: SettingWithCopyWarning: \n",
      "A value is trying to be set on a copy of a slice from a DataFrame\n",
      "\n",
      "See the caveats in the documentation: https://pandas.pydata.org/pandas-docs/stable/user_guide/indexing.html#returning-a-view-versus-a-copy\n",
      "  df_arr.drop(columns = ['DEST', 'CRS_DEP_TIME'], inplace = True)\n"
     ]
    }
   ],
   "source": [
    "# In df_ arr, the DEST value is the same for all flights, I will be eliminating that column as well as everything that has to \n",
    "# deal with departures.\n",
    "\n",
    "df_arr.drop(columns = ['DEST', 'CRS_DEP_TIME'], inplace = True)\n",
    "\n",
    "\n"
   ]
  },
  {
   "cell_type": "code",
   "execution_count": 20,
   "id": "bd2878d7",
   "metadata": {},
   "outputs": [
    {
     "name": "stderr",
     "output_type": "stream",
     "text": [
      "C:/Users/FERNAN~1/AppData/Local/Temp/xpython_3372/3427308743.py:13: SettingWithCopyWarning: \n",
      "A value is trying to be set on a copy of a slice from a DataFrame.\n",
      "Try using .loc[row_indexer,col_indexer] = value instead\n",
      "\n",
      "See the caveats in the documentation: https://pandas.pydata.org/pandas-docs/stable/user_guide/indexing.html#returning-a-view-versus-a-copy\n",
      "  df_arr['Time_of_Day'] = np.select(conditions, values)\n"
     ]
    }
   ],
   "source": [
    "# Want to create a wider time are rather than the specific time of departure. Going to be three categories morning, \n",
    "# afternoon and night.\n",
    "\n",
    "#List of conditions\n",
    "conditions = [\n",
    "    (df_arr['CRS_ARR_TIME'] >= 600) & (df_arr['CRS_ARR_TIME'] <1400),\n",
    "    (df_arr['CRS_ARR_TIME'] >= 1400) & (df_arr['CRS_ARR_TIME'] <2200),\n",
    "    (df_arr['CRS_ARR_TIME'] >= 2200) | (df_arr['CRS_ARR_TIME'] <600)   \n",
    "    ]\n",
    "\n",
    "# List of values\n",
    "values = ['Morning', 'Afternoon', 'Night']\n",
    "df_arr['Time_of_Day'] = np.select(conditions, values)"
   ]
  },
  {
   "cell_type": "code",
   "execution_count": 21,
   "id": "4a2ff4a3",
   "metadata": {},
   "outputs": [
    {
     "data": {
      "text/plain": [
       "array(['Afternoon', 'Morning', 'Night'], dtype=object)"
      ]
     },
     "execution_count": 21,
     "metadata": {},
     "output_type": "execute_result"
    }
   ],
   "source": [
    "df_arr['Time_of_Day'].unique()"
   ]
  },
  {
   "cell_type": "code",
   "execution_count": 22,
   "id": "7ef8d2d4",
   "metadata": {},
   "outputs": [
    {
     "data": {
      "text/html": [
       "<div>\n",
       "<style scoped>\n",
       "    .dataframe tbody tr th:only-of-type {\n",
       "        vertical-align: middle;\n",
       "    }\n",
       "\n",
       "    .dataframe tbody tr th {\n",
       "        vertical-align: top;\n",
       "    }\n",
       "\n",
       "    .dataframe thead th {\n",
       "        text-align: right;\n",
       "    }\n",
       "</style>\n",
       "<table border=\"1\" class=\"dataframe\">\n",
       "  <thead>\n",
       "    <tr style=\"text-align: right;\">\n",
       "      <th></th>\n",
       "      <th>YEAR</th>\n",
       "      <th>MONTH</th>\n",
       "      <th>ORIGIN</th>\n",
       "      <th>CRS_ARR_TIME</th>\n",
       "      <th>DAY</th>\n",
       "      <th>weather</th>\n",
       "      <th>Time_of_Day</th>\n",
       "    </tr>\n",
       "  </thead>\n",
       "  <tbody>\n",
       "    <tr>\n",
       "      <th>0</th>\n",
       "      <td>2010</td>\n",
       "      <td>5</td>\n",
       "      <td>STT</td>\n",
       "      <td>1840</td>\n",
       "      <td>1</td>\n",
       "      <td>0</td>\n",
       "      <td>Afternoon</td>\n",
       "    </tr>\n",
       "    <tr>\n",
       "      <th>1</th>\n",
       "      <td>2010</td>\n",
       "      <td>5</td>\n",
       "      <td>STT</td>\n",
       "      <td>1840</td>\n",
       "      <td>2</td>\n",
       "      <td>0</td>\n",
       "      <td>Afternoon</td>\n",
       "    </tr>\n",
       "    <tr>\n",
       "      <th>2</th>\n",
       "      <td>2010</td>\n",
       "      <td>5</td>\n",
       "      <td>STT</td>\n",
       "      <td>1840</td>\n",
       "      <td>3</td>\n",
       "      <td>0</td>\n",
       "      <td>Afternoon</td>\n",
       "    </tr>\n",
       "    <tr>\n",
       "      <th>3</th>\n",
       "      <td>2010</td>\n",
       "      <td>5</td>\n",
       "      <td>STT</td>\n",
       "      <td>1840</td>\n",
       "      <td>4</td>\n",
       "      <td>0</td>\n",
       "      <td>Afternoon</td>\n",
       "    </tr>\n",
       "    <tr>\n",
       "      <th>4</th>\n",
       "      <td>2010</td>\n",
       "      <td>5</td>\n",
       "      <td>STT</td>\n",
       "      <td>1840</td>\n",
       "      <td>5</td>\n",
       "      <td>0</td>\n",
       "      <td>Afternoon</td>\n",
       "    </tr>\n",
       "  </tbody>\n",
       "</table>\n",
       "</div>"
      ],
      "text/plain": [
       "   YEAR  MONTH ORIGIN  CRS_ARR_TIME  DAY  weather Time_of_Day\n",
       "0  2010      5    STT          1840    1        0   Afternoon\n",
       "1  2010      5    STT          1840    2        0   Afternoon\n",
       "2  2010      5    STT          1840    3        0   Afternoon\n",
       "3  2010      5    STT          1840    4        0   Afternoon\n",
       "4  2010      5    STT          1840    5        0   Afternoon"
      ]
     },
     "execution_count": 22,
     "metadata": {},
     "output_type": "execute_result"
    }
   ],
   "source": [
    "df_arr.head()"
   ]
  },
  {
   "cell_type": "code",
   "execution_count": null,
   "id": "89e969d0",
   "metadata": {},
   "outputs": [],
   "source": [
    "# Converting Origin to numerical data by using get_dummies.\n",
    "temp = pd.get_dummies(df_arr.ORIGIN, prefix = 'ORIGIN')\n",
    "\n"
   ]
  },
  {
   "cell_type": "code",
   "execution_count": null,
   "id": "e3907353",
   "metadata": {},
   "outputs": [],
   "source": [
    "temp"
   ]
  },
  {
   "cell_type": "code",
   "execution_count": null,
   "id": "40e1cb44",
   "metadata": {},
   "outputs": [],
   "source": [
    "#Join the two dataframes\n",
    "df_arr = pd.concat([df_arr, temp], axis = 1)"
   ]
  },
  {
   "cell_type": "code",
   "execution_count": null,
   "id": "68348ba3",
   "metadata": {},
   "outputs": [],
   "source": [
    "# Get dummies for 'Time_of_Day column'"
   ]
  },
  {
   "cell_type": "code",
   "execution_count": 23,
   "id": "cac1cce3",
   "metadata": {},
   "outputs": [],
   "source": [
    "t_d = pd.get_dummies(df_arr.Time_of_Day)"
   ]
  },
  {
   "cell_type": "code",
   "execution_count": 24,
   "id": "17f29f4f",
   "metadata": {},
   "outputs": [],
   "source": [
    "df_arr = pd.concat([df_arr, t_d], axis = 1)"
   ]
  },
  {
   "cell_type": "code",
   "execution_count": 25,
   "id": "6b06d3d8",
   "metadata": {},
   "outputs": [],
   "source": [
    "y_arr = df_arr['weather']"
   ]
  },
  {
   "cell_type": "code",
   "execution_count": 26,
   "id": "4656c49f",
   "metadata": {},
   "outputs": [
    {
     "name": "stdout",
     "output_type": "stream",
     "text": [
      "<class 'pandas.core.frame.DataFrame'>\n",
      "Int64Index: 267544 entries, 0 to 736648\n",
      "Data columns (total 10 columns):\n",
      " #   Column        Non-Null Count   Dtype \n",
      "---  ------        --------------   ----- \n",
      " 0   YEAR          267544 non-null  int64 \n",
      " 1   MONTH         267544 non-null  int64 \n",
      " 2   ORIGIN        267544 non-null  object\n",
      " 3   CRS_ARR_TIME  267544 non-null  int64 \n",
      " 4   DAY           267544 non-null  int64 \n",
      " 5   weather       267544 non-null  uint8 \n",
      " 6   Time_of_Day   267544 non-null  object\n",
      " 7   Afternoon     267544 non-null  uint8 \n",
      " 8   Morning       267544 non-null  uint8 \n",
      " 9   Night         267544 non-null  uint8 \n",
      "dtypes: int64(4), object(2), uint8(4)\n",
      "memory usage: 15.3+ MB\n"
     ]
    }
   ],
   "source": [
    "df_arr.info()"
   ]
  },
  {
   "cell_type": "code",
   "execution_count": 28,
   "id": "abecc6d6",
   "metadata": {},
   "outputs": [],
   "source": [
    "df_arr.drop(columns = ['weather', 'ORIGIN', 'Time_of_Day'], inplace = True)"
   ]
  },
  {
   "cell_type": "code",
   "execution_count": 29,
   "id": "10cd6038",
   "metadata": {},
   "outputs": [
    {
     "name": "stdout",
     "output_type": "stream",
     "text": [
      "<class 'pandas.core.frame.DataFrame'>\n",
      "Int64Index: 267544 entries, 0 to 736648\n",
      "Data columns (total 7 columns):\n",
      " #   Column        Non-Null Count   Dtype\n",
      "---  ------        --------------   -----\n",
      " 0   YEAR          267544 non-null  int64\n",
      " 1   MONTH         267544 non-null  int64\n",
      " 2   CRS_ARR_TIME  267544 non-null  int64\n",
      " 3   DAY           267544 non-null  int64\n",
      " 4   Afternoon     267544 non-null  uint8\n",
      " 5   Morning       267544 non-null  uint8\n",
      " 6   Night         267544 non-null  uint8\n",
      "dtypes: int64(4), uint8(3)\n",
      "memory usage: 11.0 MB\n"
     ]
    }
   ],
   "source": [
    "df_arr.info()"
   ]
  },
  {
   "cell_type": "code",
   "execution_count": 30,
   "id": "531c9821",
   "metadata": {},
   "outputs": [],
   "source": [
    "X_arr_train, X_arr_test, y_arr_train, y_arr_test = train_test_split(df_arr, y_arr, test_size = .33, random_state = 42)"
   ]
  },
  {
   "cell_type": "code",
   "execution_count": 1,
   "id": "8ec6900b",
   "metadata": {},
   "outputs": [
    {
     "ename": "<class 'NameError'>",
     "evalue": "name 'df_dep' is not defined",
     "output_type": "error",
     "traceback": [
      "\u001b[1;31m---------------------------------------------------------------------------\u001b[0m",
      "\u001b[1;31mNameError\u001b[0m                                 Traceback (most recent call last)",
      "\u001b[1;32mC:/Users/FERNAN~1/AppData/Local/Temp/xpython_10776/2825237956.py\u001b[0m in \u001b[0;36m<module>\u001b[1;34m\u001b[0m\n\u001b[1;32m----> 1\u001b[1;33m \u001b[0mdf_dep\u001b[0m\u001b[1;33m.\u001b[0m\u001b[0minfo\u001b[0m\u001b[1;33m(\u001b[0m\u001b[1;33m)\u001b[0m\u001b[1;33m\u001b[0m\u001b[1;33m\u001b[0m\u001b[0m\n\u001b[0m",
      "\u001b[1;31mNameError\u001b[0m: name 'df_dep' is not defined"
     ]
    }
   ],
   "source": [
    "df_dep.info()"
   ]
  },
  {
   "cell_type": "code",
   "execution_count": null,
   "id": "4533fac5",
   "metadata": {},
   "outputs": [],
   "source": [
    "#Going to do the same things to df_dep that I just did with df_arr\n",
    "df_dep.drop(columns = ['ORIGIN', 'CRS_ARR_TIME'], inplace = True)"
   ]
  },
  {
   "cell_type": "code",
   "execution_count": null,
   "id": "bb97ee14",
   "metadata": {},
   "outputs": [],
   "source": [
    "# Converting DEST to numerical data by using get_dummies.\n",
    "temp = pd.get_dummies(df_dep.DEST, prefix = 'ORIGIN')"
   ]
  },
  {
   "cell_type": "code",
   "execution_count": null,
   "id": "f4baa2d0",
   "metadata": {},
   "outputs": [],
   "source": [
    "temp"
   ]
  },
  {
   "cell_type": "code",
   "execution_count": null,
   "id": "5925d68c",
   "metadata": {},
   "outputs": [],
   "source": [
    "#Join the two dataframes\n",
    "df_dep = pd.concat([df_dep, temp], axis = 1)"
   ]
  },
  {
   "cell_type": "code",
   "execution_count": null,
   "id": "f9d6553c",
   "metadata": {},
   "outputs": [],
   "source": [
    "df_dep.to_csv('C:\\data\\departure_basic.csv')"
   ]
  },
  {
   "cell_type": "code",
   "execution_count": null,
   "id": "31d3b9c2",
   "metadata": {},
   "outputs": [],
   "source": [
    "df_arr.to_csv(r'C:\\data\\arrival_basic.csv')"
   ]
  },
  {
   "cell_type": "code",
   "execution_count": null,
   "id": "418c04cc",
   "metadata": {},
   "outputs": [],
   "source": [
    "y_dep = df_dep['weather']"
   ]
  },
  {
   "cell_type": "code",
   "execution_count": null,
   "id": "04b8b2ac",
   "metadata": {},
   "outputs": [],
   "source": [
    "df_dep.drop(columns = ['weather', 'DEST'], inplace = True)"
   ]
  },
  {
   "cell_type": "code",
   "execution_count": null,
   "id": "0f72e6d5",
   "metadata": {},
   "outputs": [],
   "source": [
    "df_dep.head()"
   ]
  },
  {
   "cell_type": "code",
   "execution_count": null,
   "id": "3ceac79b",
   "metadata": {},
   "outputs": [],
   "source": [
    "X_dep_train, X_dep_test, y_dep_train, y_dep_test = train_test_split(df_dep, y_dep, test_size = .33, random_state = 42)"
   ]
  },
  {
   "cell_type": "code",
   "execution_count": null,
   "id": "1c529a8a",
   "metadata": {},
   "outputs": [],
   "source": [
    "y_dep_test.value_counts()"
   ]
  },
  {
   "cell_type": "code",
   "execution_count": null,
   "id": "d8788adc",
   "metadata": {},
   "outputs": [],
   "source": [
    "\n",
    "from imblearn.over_sampling import SMOTE\n",
    "sm = SMOTE(random_state = 42, sampling_strategy = 1.0)\n",
    "X_dep_train, y_dep_train = sm.fit_resample(X_dep_train, y_dep_train)\n"
   ]
  },
  {
   "cell_type": "code",
   "execution_count": 31,
   "id": "c677dac3",
   "metadata": {},
   "outputs": [],
   "source": [
    "from imblearn.over_sampling import SMOTE\n",
    "sm = SMOTE(random_state = 42, sampling_strategy = 1.0)\n",
    "X_arr_train, y_arr_train = sm.fit_resample(X_arr_train, y_arr_train)"
   ]
  },
  {
   "cell_type": "code",
   "execution_count": null,
   "id": "f7e9cdcd",
   "metadata": {},
   "outputs": [],
   "source": [
    "y_dep_train.value_counts() "
   ]
  },
  {
   "cell_type": "code",
   "execution_count": 32,
   "id": "acece528",
   "metadata": {},
   "outputs": [],
   "source": [
    "\n",
    "from sklearn.metrics import accuracy_score\n",
    "from sklearn.model_selection import cross_val_score\n",
    "import matplotlib.pyplot as plt\n",
    "from sklearn.model_selection import KFold\n",
    "from sklearn.metrics import classification_report\n",
    "\n"
   ]
  },
  {
   "cell_type": "code",
   "execution_count": null,
   "id": "876a7527",
   "metadata": {},
   "outputs": [],
   "source": [
    "# Random Forest Classifier\n",
    "from sklearn.ensemble import RandomForestClassifier\n",
    "rf=RandomForestClassifier(max_depth = 5, n_estimators=100, random_state = 42)\n",
    "rf.fit(X_arr_train, y_arr_train)\n",
    "rf_y_pred = rf.predict(X_arr_test)\n",
    "\n",
    "\n"
   ]
  },
  {
   "cell_type": "code",
   "execution_count": null,
   "id": "ba94a81b",
   "metadata": {},
   "outputs": [],
   "source": [
    "print(f'Accuracy score with Random Forest Classifier is {accuracy_score(y_arr_test, rf_y_pred)}.')"
   ]
  },
  {
   "cell_type": "code",
   "execution_count": null,
   "id": "89508e97",
   "metadata": {},
   "outputs": [],
   "source": [
    "print(f'Classification report for Random Forest Classifier is {classification_report(y_arr_test, rf_y_pred )}.')"
   ]
  },
  {
   "cell_type": "code",
   "execution_count": 34,
   "id": "3f8bc35d",
   "metadata": {},
   "outputs": [],
   "source": [
    "# Logistic Regression\n",
    "from sklearn.linear_model import LogisticRegression\n",
    "lgreg = LogisticRegression(class_weight = 'balanced')\n",
    "lgreg.fit(X_arr_train, y_arr_train)\n",
    "predlgreg = lgreg.predict(X_arr_test)\n"
   ]
  },
  {
   "cell_type": "code",
   "execution_count": 35,
   "id": "3a9bd5b2",
   "metadata": {},
   "outputs": [
    {
     "name": "stdout",
     "output_type": "stream",
     "text": [
      "Accuracy score with Logistic Regression is 0.617986181900555.\n",
      "Classification report \n",
      "               precision    recall  f1-score   support\n",
      "\n",
      "           0       0.99      0.62      0.76     86782\n",
      "           1       0.03      0.74      0.06      1508\n",
      "\n",
      "    accuracy                           0.62     88290\n",
      "   macro avg       0.51      0.68      0.41     88290\n",
      "weighted avg       0.98      0.62      0.75     88290\n",
      ".\n"
     ]
    }
   ],
   "source": [
    "print(f'Accuracy score with Logistic Regression is {accuracy_score(y_arr_test, predlgreg)}.')\n",
    "print(f'Classification report \\n {classification_report(y_arr_test, predlgreg)}.')"
   ]
  },
  {
   "cell_type": "code",
   "execution_count": null,
   "id": "d8dd936a",
   "metadata": {},
   "outputs": [],
   "source": [
    "# KNeighbor Classifier\n",
    "def knn(X_train,y_train, X_test, y_test):\n",
    "    from sklearn.neighbors import KNeighborsClassifier\n",
    "    score = {}\n",
    "    for n in range (1,5):\n",
    "        knn = KNeighborsClassifier(n_neighbors = (n))\n",
    "        knn.fit(X_train,y_train)\n",
    "        y_pred_class = knn.predict(X_test)\n",
    "        score[n] = y_pred_class\n",
    "    \n",
    "    return score\n"
   ]
  },
  {
   "cell_type": "code",
   "execution_count": null,
   "id": "b7243a2a",
   "metadata": {},
   "outputs": [],
   "source": [
    "knn_score = knn(X_arr_train, y_arr_train, X_arr_test, y_arr_test)\n"
   ]
  },
  {
   "cell_type": "code",
   "execution_count": null,
   "id": "af43cc83",
   "metadata": {},
   "outputs": [],
   "source": [
    "knn_score"
   ]
  },
  {
   "cell_type": "code",
   "execution_count": null,
   "id": "ebeb4fe1",
   "metadata": {},
   "outputs": [],
   "source": [
    "trinket = {}\n",
    "for item in knn_score.items():\n",
    "    trinket[item[0]] = accuracy_score(y_arr_test, item[1])\n",
    "max_score = max(trinket.values())\n",
    "best_n = max(trinket, key=trinket.get)\n"
   ]
  },
  {
   "cell_type": "code",
   "execution_count": null,
   "id": "1b66dce6",
   "metadata": {},
   "outputs": [],
   "source": [
    "print(f'{best_n} makes the best n value with a score of {max_score}.')\n",
    "print(f'Classification report for KNeighbors Classifier \\n {classification_report(y_arr_test, knn_score[best_n])}.')"
   ]
  },
  {
   "cell_type": "code",
   "execution_count": null,
   "id": "9d84a07d",
   "metadata": {},
   "outputs": [],
   "source": [
    "# Decision Tree Classifier\n",
    "from sklearn.tree import DecisionTreeClassifier\n",
    "DTC = DecisionTreeClassifier(criterion = 'gini', random_state = 42, max_depth = 3, min_samples_leaf=5)\n",
    "DTC.fit(X_arr_train, y_arr_train)\n",
    "DTC_y_predict = DTC.predict(X_arr_test)\n"
   ]
  },
  {
   "cell_type": "code",
   "execution_count": null,
   "id": "7eef93d3",
   "metadata": {},
   "outputs": [],
   "source": [
    "print(f'Accuracy score with Decision Tree Classifier is {accuracy_score(y_arr_test, DTC_y_predict)}.')\n",
    "print(f' Classification Reoprt for Decision Tree Classifier \\n{classification_report(y_arr_test, DTC_y_predict)}.')"
   ]
  },
  {
   "cell_type": "code",
   "execution_count": null,
   "id": "08ca8cd1",
   "metadata": {},
   "outputs": [],
   "source": [
    "# Support Vector Classifier\n",
    "from sklearn.svm import SVC\n",
    "svm = SVC(kernel = 'linear')\n",
    "svm.fit(X_arr_train, y_arr_train)\n",
    "svm_pred = svc.predict(y_arr_test)\n",
    "\n"
   ]
  },
  {
   "cell_type": "code",
   "execution_count": null,
   "id": "5396246c",
   "metadata": {},
   "outputs": [],
   "source": [
    "svm_score = svc.score(X_arr_train, y_arr_train)\n",
    "#cv_svc(svc, X_arr_train, y_arr_train, cv = 10)\n",
    "cr_svm= classification_report(y_arr_test, svm_pred)\n",
    "svc_accuracy_score= accuracy_score(y_arr_test,svm_pred)\n"
   ]
  },
  {
   "cell_type": "code",
   "execution_count": null,
   "id": "656fefb0",
   "metadata": {},
   "outputs": [],
   "source": [
    "# Naive Bayes Gaussian NB\n",
    "from sklearn.naive_bayes import GaussianNB\n",
    "gaussian = GaussianNB()\n",
    "gaussian.fit(X_arr_train, y_arr_train)\n",
    "gaus_pred = gaussian.predict(X_arr_test)\n"
   ]
  },
  {
   "cell_type": "code",
   "execution_count": null,
   "id": "e071593d",
   "metadata": {},
   "outputs": [],
   "source": [
    "gaus_accuracy = accuracy_score(y_arr_test, gaus_pred)\n",
    "gaus_class = classification_report(y_arr_test, gaus_pred)"
   ]
  },
  {
   "cell_type": "code",
   "execution_count": null,
   "id": "1f225edb",
   "metadata": {},
   "outputs": [],
   "source": [
    "print(f' Naiv Bayes Gaussian has an accuracy score of {gaus_accuracy}.')\n",
    "print(f' Naiv Bayes Gausssian confidence report is \\n {gaus_class}.')"
   ]
  },
  {
   "cell_type": "code",
   "execution_count": null,
   "id": "767bdb58",
   "metadata": {},
   "outputs": [],
   "source": [
    "# Naive Bayes Multinomial\n",
    "from sklearn.naive_bayes import MultinomialNB\n",
    "multinomial = MultinomialNB()\n",
    "multinomial.fit(X_arr_train, y_arr_train)\n",
    "multi_pred = multinomial.predict(X_arr_test)\n"
   ]
  },
  {
   "cell_type": "code",
   "execution_count": null,
   "id": "9e4a8c5d",
   "metadata": {},
   "outputs": [],
   "source": [
    "multi_accuracy = accuracy_score(y_arr_test, multi_pred)\n",
    "multi_class = classification_report(y_arr_test, multi_pred)"
   ]
  },
  {
   "cell_type": "code",
   "execution_count": null,
   "id": "412a0197",
   "metadata": {},
   "outputs": [],
   "source": [
    "print(f' Naiv Bayes Multinomial has an accuracy score of {multi_accuracy}.')\n",
    "print(f' Naiv Bayes Multinomial confidence report is \\n {multi_class}.')"
   ]
  },
  {
   "cell_type": "code",
   "execution_count": null,
   "id": "f8ea286e",
   "metadata": {},
   "outputs": [],
   "source": []
  }
 ],
 "metadata": {
  "celltoolbar": "Raw Cell Format",
  "kernelspec": {
   "display_name": "Python 3.9 (XPython)",
   "language": "python",
   "name": "xpython"
  },
  "language_info": {
   "file_extension": ".py",
   "mimetype": "text/x-python",
   "name": "python",
   "version": "3.9.13"
  }
 },
 "nbformat": 4,
 "nbformat_minor": 5
}
