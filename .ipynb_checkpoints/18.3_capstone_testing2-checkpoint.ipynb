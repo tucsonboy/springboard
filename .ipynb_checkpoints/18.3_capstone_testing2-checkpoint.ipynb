{
 "cells": [
  {
   "cell_type": "code",
   "execution_count": 1,
   "id": "93f8fbe4",
   "metadata": {},
   "outputs": [],
   "source": [
    "import pandas as pd\n",
    "import numpy as np\n",
    "from sklearn.model_selection import train_test_split\n",
    "# suppress future warnings\n",
    "import warnings\n",
    "warnings.simplefilter(action='ignore', category=FutureWarning)\n",
    "warnings.simplefilter(action='ignore', category=UserWarning)"
   ]
  },
  {
   "cell_type": "code",
   "execution_count": 2,
   "id": "7c41f027",
   "metadata": {
    "scrolled": true
   },
   "outputs": [],
   "source": [
    "df = pd.read_csv(r'C:\\data\\mia_data2.csv')"
   ]
  },
  {
   "cell_type": "code",
   "execution_count": 3,
   "id": "dd32b1c3",
   "metadata": {},
   "outputs": [
    {
     "data": {
      "text/plain": [
       "Index(['Unnamed: 0.1', 'Unnamed: 0', 'YEAR', 'MONTH', 'DAY_OF_WEEK',\n",
       "       'OP_CARRIER_FL_NUM', 'ORIGIN', 'DEST', 'CRS_DEP_TIME', 'DEP_TIME',\n",
       "       'DEP_DELAY', 'DEP_DELAY_NEW', 'CRS_ARR_TIME', 'ARR_TIME', 'ARR_DELAY',\n",
       "       'ARR_DELAY_NEW', 'CANCELLED', 'CANCELLATION_CODE', 'DIVERTED',\n",
       "       'CRS_ELAPSED_TIME', 'ACTUAL_ELAPSED_TIME', 'CARRIER_DELAY',\n",
       "       'WEATHER_DELAY', 'NAS_DELAY', 'SECURITY_DELAY', 'LATE_AIRCRAFT_DELAY',\n",
       "       'WHY_DELAY', 'DAY', 'DATE'],\n",
       "      dtype='object')"
      ]
     },
     "execution_count": 3,
     "metadata": {},
     "output_type": "execute_result"
    }
   ],
   "source": [
    "df.keys()"
   ]
  },
  {
   "cell_type": "code",
   "execution_count": 4,
   "id": "67c416e4",
   "metadata": {},
   "outputs": [],
   "source": [
    "# Deleting all flights were the flight was diverted\n",
    "df = df[df.DIVERTED ==0]"
   ]
  },
  {
   "cell_type": "code",
   "execution_count": 5,
   "id": "cf9f946b",
   "metadata": {},
   "outputs": [],
   "source": [
    "#Deleting all rows where the flight was cancelled\n",
    "df = df[df.CANCELLED == 0]\n"
   ]
  },
  {
   "cell_type": "code",
   "execution_count": 6,
   "id": "0eb6f5a7",
   "metadata": {},
   "outputs": [
    {
     "name": "stdout",
     "output_type": "stream",
     "text": [
      "<class 'pandas.core.frame.DataFrame'>\n",
      "Int64Index: 659119 entries, 0 to 736651\n",
      "Data columns (total 29 columns):\n",
      " #   Column               Non-Null Count   Dtype  \n",
      "---  ------               --------------   -----  \n",
      " 0   Unnamed: 0.1         659119 non-null  int64  \n",
      " 1   Unnamed: 0           659119 non-null  int64  \n",
      " 2   YEAR                 659119 non-null  int64  \n",
      " 3   MONTH                659119 non-null  int64  \n",
      " 4   DAY_OF_WEEK          659119 non-null  float64\n",
      " 5   OP_CARRIER_FL_NUM    659119 non-null  int64  \n",
      " 6   ORIGIN               659119 non-null  object \n",
      " 7   DEST                 659119 non-null  object \n",
      " 8   CRS_DEP_TIME         659119 non-null  int64  \n",
      " 9   DEP_TIME             659119 non-null  float64\n",
      " 10  DEP_DELAY            659119 non-null  float64\n",
      " 11  DEP_DELAY_NEW        659119 non-null  float64\n",
      " 12  CRS_ARR_TIME         659119 non-null  int64  \n",
      " 13  ARR_TIME             659119 non-null  float64\n",
      " 14  ARR_DELAY            659119 non-null  float64\n",
      " 15  ARR_DELAY_NEW        659119 non-null  float64\n",
      " 16  CANCELLED            659119 non-null  float64\n",
      " 17  CANCELLATION_CODE    0 non-null       object \n",
      " 18  DIVERTED             659119 non-null  float64\n",
      " 19  CRS_ELAPSED_TIME     659119 non-null  float64\n",
      " 20  ACTUAL_ELAPSED_TIME  659119 non-null  float64\n",
      " 21  CARRIER_DELAY        659119 non-null  float64\n",
      " 22  WEATHER_DELAY        659119 non-null  float64\n",
      " 23  NAS_DELAY            659119 non-null  float64\n",
      " 24  SECURITY_DELAY       659119 non-null  float64\n",
      " 25  LATE_AIRCRAFT_DELAY  659119 non-null  float64\n",
      " 26  WHY_DELAY            659119 non-null  object \n",
      " 27  DAY                  659119 non-null  int64  \n",
      " 28  DATE                 659119 non-null  object \n",
      "dtypes: float64(16), int64(8), object(5)\n",
      "memory usage: 150.9+ MB\n"
     ]
    }
   ],
   "source": [
    "df.info()"
   ]
  },
  {
   "cell_type": "code",
   "execution_count": 7,
   "id": "03ffe081",
   "metadata": {},
   "outputs": [],
   "source": [
    "# I want to create dummy values based on the why delay column\n",
    "dummy = pd.get_dummies(df['WHY_DELAY'])"
   ]
  },
  {
   "cell_type": "code",
   "execution_count": 8,
   "id": "d46b76c8",
   "metadata": {},
   "outputs": [
    {
     "data": {
      "text/html": [
       "<div>\n",
       "<style scoped>\n",
       "    .dataframe tbody tr th:only-of-type {\n",
       "        vertical-align: middle;\n",
       "    }\n",
       "\n",
       "    .dataframe tbody tr th {\n",
       "        vertical-align: top;\n",
       "    }\n",
       "\n",
       "    .dataframe thead th {\n",
       "        text-align: right;\n",
       "    }\n",
       "</style>\n",
       "<table border=\"1\" class=\"dataframe\">\n",
       "  <thead>\n",
       "    <tr style=\"text-align: right;\">\n",
       "      <th></th>\n",
       "      <th>0</th>\n",
       "      <th>carrier</th>\n",
       "      <th>late aircraft</th>\n",
       "      <th>nas</th>\n",
       "      <th>security</th>\n",
       "      <th>weather</th>\n",
       "    </tr>\n",
       "  </thead>\n",
       "  <tbody>\n",
       "    <tr>\n",
       "      <th>0</th>\n",
       "      <td>1</td>\n",
       "      <td>0</td>\n",
       "      <td>0</td>\n",
       "      <td>0</td>\n",
       "      <td>0</td>\n",
       "      <td>0</td>\n",
       "    </tr>\n",
       "    <tr>\n",
       "      <th>1</th>\n",
       "      <td>1</td>\n",
       "      <td>0</td>\n",
       "      <td>0</td>\n",
       "      <td>0</td>\n",
       "      <td>0</td>\n",
       "      <td>0</td>\n",
       "    </tr>\n",
       "    <tr>\n",
       "      <th>2</th>\n",
       "      <td>1</td>\n",
       "      <td>0</td>\n",
       "      <td>0</td>\n",
       "      <td>0</td>\n",
       "      <td>0</td>\n",
       "      <td>0</td>\n",
       "    </tr>\n",
       "    <tr>\n",
       "      <th>3</th>\n",
       "      <td>1</td>\n",
       "      <td>0</td>\n",
       "      <td>0</td>\n",
       "      <td>0</td>\n",
       "      <td>0</td>\n",
       "      <td>0</td>\n",
       "    </tr>\n",
       "    <tr>\n",
       "      <th>4</th>\n",
       "      <td>1</td>\n",
       "      <td>0</td>\n",
       "      <td>0</td>\n",
       "      <td>0</td>\n",
       "      <td>0</td>\n",
       "      <td>0</td>\n",
       "    </tr>\n",
       "    <tr>\n",
       "      <th>...</th>\n",
       "      <td>...</td>\n",
       "      <td>...</td>\n",
       "      <td>...</td>\n",
       "      <td>...</td>\n",
       "      <td>...</td>\n",
       "      <td>...</td>\n",
       "    </tr>\n",
       "    <tr>\n",
       "      <th>736647</th>\n",
       "      <td>1</td>\n",
       "      <td>0</td>\n",
       "      <td>0</td>\n",
       "      <td>0</td>\n",
       "      <td>0</td>\n",
       "      <td>0</td>\n",
       "    </tr>\n",
       "    <tr>\n",
       "      <th>736648</th>\n",
       "      <td>1</td>\n",
       "      <td>0</td>\n",
       "      <td>0</td>\n",
       "      <td>0</td>\n",
       "      <td>0</td>\n",
       "      <td>0</td>\n",
       "    </tr>\n",
       "    <tr>\n",
       "      <th>736649</th>\n",
       "      <td>1</td>\n",
       "      <td>0</td>\n",
       "      <td>0</td>\n",
       "      <td>0</td>\n",
       "      <td>0</td>\n",
       "      <td>0</td>\n",
       "    </tr>\n",
       "    <tr>\n",
       "      <th>736650</th>\n",
       "      <td>0</td>\n",
       "      <td>0</td>\n",
       "      <td>0</td>\n",
       "      <td>1</td>\n",
       "      <td>0</td>\n",
       "      <td>0</td>\n",
       "    </tr>\n",
       "    <tr>\n",
       "      <th>736651</th>\n",
       "      <td>0</td>\n",
       "      <td>1</td>\n",
       "      <td>0</td>\n",
       "      <td>0</td>\n",
       "      <td>0</td>\n",
       "      <td>0</td>\n",
       "    </tr>\n",
       "  </tbody>\n",
       "</table>\n",
       "<p>659119 rows × 6 columns</p>\n",
       "</div>"
      ],
      "text/plain": [
       "        0  carrier  late aircraft  nas  security  weather\n",
       "0       1        0              0    0         0        0\n",
       "1       1        0              0    0         0        0\n",
       "2       1        0              0    0         0        0\n",
       "3       1        0              0    0         0        0\n",
       "4       1        0              0    0         0        0\n",
       "...    ..      ...            ...  ...       ...      ...\n",
       "736647  1        0              0    0         0        0\n",
       "736648  1        0              0    0         0        0\n",
       "736649  1        0              0    0         0        0\n",
       "736650  0        0              0    1         0        0\n",
       "736651  0        1              0    0         0        0\n",
       "\n",
       "[659119 rows x 6 columns]"
      ]
     },
     "execution_count": 8,
     "metadata": {},
     "output_type": "execute_result"
    }
   ],
   "source": [
    "dummy"
   ]
  },
  {
   "cell_type": "code",
   "execution_count": 9,
   "id": "33861e41",
   "metadata": {},
   "outputs": [
    {
     "data": {
      "text/plain": [
       "Index(['Unnamed: 0.1', 'Unnamed: 0', 'YEAR', 'MONTH', 'DAY_OF_WEEK',\n",
       "       'OP_CARRIER_FL_NUM', 'ORIGIN', 'DEST', 'CRS_DEP_TIME', 'DEP_TIME',\n",
       "       'DEP_DELAY', 'DEP_DELAY_NEW', 'CRS_ARR_TIME', 'ARR_TIME', 'ARR_DELAY',\n",
       "       'ARR_DELAY_NEW', 'CANCELLED', 'CANCELLATION_CODE', 'DIVERTED',\n",
       "       'CRS_ELAPSED_TIME', 'ACTUAL_ELAPSED_TIME', 'CARRIER_DELAY',\n",
       "       'WEATHER_DELAY', 'NAS_DELAY', 'SECURITY_DELAY', 'LATE_AIRCRAFT_DELAY',\n",
       "       'WHY_DELAY', 'DAY', 'DATE', '0', 'carrier', 'late aircraft', 'nas',\n",
       "       'security', 'weather'],\n",
       "      dtype='object')"
      ]
     },
     "execution_count": 9,
     "metadata": {},
     "output_type": "execute_result"
    }
   ],
   "source": [
    "df = pd.concat([df, dummy], axis = 1)\n",
    "df.keys()"
   ]
  },
  {
   "cell_type": "code",
   "execution_count": null,
   "id": "e79427b4",
   "metadata": {},
   "outputs": [],
   "source": [
    "df.drop(columns = ['Unnamed: 0.1', 'Unnamed: 0', 'OP_CARRIER_FL_NUM', 'CANCELLATION_CODE', 'DIVERTED',  'CARRIER_DELAY','WEATHER_DELAY', 'NAS_DELAY', 'SECURITY_DELAY', 'LATE_AIRCRAFT_DELAY', 'DATE', 'WHY_DELAY', 'carrier', 'late aircraft', 'nas','security', 'OP_CARRIER_FL_NUM', 'CANCELLED']  , inplace = True)"
   ]
  },
  {
   "cell_type": "code",
   "execution_count": null,
   "id": "69488055",
   "metadata": {},
   "outputs": [],
   "source": [
    "df.head()"
   ]
  },
  {
   "cell_type": "code",
   "execution_count": null,
   "id": "a4d629a7",
   "metadata": {},
   "outputs": [],
   "source": [
    "df.info()"
   ]
  },
  {
   "cell_type": "code",
   "execution_count": null,
   "id": "8255b78c",
   "metadata": {},
   "outputs": [],
   "source": [
    "# Due to the size and complexity of the data set, I am only going to focus on arrivals for the time being.\n",
    "df_arr = df[df.DEST == 'MIA']\n"
   ]
  },
  {
   "cell_type": "code",
   "execution_count": null,
   "id": "839950d6",
   "metadata": {},
   "outputs": [],
   "source": [
    "df_arr.keys()"
   ]
  },
  {
   "cell_type": "code",
   "execution_count": null,
   "id": "e5ff3d0d",
   "metadata": {},
   "outputs": [],
   "source": [
    "# In df_ arr, the DEST value is the same for all flights, I will be eliminating that column as well as everything that has to \n",
    "# deal with departures.\n",
    "\n",
    "df_arr.drop(columns = ['CRS_DEP_TIME','DEST', 'DEP_DELAY_NEW', 'DEP_TIME', 'DEP_DELAY'], inplace = True)\n",
    "\n",
    "\n"
   ]
  },
  {
   "cell_type": "code",
   "execution_count": null,
   "id": "89e969d0",
   "metadata": {},
   "outputs": [],
   "source": [
    "# Converting Origin to numerical data by using get_dummies for arrivals\n",
    "temp = pd.get_dummies(df_arr.ORIGIN, prefix = 'ORIGIN')\n",
    "\n"
   ]
  },
  {
   "cell_type": "code",
   "execution_count": null,
   "id": "e3907353",
   "metadata": {},
   "outputs": [],
   "source": [
    "temp"
   ]
  },
  {
   "cell_type": "code",
   "execution_count": null,
   "id": "40e1cb44",
   "metadata": {},
   "outputs": [],
   "source": [
    "#Join the two dataframes\n",
    "df_arr = pd.concat([df_arr, temp], axis = 1)"
   ]
  },
  {
   "cell_type": "code",
   "execution_count": null,
   "id": "6b06d3d8",
   "metadata": {},
   "outputs": [],
   "source": [
    "# Creating y for arrivals and dropping weather and origin column for df_arr\n",
    "y_arr = df_arr['weather']"
   ]
  },
  {
   "cell_type": "code",
   "execution_count": null,
   "id": "abecc6d6",
   "metadata": {},
   "outputs": [],
   "source": [
    "df_arr.drop(columns = ['weather', 'ORIGIN'], inplace = True)"
   ]
  },
  {
   "cell_type": "code",
   "execution_count": null,
   "id": "10cd6038",
   "metadata": {},
   "outputs": [],
   "source": [
    "df_arr.info()"
   ]
  },
  {
   "cell_type": "code",
   "execution_count": null,
   "id": "531c9821",
   "metadata": {},
   "outputs": [],
   "source": [
    "# Split train, test for df_arrival\n",
    "X_arr_train, X_arr_test, y_arr_train, y_arr_test = train_test_split(df_arr, y_arr, test_size = .33, random_state = 42)"
   ]
  },
  {
   "cell_type": "code",
   "execution_count": null,
   "id": "c677dac3",
   "metadata": {},
   "outputs": [],
   "source": [
    "#Function to implement SMOTE\n",
    "def create_smote(X_arr_train, y_arr_train):\n",
    "    from imblearn.over_sampling import SMOTE\n",
    "    sm = SMOTE(random_state = 42, sampling_strategy = 1.0)\n",
    "    X_train, y_train = sm.fit_resample(X_arr_train, y_arr_train)\n",
    "    return [X_train, y_train]\n"
   ]
  },
  {
   "cell_type": "code",
   "execution_count": null,
   "id": "e6b33220",
   "metadata": {},
   "outputs": [],
   "source": [
    "smoted = create_smote(X_arr_train, y_arr_train)\n",
    "X_arr_train = smoted[0] \n",
    "y_arr_train = smoted[1]"
   ]
  },
  {
   "cell_type": "code",
   "execution_count": null,
   "id": "71062787",
   "metadata": {},
   "outputs": [],
   "source": [
    "# These functions are to interpret and print the results of the maching learning algorithms. \n",
    "#There are two functions, one for that had iterable parameter thus had multiple results and the other for those who didn't\n",
    "from sklearn.metrics import accuracy_score\n",
    "from sklearn.model_selection import cross_val_score\n",
    "import matplotlib.pyplot as plt\n",
    "from sklearn.model_selection import KFold\n",
    "from sklearn.metrics import classification_report\n",
    "from sklearn.metrics import confusion_matrix\n",
    "from sklearn.metrics import roc_auc_score\n",
    "import seaborn as sns\n",
    "\n",
    "#A dictionary will be used to save all the results from the different algorithms for analysis later on.\n",
    "t_results = {}\n",
    "def testing_results(test_name, y_test, y_pred, t_results):    \n",
    "   \n",
    "    \n",
    "    acc_score = accuracy_score(y_test, y_pred)\n",
    "    class_report = classification_report(y_test, y_pred)\n",
    "    conf_matrix = confusion_matrix(y_test, y_pred)\n",
    "    ROC =  roc_auc_score(y_test, y_pred)\n",
    "    \n",
    "    print(f'Accuracy score with {test_name} is {acc_score}.')\n",
    "    print(f'Classification report for {test_name} is \\n {class_report}.')\n",
    "    print(f'Confusion matrix for {test_name} is \\n {conf_matrix}.')   \n",
    "    print(f'ROC-AUC score is {ROC}.')\n",
    "    t_results[test_name] = [acc_score, class_report, conf_matrix, ROC]\n",
    "    return t_results\n",
    "    \n",
    "def iterable_testing_results(test_name, y_test, array, t_results) :\n",
    "    trinket = {}\n",
    "    for item in array.items():\n",
    "        trinket[item[0]] = accuracy_score(y_test, item[1])\n",
    "    max_score = max(trinket.values())\n",
    "    best_n = max(trinket, key=trinket.get)\n",
    "    \n",
    "    acc_score = accuracy_score(y_test, array[best_n])\n",
    "    class_report = classification_report(y_arr_test, array[best_n])\n",
    "    conf_matrix = confusion_matrix(y_arr_test, array[best_n])\n",
    "    ROC =  roc_auc_score(y_test, array[best_n])\n",
    "    print(best_n)\n",
    "    print(f'{best_n} makes the best n value with a score of {max_score}.')\n",
    "    print(f'Classification report for {test_name} \\n {class_report}.')\n",
    "    print(f'Confusion Matrix for {test_name} is \\n {conf_matrix}.')\n",
    "    print(f'ROC-AUC score is {ROC}.')\n",
    "    t_results[test_name] = [acc_score, class_report, conf_matrix, ROC]\n",
    "    return t_results\n"
   ]
  },
  {
   "cell_type": "code",
   "execution_count": null,
   "id": "3f8bc35d",
   "metadata": {},
   "outputs": [],
   "source": [
    "# Logistic Regression\n",
    "def Logistic_Regression(X_train, y_train, X_test):\n",
    "    from sklearn.linear_model import LogisticRegression\n",
    "    c_range = [0.001,0.01,0.1,1,10,100]\n",
    "    results = {}\n",
    "    for c in c_range:\n",
    "        lgreg = LogisticRegression(C = c, class_weight = {0:.91, 1:.09})\n",
    "        lgreg.fit(X_arr_train, y_arr_train)\n",
    "        predlgreg = lgreg.predict(X_arr_test)\n",
    "        results[c] = predlgreg\n",
    "    return results    \n"
   ]
  },
  {
   "cell_type": "code",
   "execution_count": null,
   "id": "4337bcc4",
   "metadata": {},
   "outputs": [],
   "source": [
    "# Arrival Logistic Regression\n",
    "lg_score = Logistic_Regression(X_arr_train, y_arr_train, X_arr_test)"
   ]
  },
  {
   "cell_type": "code",
   "execution_count": null,
   "id": "38132edb",
   "metadata": {},
   "outputs": [],
   "source": [
    "t_arr_results_0 = iterable_testing_results('Logistic Regression', y_arr_test, lg_score, t_results)"
   ]
  },
  {
   "cell_type": "code",
   "execution_count": null,
   "id": "876a7527",
   "metadata": {},
   "outputs": [],
   "source": [
    "# Random Forest Classifier\n",
    "def Random_Forest(X_train, y_train, X_test):\n",
    "    from sklearn.ensemble import RandomForestClassifier\n",
    "    \n",
    "    rf=RandomForestClassifier(max_depth=5, min_samples_leaf=5, min_samples_split=12, random_state=42)\n",
    "    rf.fit(X_train, y_train)\n",
    "    rf_y_pred = rf.predict(X_test)\n",
    "    return [rf_y_pred, rf] \n",
    "\n"
   ]
  },
  {
   "cell_type": "code",
   "execution_count": null,
   "id": "5c11d7df",
   "metadata": {},
   "outputs": [],
   "source": [
    "#Arrival Random Forest\n",
    "rf_results = Random_Forest(X_arr_train, y_arr_train, X_arr_test)"
   ]
  },
  {
   "cell_type": "code",
   "execution_count": null,
   "id": "c97dca3a",
   "metadata": {},
   "outputs": [],
   "source": [
    "t_arr_results_1 = testing_results('Random Forest Classifier', y_arr_test, rf_results[0], t_results)"
   ]
  },
  {
   "cell_type": "code",
   "execution_count": null,
   "id": "9d84a07d",
   "metadata": {},
   "outputs": [],
   "source": [
    "# Decision Tree Classifier\n",
    "def Decision_Tree_Classifier(X_train, y_train, X_test):\n",
    "    from sklearn.tree import DecisionTreeClassifier\n",
    "    DTC = DecisionTreeClassifier(criterion = 'gini', random_state = 42, max_depth = 3, min_samples_leaf=5)\n",
    "    DTC.fit(X_train, y_train)\n",
    "    DTC_y_predict = DTC.predict(X_test)\n",
    "    return DTC_y_predict\n"
   ]
  },
  {
   "cell_type": "code",
   "execution_count": null,
   "id": "7eef93d3",
   "metadata": {},
   "outputs": [],
   "source": [
    "DTC_y_predict = Decision_Tree_Classifier(X_arr_train, y_arr_train, X_arr_test)"
   ]
  },
  {
   "cell_type": "code",
   "execution_count": null,
   "id": "11301230",
   "metadata": {},
   "outputs": [],
   "source": [
    "t_arr_results_2 = testing_results('Decision Tree Classifier', y_arr_test, DTC_y_predict, t_arr_results_1)"
   ]
  },
  {
   "cell_type": "code",
   "execution_count": null,
   "id": "656fefb0",
   "metadata": {},
   "outputs": [],
   "source": [
    "# Naive Bayes Gaussian NB\n",
    "def NBG (X_train, y_train, X_test):\n",
    "    from sklearn.naive_bayes import GaussianNB\n",
    "    gaussian = GaussianNB()\n",
    "    gaussian.fit(X_train, y_train)\n",
    "    gaus_pred = gaussian.predict(X_test)\n",
    "    return gaus_pred"
   ]
  },
  {
   "cell_type": "code",
   "execution_count": null,
   "id": "e071593d",
   "metadata": {},
   "outputs": [],
   "source": [
    "gaus_pred = NBG(X_arr_train, y_arr_train, X_arr_test)"
   ]
  },
  {
   "cell_type": "code",
   "execution_count": null,
   "id": "45953a44",
   "metadata": {},
   "outputs": [],
   "source": [
    "t_arr_results_3 = testing_results('Naive Bayes Gaussian', y_arr_test, gaus_pred, t_arr_results_2)"
   ]
  },
  {
   "cell_type": "code",
   "execution_count": null,
   "id": "412a0197",
   "metadata": {},
   "outputs": [],
   "source": [
    "# Gradient Boosting\n",
    "def Grad_Boosting(X_train, y_train, X_test):\n",
    "    from sklearn.ensemble import ExtraTreesClassifier, GradientBoostingClassifier\n",
    "    gbc = GradientBoostingClassifier(subsample=0.8, learning_rate=0.05 , n_estimators=160, random_state=5, max_depth=9, max_leaf_nodes=100)\n",
    "    gbc.fit(X_arr_train, y_arr_train)\n",
    "\n",
    "    #Predict using the model:\n",
    "\n",
    "    y_predict_gbc = gbc.predict(X_arr_test)\n",
    "    return  y_predict_gbc"
   ]
  },
  {
   "cell_type": "code",
   "execution_count": null,
   "id": "37c31f3e",
   "metadata": {},
   "outputs": [],
   "source": [
    "y_predict_gbc = Grad_Boosting(X_arr_train, y_arr_train, X_arr_test)"
   ]
  },
  {
   "cell_type": "code",
   "execution_count": null,
   "id": "ce786600",
   "metadata": {},
   "outputs": [],
   "source": [
    "t_arr_results_4 = testing_results('Gradient Boosting', y_arr_test, y_predict_gbc, t_arr_results_3)"
   ]
  },
  {
   "cell_type": "code",
   "execution_count": null,
   "id": "d8dd936a",
   "metadata": {},
   "outputs": [],
   "source": [
    "# KNeighbor Classifier\n",
    "def knn(X_train,y_train, X_test):\n",
    "    from sklearn.neighbors import KNeighborsClassifier\n",
    "    score = {}\n",
    "    for n in range (1,5):\n",
    "        knn = KNeighborsClassifier(n_neighbors = (n), weights = 'distance')\n",
    "        knn.fit(X_train,y_train)\n",
    "        y_pred_class = knn.predict(X_test)\n",
    "        score[n] = y_pred_class\n",
    "    \n",
    "    return score\n"
   ]
  },
  {
   "cell_type": "code",
   "execution_count": null,
   "id": "b7243a2a",
   "metadata": {},
   "outputs": [],
   "source": [
    "knn_score = knn(X_arr_train, y_arr_train, X_arr_test)\n"
   ]
  },
  {
   "cell_type": "code",
   "execution_count": null,
   "id": "c176efa4",
   "metadata": {},
   "outputs": [],
   "source": [
    "t_arr_results_5 = iterable_testing_results('K Neighbor', y_arr_test, knn_score, t_arr_results_4)"
   ]
  },
  {
   "cell_type": "markdown",
   "id": "ed046bc2",
   "metadata": {},
   "source": [
    "# Machine Learning Analysis"
   ]
  },
  {
   "cell_type": "code",
   "execution_count": null,
   "id": "f1574f20",
   "metadata": {},
   "outputs": [],
   "source": [
    "# t_results[test_name] = [acc_score, class_report, conf_matrix, ROC]\n",
    "t_results = t_arr_results_5\n",
    "ml = list(t_results.keys())\n",
    "result_values = list(t_results.values())\n",
    "acc_scores_analysis = []\n",
    "class_report_analysis = []\n",
    "conf_matrix_analysis = []\n",
    "ROC_analysis= []\n",
    "for lists in result_values:\n",
    "    acc_scores_analysis.append(lists[0])\n",
    "    class_report_analysis.append(lists[1])\n",
    "    conf_matrix_analysis.append(lists[2])\n",
    "    ROC_analysis.append(lists[3])\n",
    "\n",
    "\n"
   ]
  },
  {
   "cell_type": "code",
   "execution_count": null,
   "id": "f63b7138",
   "metadata": {},
   "outputs": [],
   "source": [
    "\n",
    "# Create a graph to compare the accuracy of each model\n",
    "fig = plt.figure()\n",
    "ax = fig.add_axes([0,0,1,1])\n",
    "ax.bar(ml, acc_scores_analysis)\n",
    "plt.setp(ax.get_xticklabels(), rotation = 'vertical')\n",
    "plt.title('Accuracy Score by ML Algorithm')\n",
    "\n",
    "plt.show"
   ]
  },
  {
   "cell_type": "code",
   "execution_count": null,
   "id": "3ccbca53",
   "metadata": {},
   "outputs": [],
   "source": [
    "# Bar graph of ROC_AUC scores\n",
    "fig = plt.figure()\n",
    "ax = fig.add_axes([0,0,1,1])\n",
    "ax.bar(ml, ROC_analysis)\n",
    "plt.setp(ax.get_xticklabels(), rotation = 'vertical')\n",
    "plt.title('ROC_AUC scores by ML Algoritm')\n",
    "\n",
    "plt.show\n",
    "\n"
   ]
  },
  {
   "cell_type": "code",
   "execution_count": null,
   "id": "3aeffa5a",
   "metadata": {},
   "outputs": [],
   "source": [
    "# Going to use RandomizedSearchCV to try to optomize the parameters. Tried to use GridSearchCV as well but it is too computation\n",
    "# intensive. I added different score types as a paramter as well. \n",
    "# However, I am still using ROC_AUC scoring for the final evaluation.\n",
    " \n",
    "\n",
    "type_score = [\n",
    " 'adjusted_mutual_info_score',\n",
    " 'f1',\n",
    " 'fowlkes_mallows_score',\n",
    " 'jaccard',\n",
    " 'neg_brier_score',\n",
    " 'precision',\n",
    " 'precision_macro',\n",
    " 'r2',\n",
    " 'rand_score',\n",
    " 'roc_auc',\n",
    " 'roc_auc_ovo',\n",
    " 'roc_auc_ovo_weighted',\n",
    " 'roc_auc_ovr',\n",
    " 'roc_auc_ovr_weighted',\n",
    " 'top_k_accuracy',\n",
    " 'v_measure_score']\n",
    "\n",
    "from sklearn.model_selection import RandomizedSearchCV\n",
    "from sklearn.ensemble import RandomForestClassifier\n",
    "spectrum = {}\n",
    "\n",
    "for algo in type_score:\n",
    "    print(algo)\n",
    "    param_grid = { \"criterion\" : [\"gini\", \"entropy\"], \"min_samples_leaf\" : [1, 5, 10], \"min_samples_split\" : [2, 4, 10,12,16], \"n_estimators\": [50, 100,400,700,1000]}\n",
    "\n",
    "    RSCV = RandomizedSearchCV(estimator=rf_results[1], param_distributions=param_grid, scoring= algo, cv=3, n_jobs=-1)\n",
    "\n",
    "    RSCV_results = RSCV.fit(X_arr_train, y_arr_train)\n",
    "\n",
    "    rf=RandomForestClassifier(**RSCV.best_params_)\n",
    "    rf.fit(X_arr_train, y_arr_train)\n",
    "    rf_y_pred = rf.predict(X_arr_test)\n",
    "    ROC_test =roc_auc_score(y_arr_test, rf_y_pred)\n",
    "\n",
    " \n",
    "    \n",
    "    print(ROC_test)\n",
    "    spectrum[algo] = [RSCV.best_params_, ROC_test]"
   ]
  },
  {
   "cell_type": "code",
   "execution_count": null,
   "id": "40377489",
   "metadata": {},
   "outputs": [],
   "source": [
    "feature_scores = pd.Series(rf_results[1].feature_importances_, index = X_arr_train.columns).sort_values(ascending = False)"
   ]
  },
  {
   "cell_type": "code",
   "execution_count": null,
   "id": "a16663ff",
   "metadata": {},
   "outputs": [],
   "source": [
    "# Eliminating all columns with 0 value.\n",
    "feature_scores = feature_scores[feature_scores >0]"
   ]
  },
  {
   "cell_type": "code",
   "execution_count": null,
   "id": "570c158c",
   "metadata": {},
   "outputs": [],
   "source": [
    "def min_feature_scores(feature_scores, rf_results, t_arr_results_5, df_arr, y_arr):\n",
    "    roc_score = t_arr_results_5['Random Forest Classifier'][-1] * 100\n",
    "    n = 100\n",
    "    t_results = {}\n",
    "    # final_score will keep track of the columns dropped.\n",
    "    final_score = {}\n",
    "    while n >= roc_score:\n",
    "        column_drop = feature_scores.idxmin()\n",
    "        df = df_arr.drop(columns = column_drop)\n",
    "        X_arr_train, X_arr_test, y_arr_train, y_arr_test = train_test_split(df_arr, y_arr, test_size = .33, random_state = 42)\n",
    "        smoted = create_smote(X_arr_train, y_arr_train)\n",
    "        X_arr_train = smoted[0]\n",
    "        y_arr_train = smoted[1]\n",
    "        results = Random_Forest(X_arr_train, y_arr_train, X_arr_test)\n",
    "        test_results =  testing_results('Random Forest Classifier', y_arr_test, results[0], t_results)\n",
    "        n = test_results['Random Forest Classifier'][-1] * 100\n",
    "        final_score[column_drop] = [n]\n",
    "        if n>= roc_score:\n",
    "            roc_score = n\n",
    "            df_arr = df\n",
    "            feature_scores = pd.Series(results[1].feature_importances_, index = X_arr_train.columns).sort_values(ascending = False)\n",
    "            final_score[column_drop].append(feature_scores)\n",
    "    return [df, final_score]\n",
    "        \n",
    "     "
   ]
  },
  {
   "cell_type": "code",
   "execution_count": null,
   "id": "5c9f29ce",
   "metadata": {},
   "outputs": [],
   "source": [
    "best_df = min_feature_scores(feature_scores, rf_results, t_arr_results_5, df_arr, y_arr)\n"
   ]
  },
  {
   "cell_type": "code",
   "execution_count": null,
   "id": "40e3e689",
   "metadata": {},
   "outputs": [],
   "source": [
    "answer = list(best_df[1].values())\n"
   ]
  },
  {
   "cell_type": "code",
   "execution_count": null,
   "id": "73749628",
   "metadata": {},
   "outputs": [],
   "source": [
    "ganga = max(best_df[1].values())"
   ]
  },
  {
   "cell_type": "code",
   "execution_count": null,
   "id": "175bef1c",
   "metadata": {},
   "outputs": [],
   "source": [
    "feature_score = ganga[1]"
   ]
  },
  {
   "cell_type": "code",
   "execution_count": null,
   "id": "e9beedd5",
   "metadata": {},
   "outputs": [],
   "source": [
    "# Plot feature_scores\n",
    "feature_score.nlargest(20).plot(title= 'Feature Importance', xlabel = 'Features', kind = 'barh', ylabel = 'Relative Importance' )"
   ]
  },
  {
   "cell_type": "code",
   "execution_count": null,
   "id": "441803f4",
   "metadata": {},
   "outputs": [],
   "source": [
    "final_df = df_arr.drop(columns = 'ORIGIN_BNA')"
   ]
  },
  {
   "cell_type": "code",
   "execution_count": null,
   "id": "7c109b2b",
   "metadata": {},
   "outputs": [],
   "source": [
    "final_df.to_csv(r'C:\\data\\final_arr_df.csv')"
   ]
  },
  {
   "cell_type": "code",
   "execution_count": null,
   "id": "1ecd2c2b",
   "metadata": {},
   "outputs": [],
   "source": []
  },
  {
   "cell_type": "code",
   "execution_count": null,
   "id": "ccc63446",
   "metadata": {},
   "outputs": [],
   "source": []
  }
 ],
 "metadata": {
  "celltoolbar": "Raw Cell Format",
  "kernelspec": {
   "display_name": "Python 3 (ipykernel)",
   "language": "python",
   "name": "python3"
  },
  "language_info": {
   "codemirror_mode": {
    "name": "ipython",
    "version": 3
   },
   "file_extension": ".py",
   "mimetype": "text/x-python",
   "name": "python",
   "nbconvert_exporter": "python",
   "pygments_lexer": "ipython3",
   "version": "3.9.13"
  }
 },
 "nbformat": 4,
 "nbformat_minor": 5
}
