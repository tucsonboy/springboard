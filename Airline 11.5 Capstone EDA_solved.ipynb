{
 "cells": [
  {
   "cell_type": "code",
   "execution_count": 1,
   "id": "cfaf8b1c",
   "metadata": {},
   "outputs": [],
   "source": [
    "import numpy as np \n",
    "import pandas as pd \n",
    "import matplotlib.pyplot as plt \n",
    "import seaborn as sns\n",
    "\n",
    "# Show plots inline\n",
    "%matplotlib inline"
   ]
  },
  {
   "cell_type": "code",
   "execution_count": 2,
   "id": "cb54e86f",
   "metadata": {},
   "outputs": [],
   "source": [
    "# suppress future warnings\n",
    "import warnings\n",
    "warnings.simplefilter(action='ignore', category=FutureWarning)\n",
    "warnings.simplefilter(action='ignore', category=UserWarning)"
   ]
  },
  {
   "cell_type": "code",
   "execution_count": 3,
   "id": "050c9eed",
   "metadata": {},
   "outputs": [
    {
     "name": "stderr",
     "output_type": "stream",
     "text": [
      "C:\\Users\\tucso\\AppData\\Local\\Temp\\ipykernel_5408\\639176254.py:1: DtypeWarning: Columns (28,29,30) have mixed types. Specify dtype option on import or set low_memory=False.\n",
      "  df = pd.read_csv(r'C:\\Airline data\\mia_data.csv')\n"
     ]
    }
   ],
   "source": [
    "df = pd.read_csv(r'C:\\Airline data\\mia_data.csv')"
   ]
  },
  {
   "cell_type": "code",
   "execution_count": 4,
   "id": "a47c44bd",
   "metadata": {},
   "outputs": [
    {
     "data": {
      "text/html": [
       "<div>\n",
       "<style scoped>\n",
       "    .dataframe tbody tr th:only-of-type {\n",
       "        vertical-align: middle;\n",
       "    }\n",
       "\n",
       "    .dataframe tbody tr th {\n",
       "        vertical-align: top;\n",
       "    }\n",
       "\n",
       "    .dataframe thead th {\n",
       "        text-align: right;\n",
       "    }\n",
       "</style>\n",
       "<table border=\"1\" class=\"dataframe\">\n",
       "  <thead>\n",
       "    <tr style=\"text-align: right;\">\n",
       "      <th></th>\n",
       "      <th>Unnamed: 0</th>\n",
       "      <th>YEAR</th>\n",
       "      <th>QUARTER</th>\n",
       "      <th>MONTH</th>\n",
       "      <th>DAY_OF_MONTH</th>\n",
       "      <th>DAY_OF_WEEK</th>\n",
       "      <th>FL_DATE</th>\n",
       "      <th>OP_CARRIER_FL_NUM</th>\n",
       "      <th>ORIGIN</th>\n",
       "      <th>DEST</th>\n",
       "      <th>...</th>\n",
       "      <th>CARRIER_DELAY</th>\n",
       "      <th>WEATHER_DELAY</th>\n",
       "      <th>NAS_DELAY</th>\n",
       "      <th>SECURITY_DELAY</th>\n",
       "      <th>LATE_AIRCRAFT_DELAY</th>\n",
       "      <th>OP_CARRIER</th>\n",
       "      <th>ORIGIN_CITY_NAME</th>\n",
       "      <th>DEST_CITY_NAME</th>\n",
       "      <th>DEP_DEL15</th>\n",
       "      <th>DEP_DELAY_GROUP</th>\n",
       "    </tr>\n",
       "  </thead>\n",
       "  <tbody>\n",
       "    <tr>\n",
       "      <th>223678</th>\n",
       "      <td>612</td>\n",
       "      <td>2016</td>\n",
       "      <td>2</td>\n",
       "      <td>6</td>\n",
       "      <td>22</td>\n",
       "      <td>3.0</td>\n",
       "      <td>6/22/2016 12:00:00 AM</td>\n",
       "      <td>1044</td>\n",
       "      <td>IAH</td>\n",
       "      <td>MIA</td>\n",
       "      <td>...</td>\n",
       "      <td>0.0</td>\n",
       "      <td>0.0</td>\n",
       "      <td>0.0</td>\n",
       "      <td>0.0</td>\n",
       "      <td>0.0</td>\n",
       "      <td>NaN</td>\n",
       "      <td>NaN</td>\n",
       "      <td>NaN</td>\n",
       "      <td>NaN</td>\n",
       "      <td>NaN</td>\n",
       "    </tr>\n",
       "  </tbody>\n",
       "</table>\n",
       "<p>1 rows × 33 columns</p>\n",
       "</div>"
      ],
      "text/plain": [
       "        Unnamed: 0  YEAR  QUARTER  MONTH  DAY_OF_MONTH  DAY_OF_WEEK  \\\n",
       "223678         612  2016        2      6            22          3.0   \n",
       "\n",
       "                      FL_DATE  OP_CARRIER_FL_NUM ORIGIN DEST  ...  \\\n",
       "223678  6/22/2016 12:00:00 AM               1044    IAH  MIA  ...   \n",
       "\n",
       "        CARRIER_DELAY  WEATHER_DELAY  NAS_DELAY  SECURITY_DELAY  \\\n",
       "223678            0.0            0.0        0.0             0.0   \n",
       "\n",
       "        LATE_AIRCRAFT_DELAY  OP_CARRIER  ORIGIN_CITY_NAME  DEST_CITY_NAME  \\\n",
       "223678                  0.0         NaN               NaN             NaN   \n",
       "\n",
       "        DEP_DEL15 DEP_DELAY_GROUP  \n",
       "223678        NaN             NaN  \n",
       "\n",
       "[1 rows x 33 columns]"
      ]
     },
     "execution_count": 4,
     "metadata": {},
     "output_type": "execute_result"
    }
   ],
   "source": [
    "df.sample()"
   ]
  },
  {
   "cell_type": "code",
   "execution_count": 5,
   "id": "59092c76",
   "metadata": {
    "scrolled": true
   },
   "outputs": [],
   "source": [
    "#These columns are not needed.\n",
    "\n",
    "to_delete = ['ORIGIN_CITY_NAME', 'DEST_CITY_NAME', 'DEP_DEL15','DEP_DELAY_GROUP']\n",
    "df.drop(to_delete, axis = 1, inplace = True)\n"
   ]
  },
  {
   "cell_type": "code",
   "execution_count": 6,
   "id": "37e3ebf3",
   "metadata": {},
   "outputs": [],
   "source": [
    "df.keys()\n",
    "df.drop('QUARTER', axis = 1, inplace = True)"
   ]
  },
  {
   "cell_type": "code",
   "execution_count": 7,
   "id": "342c82a2",
   "metadata": {},
   "outputs": [],
   "source": [
    "\n",
    "df['WHY_DELAY']=''"
   ]
  },
  {
   "cell_type": "code",
   "execution_count": 8,
   "id": "be135140",
   "metadata": {},
   "outputs": [
    {
     "data": {
      "text/plain": [
       "Index(['Unnamed: 0', 'YEAR', 'MONTH', 'DAY_OF_MONTH', 'DAY_OF_WEEK', 'FL_DATE',\n",
       "       'OP_CARRIER_FL_NUM', 'ORIGIN', 'DEST', 'CRS_DEP_TIME', 'DEP_TIME',\n",
       "       'DEP_DELAY', 'DEP_DELAY_NEW', 'CRS_ARR_TIME', 'ARR_TIME', 'ARR_DELAY',\n",
       "       'ARR_DELAY_NEW', 'CANCELLED', 'CANCELLATION_CODE', 'DIVERTED',\n",
       "       'CRS_ELAPSED_TIME', 'ACTUAL_ELAPSED_TIME', 'CARRIER_DELAY',\n",
       "       'WEATHER_DELAY', 'NAS_DELAY', 'SECURITY_DELAY', 'LATE_AIRCRAFT_DELAY',\n",
       "       'OP_CARRIER', 'WHY_DELAY'],\n",
       "      dtype='object')"
      ]
     },
     "execution_count": 8,
     "metadata": {},
     "output_type": "execute_result"
    }
   ],
   "source": [
    "df.keys()"
   ]
  },
  {
   "cell_type": "code",
   "execution_count": 9,
   "id": "782760bb",
   "metadata": {},
   "outputs": [],
   "source": [
    "#assiging value to WHY_DELAY column based on what caused the delay.\n",
    "\n",
    "conditions = [df['CARRIER_DELAY']>0, df['WEATHER_DELAY']>0, df['NAS_DELAY']>0, df['SECURITY_DELAY']>0, df['LATE_AIRCRAFT_DELAY']>0]\n",
    "choices = ['carrier', 'weather', 'nas', 'security', 'late aircraft']\n",
    "df['WHY_DELAY'] = np.select(conditions, choices,)"
   ]
  },
  {
   "cell_type": "code",
   "execution_count": 10,
   "id": "86a9b7a5",
   "metadata": {},
   "outputs": [
    {
     "data": {
      "text/html": [
       "<style type=\"text/css\">\n",
       "#T_9d4dc_row0_col0 {\n",
       "  width: 10em;\n",
       "  background: linear-gradient(90deg, #d65f5f 100.0%, transparent 100.0%);\n",
       "}\n",
       "#T_9d4dc_row1_col0 {\n",
       "  width: 10em;\n",
       "  background: linear-gradient(90deg, #d65f5f 14.8%, transparent 14.8%);\n",
       "}\n",
       "#T_9d4dc_row2_col0 {\n",
       "  width: 10em;\n",
       "  background: linear-gradient(90deg, #d65f5f 8.2%, transparent 8.2%);\n",
       "}\n",
       "#T_9d4dc_row3_col0 {\n",
       "  width: 10em;\n",
       "  background: linear-gradient(90deg, #d65f5f 3.1%, transparent 3.1%);\n",
       "}\n",
       "#T_9d4dc_row4_col0 {\n",
       "  width: 10em;\n",
       "  background: linear-gradient(90deg, #d65f5f 2.4%, transparent 2.4%);\n",
       "}\n",
       "#T_9d4dc_row5_col0 {\n",
       "  width: 10em;\n",
       "  background: linear-gradient(90deg, #d65f5f 0.1%, transparent 0.1%);\n",
       "}\n",
       "</style>\n",
       "<table id=\"T_9d4dc\">\n",
       "  <thead>\n",
       "    <tr>\n",
       "      <th class=\"blank level0\" >&nbsp;</th>\n",
       "      <th id=\"T_9d4dc_level0_col0\" class=\"col_heading level0 col0\" >WHY_DELAY</th>\n",
       "    </tr>\n",
       "  </thead>\n",
       "  <tbody>\n",
       "    <tr>\n",
       "      <th id=\"T_9d4dc_level0_row0\" class=\"row_heading level0 row0\" >0</th>\n",
       "      <td id=\"T_9d4dc_row0_col0\" class=\"data row0 col0\" >573448</td>\n",
       "    </tr>\n",
       "    <tr>\n",
       "      <th id=\"T_9d4dc_level0_row1\" class=\"row_heading level0 row1\" >carrier</th>\n",
       "      <td id=\"T_9d4dc_row1_col0\" class=\"data row1 col0\" >84593</td>\n",
       "    </tr>\n",
       "    <tr>\n",
       "      <th id=\"T_9d4dc_level0_row2\" class=\"row_heading level0 row2\" >nas</th>\n",
       "      <td id=\"T_9d4dc_row2_col0\" class=\"data row2 col0\" >46935</td>\n",
       "    </tr>\n",
       "    <tr>\n",
       "      <th id=\"T_9d4dc_level0_row3\" class=\"row_heading level0 row3\" >weather</th>\n",
       "      <td id=\"T_9d4dc_row3_col0\" class=\"data row3 col0\" >17749</td>\n",
       "    </tr>\n",
       "    <tr>\n",
       "      <th id=\"T_9d4dc_level0_row4\" class=\"row_heading level0 row4\" >late aircraft</th>\n",
       "      <td id=\"T_9d4dc_row4_col0\" class=\"data row4 col0\" >13627</td>\n",
       "    </tr>\n",
       "    <tr>\n",
       "      <th id=\"T_9d4dc_level0_row5\" class=\"row_heading level0 row5\" >security</th>\n",
       "      <td id=\"T_9d4dc_row5_col0\" class=\"data row5 col0\" >300</td>\n",
       "    </tr>\n",
       "  </tbody>\n",
       "</table>\n"
      ],
      "text/plain": [
       "<pandas.io.formats.style.Styler at 0x2395dbeef40>"
      ]
     },
     "execution_count": 10,
     "metadata": {},
     "output_type": "execute_result"
    }
   ],
   "source": [
    "#create bar graph based on why flights were delayed.\n",
    "df.WHY_DELAY.value_counts().to_frame().style.bar()"
   ]
  },
  {
   "cell_type": "code",
   "execution_count": 11,
   "id": "79cf94d2",
   "metadata": {
    "scrolled": true
   },
   "outputs": [
    {
     "data": {
      "text/html": [
       "<div>\n",
       "<style scoped>\n",
       "    .dataframe tbody tr th:only-of-type {\n",
       "        vertical-align: middle;\n",
       "    }\n",
       "\n",
       "    .dataframe tbody tr th {\n",
       "        vertical-align: top;\n",
       "    }\n",
       "\n",
       "    .dataframe thead th {\n",
       "        text-align: right;\n",
       "    }\n",
       "</style>\n",
       "<table border=\"1\" class=\"dataframe\">\n",
       "  <thead>\n",
       "    <tr style=\"text-align: right;\">\n",
       "      <th></th>\n",
       "      <th>Unnamed: 0</th>\n",
       "      <th>YEAR</th>\n",
       "      <th>MONTH</th>\n",
       "      <th>DAY_OF_MONTH</th>\n",
       "      <th>DAY_OF_WEEK</th>\n",
       "      <th>FL_DATE</th>\n",
       "      <th>OP_CARRIER_FL_NUM</th>\n",
       "      <th>ORIGIN</th>\n",
       "      <th>DEST</th>\n",
       "      <th>CRS_DEP_TIME</th>\n",
       "      <th>...</th>\n",
       "      <th>DIVERTED</th>\n",
       "      <th>CRS_ELAPSED_TIME</th>\n",
       "      <th>ACTUAL_ELAPSED_TIME</th>\n",
       "      <th>CARRIER_DELAY</th>\n",
       "      <th>WEATHER_DELAY</th>\n",
       "      <th>NAS_DELAY</th>\n",
       "      <th>SECURITY_DELAY</th>\n",
       "      <th>LATE_AIRCRAFT_DELAY</th>\n",
       "      <th>OP_CARRIER</th>\n",
       "      <th>WHY_DELAY</th>\n",
       "    </tr>\n",
       "  </thead>\n",
       "  <tbody>\n",
       "    <tr>\n",
       "      <th>37520</th>\n",
       "      <td>71209</td>\n",
       "      <td>2012</td>\n",
       "      <td>5</td>\n",
       "      <td>10</td>\n",
       "      <td>4.0</td>\n",
       "      <td>5/10/2012 12:00:00 AM</td>\n",
       "      <td>3741</td>\n",
       "      <td>IAD</td>\n",
       "      <td>MIA</td>\n",
       "      <td>802</td>\n",
       "      <td>...</td>\n",
       "      <td>0.0</td>\n",
       "      <td>158.0</td>\n",
       "      <td>146.0</td>\n",
       "      <td>0.0</td>\n",
       "      <td>0.0</td>\n",
       "      <td>0.0</td>\n",
       "      <td>0.0</td>\n",
       "      <td>0.0</td>\n",
       "      <td>NaN</td>\n",
       "      <td>0</td>\n",
       "    </tr>\n",
       "  </tbody>\n",
       "</table>\n",
       "<p>1 rows × 29 columns</p>\n",
       "</div>"
      ],
      "text/plain": [
       "       Unnamed: 0  YEAR  MONTH  DAY_OF_MONTH  DAY_OF_WEEK  \\\n",
       "37520       71209  2012      5            10          4.0   \n",
       "\n",
       "                     FL_DATE  OP_CARRIER_FL_NUM ORIGIN DEST  CRS_DEP_TIME  \\\n",
       "37520  5/10/2012 12:00:00 AM               3741    IAD  MIA           802   \n",
       "\n",
       "       ...  DIVERTED  CRS_ELAPSED_TIME  ACTUAL_ELAPSED_TIME  CARRIER_DELAY  \\\n",
       "37520  ...       0.0             158.0                146.0            0.0   \n",
       "\n",
       "       WEATHER_DELAY  NAS_DELAY  SECURITY_DELAY  LATE_AIRCRAFT_DELAY  \\\n",
       "37520            0.0        0.0             0.0                  0.0   \n",
       "\n",
       "      OP_CARRIER  WHY_DELAY  \n",
       "37520        NaN          0  \n",
       "\n",
       "[1 rows x 29 columns]"
      ]
     },
     "execution_count": 11,
     "metadata": {},
     "output_type": "execute_result"
    }
   ],
   "source": [
    "df.sample()"
   ]
  },
  {
   "cell_type": "code",
   "execution_count": 12,
   "id": "eb4e5d1d",
   "metadata": {},
   "outputs": [],
   "source": [
    "# Column FL_DATE time is wrong all times are set to midnight. I am going to get delete it to avoid further confusion.\n",
    "df.drop('FL_DATE', axis = 1, inplace = True)"
   ]
  },
  {
   "cell_type": "code",
   "execution_count": 13,
   "id": "5f965371",
   "metadata": {},
   "outputs": [
    {
     "data": {
      "text/plain": [
       "Index(['Unnamed: 0', 'YEAR', 'MONTH', 'DAY_OF_MONTH', 'DAY_OF_WEEK',\n",
       "       'OP_CARRIER_FL_NUM', 'ORIGIN', 'DEST', 'CRS_DEP_TIME', 'DEP_TIME',\n",
       "       'DEP_DELAY', 'DEP_DELAY_NEW', 'CRS_ARR_TIME', 'ARR_TIME', 'ARR_DELAY',\n",
       "       'ARR_DELAY_NEW', 'CANCELLED', 'CANCELLATION_CODE', 'DIVERTED',\n",
       "       'CRS_ELAPSED_TIME', 'ACTUAL_ELAPSED_TIME', 'CARRIER_DELAY',\n",
       "       'WEATHER_DELAY', 'NAS_DELAY', 'SECURITY_DELAY', 'LATE_AIRCRAFT_DELAY',\n",
       "       'OP_CARRIER', 'WHY_DELAY'],\n",
       "      dtype='object')"
      ]
     },
     "execution_count": 13,
     "metadata": {},
     "output_type": "execute_result"
    }
   ],
   "source": [
    "df.keys()"
   ]
  },
  {
   "cell_type": "code",
   "execution_count": 14,
   "id": "95772552",
   "metadata": {},
   "outputs": [],
   "source": [
    "#Going to create DATE column by combining 'Year', 'Month', 'Day_of_Month'\n",
    "df['DAY'] =df['DAY_OF_MONTH']\n"
   ]
  },
  {
   "cell_type": "code",
   "execution_count": 15,
   "id": "fe248dc4",
   "metadata": {},
   "outputs": [],
   "source": [
    "df['DATE']=pd.to_datetime(df[['YEAR', 'MONTH','DAY']])"
   ]
  },
  {
   "cell_type": "code",
   "execution_count": 16,
   "id": "f1b90ebb",
   "metadata": {},
   "outputs": [],
   "source": [
    "df.drop('DAY_OF_MONTH', axis = 1, inplace = True)\n"
   ]
  },
  {
   "cell_type": "code",
   "execution_count": 17,
   "id": "6fe01613",
   "metadata": {},
   "outputs": [
    {
     "data": {
      "text/plain": [
       "Index(['Unnamed: 0', 'YEAR', 'MONTH', 'DAY_OF_WEEK', 'OP_CARRIER_FL_NUM',\n",
       "       'ORIGIN', 'DEST', 'CRS_DEP_TIME', 'DEP_TIME', 'DEP_DELAY',\n",
       "       'DEP_DELAY_NEW', 'CRS_ARR_TIME', 'ARR_TIME', 'ARR_DELAY',\n",
       "       'ARR_DELAY_NEW', 'CANCELLED', 'CANCELLATION_CODE', 'DIVERTED',\n",
       "       'CRS_ELAPSED_TIME', 'ACTUAL_ELAPSED_TIME', 'CARRIER_DELAY',\n",
       "       'WEATHER_DELAY', 'NAS_DELAY', 'SECURITY_DELAY', 'LATE_AIRCRAFT_DELAY',\n",
       "       'OP_CARRIER', 'WHY_DELAY', 'DAY', 'DATE'],\n",
       "      dtype='object')"
      ]
     },
     "execution_count": 17,
     "metadata": {},
     "output_type": "execute_result"
    }
   ],
   "source": [
    "df.keys()"
   ]
  },
  {
   "cell_type": "code",
   "execution_count": 18,
   "id": "b522c767",
   "metadata": {},
   "outputs": [
    {
     "data": {
      "text/plain": [
       "0         1840\n",
       "1         1840\n",
       "2         1840\n",
       "3         1840\n",
       "4         1840\n",
       "          ... \n",
       "736647    1016\n",
       "736648      12\n",
       "736649    1627\n",
       "736650     955\n",
       "736651    1538\n",
       "Name: CRS_ARR_TIME, Length: 736652, dtype: int64"
      ]
     },
     "execution_count": 18,
     "metadata": {},
     "output_type": "execute_result"
    }
   ],
   "source": [
    "#This column I want to convert to a time stamp. However, I am having problems because the data is not in the proper format.\n",
    "df.CRS_ARR_TIME"
   ]
  },
  {
   "cell_type": "code",
   "execution_count": 19,
   "id": "c73c372b",
   "metadata": {},
   "outputs": [
    {
     "data": {
      "text/plain": [
       "0         1535\n",
       "1         1535\n",
       "2         1535\n",
       "3         1535\n",
       "4         1535\n",
       "          ... \n",
       "736647     725\n",
       "736648    2225\n",
       "736649    1346\n",
       "736650     806\n",
       "736651    1345\n",
       "Name: CRS_DEP_TIME, Length: 736652, dtype: int64"
      ]
     },
     "execution_count": 19,
     "metadata": {},
     "output_type": "execute_result"
    }
   ],
   "source": [
    "#This column I want to convert to a time stamp. However, I am having problems because the data is not in the proper format.\n",
    "df.CRS_DEP_TIME"
   ]
  },
  {
   "cell_type": "code",
   "execution_count": 20,
   "id": "ce1a0619",
   "metadata": {},
   "outputs": [],
   "source": [
    "import datetime as datetime\n",
    "#_________________________________________________________\n",
    "# Function that convert the 'HHMM' string to datetime.time\n",
    "def format_heure(chaine):\n",
    "    if pd.isnull(chaine):\n",
    "        return np.nan\n",
    "    else:\n",
    "        if chaine == 2400: chaine = 0\n",
    "        chaine = \"{0:04d}\".format(int(chaine))\n",
    "        heure = datetime.time(int(chaine[0:2]), int(chaine[2:4]))\n",
    "        return heure\n",
    "#_____________________________________________________________________\n",
    "# Function that combines a date and time to produce a datetime.datetime\n",
    "def combine_date_heure(x):\n",
    "    if pd.isnull(x[0]) or pd.isnull(x[1]):\n",
    "        return np.nan\n",
    "    else:\n",
    "        return datetime.datetime.combine(x[0],x[1])\n",
    "#_______________________________________________________________________________\n",
    "# Function that combine two columns of the dataframe to create a datetime format\n",
    "def create_flight_time(df, col):    \n",
    "    liste = []\n",
    "    for index, cols in df[['DATE', col]].iterrows():    \n",
    "        if pd.isnull(cols[1]):\n",
    "            liste.append(np.nan)\n",
    "        elif float(cols[1]) == 2400:\n",
    "            cols[0] += datetime.timedelta(days=1)\n",
    "            cols[1] = datetime.time(0,0)\n",
    "            liste.append(combine_date_heure(cols))\n",
    "        else:\n",
    "            cols[1] = format_heure(cols[1])\n",
    "            liste.append(combine_date_heure(cols))\n",
    "    return pd.Series(liste)\n"
   ]
  },
  {
   "cell_type": "code",
   "execution_count": 21,
   "id": "cecddb58",
   "metadata": {},
   "outputs": [
    {
     "data": {
      "text/html": [
       "<div>\n",
       "<style scoped>\n",
       "    .dataframe tbody tr th:only-of-type {\n",
       "        vertical-align: middle;\n",
       "    }\n",
       "\n",
       "    .dataframe tbody tr th {\n",
       "        vertical-align: top;\n",
       "    }\n",
       "\n",
       "    .dataframe thead th {\n",
       "        text-align: right;\n",
       "    }\n",
       "</style>\n",
       "<table border=\"1\" class=\"dataframe\">\n",
       "  <thead>\n",
       "    <tr style=\"text-align: right;\">\n",
       "      <th></th>\n",
       "      <th>Unnamed: 0</th>\n",
       "      <th>YEAR</th>\n",
       "      <th>MONTH</th>\n",
       "      <th>DAY_OF_WEEK</th>\n",
       "      <th>OP_CARRIER_FL_NUM</th>\n",
       "      <th>ORIGIN</th>\n",
       "      <th>DEST</th>\n",
       "      <th>CRS_DEP_TIME</th>\n",
       "      <th>DEP_TIME</th>\n",
       "      <th>DEP_DELAY</th>\n",
       "      <th>...</th>\n",
       "      <th>ACTUAL_ELAPSED_TIME</th>\n",
       "      <th>CARRIER_DELAY</th>\n",
       "      <th>WEATHER_DELAY</th>\n",
       "      <th>NAS_DELAY</th>\n",
       "      <th>SECURITY_DELAY</th>\n",
       "      <th>LATE_AIRCRAFT_DELAY</th>\n",
       "      <th>OP_CARRIER</th>\n",
       "      <th>WHY_DELAY</th>\n",
       "      <th>DAY</th>\n",
       "      <th>DATE</th>\n",
       "    </tr>\n",
       "  </thead>\n",
       "  <tbody>\n",
       "    <tr>\n",
       "      <th>0</th>\n",
       "      <td>459</td>\n",
       "      <td>2010</td>\n",
       "      <td>5</td>\n",
       "      <td>6.0</td>\n",
       "      <td>674</td>\n",
       "      <td>STT</td>\n",
       "      <td>MIA</td>\n",
       "      <td>1535</td>\n",
       "      <td>1519.0</td>\n",
       "      <td>-16.0</td>\n",
       "      <td>...</td>\n",
       "      <td>196.0</td>\n",
       "      <td>0.0</td>\n",
       "      <td>0.0</td>\n",
       "      <td>0.0</td>\n",
       "      <td>0.0</td>\n",
       "      <td>0.0</td>\n",
       "      <td>NaN</td>\n",
       "      <td>0</td>\n",
       "      <td>1</td>\n",
       "      <td>2010-05-01</td>\n",
       "    </tr>\n",
       "    <tr>\n",
       "      <th>1</th>\n",
       "      <td>460</td>\n",
       "      <td>2010</td>\n",
       "      <td>5</td>\n",
       "      <td>7.0</td>\n",
       "      <td>674</td>\n",
       "      <td>STT</td>\n",
       "      <td>MIA</td>\n",
       "      <td>1535</td>\n",
       "      <td>1550.0</td>\n",
       "      <td>15.0</td>\n",
       "      <td>...</td>\n",
       "      <td>170.0</td>\n",
       "      <td>0.0</td>\n",
       "      <td>0.0</td>\n",
       "      <td>0.0</td>\n",
       "      <td>0.0</td>\n",
       "      <td>0.0</td>\n",
       "      <td>NaN</td>\n",
       "      <td>0</td>\n",
       "      <td>2</td>\n",
       "      <td>2010-05-02</td>\n",
       "    </tr>\n",
       "    <tr>\n",
       "      <th>2</th>\n",
       "      <td>461</td>\n",
       "      <td>2010</td>\n",
       "      <td>5</td>\n",
       "      <td>1.0</td>\n",
       "      <td>674</td>\n",
       "      <td>STT</td>\n",
       "      <td>MIA</td>\n",
       "      <td>1535</td>\n",
       "      <td>1550.0</td>\n",
       "      <td>15.0</td>\n",
       "      <td>...</td>\n",
       "      <td>176.0</td>\n",
       "      <td>0.0</td>\n",
       "      <td>0.0</td>\n",
       "      <td>0.0</td>\n",
       "      <td>0.0</td>\n",
       "      <td>0.0</td>\n",
       "      <td>NaN</td>\n",
       "      <td>0</td>\n",
       "      <td>3</td>\n",
       "      <td>2010-05-03</td>\n",
       "    </tr>\n",
       "    <tr>\n",
       "      <th>3</th>\n",
       "      <td>462</td>\n",
       "      <td>2010</td>\n",
       "      <td>5</td>\n",
       "      <td>2.0</td>\n",
       "      <td>674</td>\n",
       "      <td>STT</td>\n",
       "      <td>MIA</td>\n",
       "      <td>1535</td>\n",
       "      <td>1533.0</td>\n",
       "      <td>-2.0</td>\n",
       "      <td>...</td>\n",
       "      <td>176.0</td>\n",
       "      <td>0.0</td>\n",
       "      <td>0.0</td>\n",
       "      <td>0.0</td>\n",
       "      <td>0.0</td>\n",
       "      <td>0.0</td>\n",
       "      <td>NaN</td>\n",
       "      <td>0</td>\n",
       "      <td>4</td>\n",
       "      <td>2010-05-04</td>\n",
       "    </tr>\n",
       "    <tr>\n",
       "      <th>4</th>\n",
       "      <td>463</td>\n",
       "      <td>2010</td>\n",
       "      <td>5</td>\n",
       "      <td>3.0</td>\n",
       "      <td>674</td>\n",
       "      <td>STT</td>\n",
       "      <td>MIA</td>\n",
       "      <td>1535</td>\n",
       "      <td>1557.0</td>\n",
       "      <td>22.0</td>\n",
       "      <td>...</td>\n",
       "      <td>171.0</td>\n",
       "      <td>0.0</td>\n",
       "      <td>0.0</td>\n",
       "      <td>0.0</td>\n",
       "      <td>0.0</td>\n",
       "      <td>0.0</td>\n",
       "      <td>NaN</td>\n",
       "      <td>0</td>\n",
       "      <td>5</td>\n",
       "      <td>2010-05-05</td>\n",
       "    </tr>\n",
       "    <tr>\n",
       "      <th>5</th>\n",
       "      <td>464</td>\n",
       "      <td>2010</td>\n",
       "      <td>5</td>\n",
       "      <td>4.0</td>\n",
       "      <td>674</td>\n",
       "      <td>STT</td>\n",
       "      <td>MIA</td>\n",
       "      <td>1535</td>\n",
       "      <td>1605.0</td>\n",
       "      <td>30.0</td>\n",
       "      <td>...</td>\n",
       "      <td>166.0</td>\n",
       "      <td>0.0</td>\n",
       "      <td>0.0</td>\n",
       "      <td>0.0</td>\n",
       "      <td>0.0</td>\n",
       "      <td>0.0</td>\n",
       "      <td>NaN</td>\n",
       "      <td>0</td>\n",
       "      <td>6</td>\n",
       "      <td>2010-05-06</td>\n",
       "    </tr>\n",
       "    <tr>\n",
       "      <th>6</th>\n",
       "      <td>465</td>\n",
       "      <td>2010</td>\n",
       "      <td>5</td>\n",
       "      <td>5.0</td>\n",
       "      <td>674</td>\n",
       "      <td>STT</td>\n",
       "      <td>MIA</td>\n",
       "      <td>1535</td>\n",
       "      <td>1649.0</td>\n",
       "      <td>74.0</td>\n",
       "      <td>...</td>\n",
       "      <td>194.0</td>\n",
       "      <td>0.0</td>\n",
       "      <td>0.0</td>\n",
       "      <td>9.0</td>\n",
       "      <td>0.0</td>\n",
       "      <td>74.0</td>\n",
       "      <td>NaN</td>\n",
       "      <td>nas</td>\n",
       "      <td>7</td>\n",
       "      <td>2010-05-07</td>\n",
       "    </tr>\n",
       "    <tr>\n",
       "      <th>7</th>\n",
       "      <td>466</td>\n",
       "      <td>2010</td>\n",
       "      <td>5</td>\n",
       "      <td>6.0</td>\n",
       "      <td>674</td>\n",
       "      <td>STT</td>\n",
       "      <td>MIA</td>\n",
       "      <td>1535</td>\n",
       "      <td>1531.0</td>\n",
       "      <td>-4.0</td>\n",
       "      <td>...</td>\n",
       "      <td>196.0</td>\n",
       "      <td>0.0</td>\n",
       "      <td>0.0</td>\n",
       "      <td>0.0</td>\n",
       "      <td>0.0</td>\n",
       "      <td>0.0</td>\n",
       "      <td>NaN</td>\n",
       "      <td>0</td>\n",
       "      <td>8</td>\n",
       "      <td>2010-05-08</td>\n",
       "    </tr>\n",
       "    <tr>\n",
       "      <th>8</th>\n",
       "      <td>467</td>\n",
       "      <td>2010</td>\n",
       "      <td>5</td>\n",
       "      <td>7.0</td>\n",
       "      <td>674</td>\n",
       "      <td>STT</td>\n",
       "      <td>MIA</td>\n",
       "      <td>1535</td>\n",
       "      <td>1608.0</td>\n",
       "      <td>33.0</td>\n",
       "      <td>...</td>\n",
       "      <td>169.0</td>\n",
       "      <td>9.0</td>\n",
       "      <td>0.0</td>\n",
       "      <td>0.0</td>\n",
       "      <td>0.0</td>\n",
       "      <td>8.0</td>\n",
       "      <td>NaN</td>\n",
       "      <td>carrier</td>\n",
       "      <td>9</td>\n",
       "      <td>2010-05-09</td>\n",
       "    </tr>\n",
       "    <tr>\n",
       "      <th>9</th>\n",
       "      <td>468</td>\n",
       "      <td>2010</td>\n",
       "      <td>5</td>\n",
       "      <td>1.0</td>\n",
       "      <td>674</td>\n",
       "      <td>STT</td>\n",
       "      <td>MIA</td>\n",
       "      <td>1535</td>\n",
       "      <td>1531.0</td>\n",
       "      <td>-4.0</td>\n",
       "      <td>...</td>\n",
       "      <td>196.0</td>\n",
       "      <td>0.0</td>\n",
       "      <td>0.0</td>\n",
       "      <td>0.0</td>\n",
       "      <td>0.0</td>\n",
       "      <td>0.0</td>\n",
       "      <td>NaN</td>\n",
       "      <td>0</td>\n",
       "      <td>10</td>\n",
       "      <td>2010-05-10</td>\n",
       "    </tr>\n",
       "  </tbody>\n",
       "</table>\n",
       "<p>10 rows × 29 columns</p>\n",
       "</div>"
      ],
      "text/plain": [
       "   Unnamed: 0  YEAR  MONTH  DAY_OF_WEEK  OP_CARRIER_FL_NUM ORIGIN DEST  \\\n",
       "0         459  2010      5          6.0                674    STT  MIA   \n",
       "1         460  2010      5          7.0                674    STT  MIA   \n",
       "2         461  2010      5          1.0                674    STT  MIA   \n",
       "3         462  2010      5          2.0                674    STT  MIA   \n",
       "4         463  2010      5          3.0                674    STT  MIA   \n",
       "5         464  2010      5          4.0                674    STT  MIA   \n",
       "6         465  2010      5          5.0                674    STT  MIA   \n",
       "7         466  2010      5          6.0                674    STT  MIA   \n",
       "8         467  2010      5          7.0                674    STT  MIA   \n",
       "9         468  2010      5          1.0                674    STT  MIA   \n",
       "\n",
       "   CRS_DEP_TIME  DEP_TIME  DEP_DELAY  ...  ACTUAL_ELAPSED_TIME  CARRIER_DELAY  \\\n",
       "0          1535    1519.0      -16.0  ...                196.0            0.0   \n",
       "1          1535    1550.0       15.0  ...                170.0            0.0   \n",
       "2          1535    1550.0       15.0  ...                176.0            0.0   \n",
       "3          1535    1533.0       -2.0  ...                176.0            0.0   \n",
       "4          1535    1557.0       22.0  ...                171.0            0.0   \n",
       "5          1535    1605.0       30.0  ...                166.0            0.0   \n",
       "6          1535    1649.0       74.0  ...                194.0            0.0   \n",
       "7          1535    1531.0       -4.0  ...                196.0            0.0   \n",
       "8          1535    1608.0       33.0  ...                169.0            9.0   \n",
       "9          1535    1531.0       -4.0  ...                196.0            0.0   \n",
       "\n",
       "   WEATHER_DELAY  NAS_DELAY  SECURITY_DELAY  LATE_AIRCRAFT_DELAY OP_CARRIER  \\\n",
       "0            0.0        0.0             0.0                  0.0        NaN   \n",
       "1            0.0        0.0             0.0                  0.0        NaN   \n",
       "2            0.0        0.0             0.0                  0.0        NaN   \n",
       "3            0.0        0.0             0.0                  0.0        NaN   \n",
       "4            0.0        0.0             0.0                  0.0        NaN   \n",
       "5            0.0        0.0             0.0                  0.0        NaN   \n",
       "6            0.0        9.0             0.0                 74.0        NaN   \n",
       "7            0.0        0.0             0.0                  0.0        NaN   \n",
       "8            0.0        0.0             0.0                  8.0        NaN   \n",
       "9            0.0        0.0             0.0                  0.0        NaN   \n",
       "\n",
       "   WHY_DELAY  DAY       DATE  \n",
       "0          0    1 2010-05-01  \n",
       "1          0    2 2010-05-02  \n",
       "2          0    3 2010-05-03  \n",
       "3          0    4 2010-05-04  \n",
       "4          0    5 2010-05-05  \n",
       "5          0    6 2010-05-06  \n",
       "6        nas    7 2010-05-07  \n",
       "7          0    8 2010-05-08  \n",
       "8    carrier    9 2010-05-09  \n",
       "9          0   10 2010-05-10  \n",
       "\n",
       "[10 rows x 29 columns]"
      ]
     },
     "execution_count": 21,
     "metadata": {},
     "output_type": "execute_result"
    }
   ],
   "source": [
    "df.head(10)"
   ]
  },
  {
   "cell_type": "code",
   "execution_count": 22,
   "id": "10083510",
   "metadata": {},
   "outputs": [],
   "source": [
    "df['DEPARTURE_TIME'] = df['CRS_DEP_TIME'].apply(format_heure)\n",
    "df['ARRIVAL_TIME'] = df['CRS_ARR_TIME'].apply(format_heure)"
   ]
  },
  {
   "cell_type": "code",
   "execution_count": 23,
   "id": "2b2807eb",
   "metadata": {},
   "outputs": [
    {
     "data": {
      "text/html": [
       "<div>\n",
       "<style scoped>\n",
       "    .dataframe tbody tr th:only-of-type {\n",
       "        vertical-align: middle;\n",
       "    }\n",
       "\n",
       "    .dataframe tbody tr th {\n",
       "        vertical-align: top;\n",
       "    }\n",
       "\n",
       "    .dataframe thead th {\n",
       "        text-align: right;\n",
       "    }\n",
       "</style>\n",
       "<table border=\"1\" class=\"dataframe\">\n",
       "  <thead>\n",
       "    <tr style=\"text-align: right;\">\n",
       "      <th></th>\n",
       "      <th>Unnamed: 0</th>\n",
       "      <th>YEAR</th>\n",
       "      <th>MONTH</th>\n",
       "      <th>DAY_OF_WEEK</th>\n",
       "      <th>OP_CARRIER_FL_NUM</th>\n",
       "      <th>ORIGIN</th>\n",
       "      <th>DEST</th>\n",
       "      <th>CRS_DEP_TIME</th>\n",
       "      <th>DEP_TIME</th>\n",
       "      <th>DEP_DELAY</th>\n",
       "      <th>...</th>\n",
       "      <th>WEATHER_DELAY</th>\n",
       "      <th>NAS_DELAY</th>\n",
       "      <th>SECURITY_DELAY</th>\n",
       "      <th>LATE_AIRCRAFT_DELAY</th>\n",
       "      <th>OP_CARRIER</th>\n",
       "      <th>WHY_DELAY</th>\n",
       "      <th>DAY</th>\n",
       "      <th>DATE</th>\n",
       "      <th>DEPARTURE_TIME</th>\n",
       "      <th>ARRIVAL_TIME</th>\n",
       "    </tr>\n",
       "  </thead>\n",
       "  <tbody>\n",
       "    <tr>\n",
       "      <th>0</th>\n",
       "      <td>459</td>\n",
       "      <td>2010</td>\n",
       "      <td>5</td>\n",
       "      <td>6.0</td>\n",
       "      <td>674</td>\n",
       "      <td>STT</td>\n",
       "      <td>MIA</td>\n",
       "      <td>1535</td>\n",
       "      <td>1519.0</td>\n",
       "      <td>-16.0</td>\n",
       "      <td>...</td>\n",
       "      <td>0.0</td>\n",
       "      <td>0.0</td>\n",
       "      <td>0.0</td>\n",
       "      <td>0.0</td>\n",
       "      <td>NaN</td>\n",
       "      <td>0</td>\n",
       "      <td>1</td>\n",
       "      <td>2010-05-01</td>\n",
       "      <td>15:35:00</td>\n",
       "      <td>18:40:00</td>\n",
       "    </tr>\n",
       "    <tr>\n",
       "      <th>1</th>\n",
       "      <td>460</td>\n",
       "      <td>2010</td>\n",
       "      <td>5</td>\n",
       "      <td>7.0</td>\n",
       "      <td>674</td>\n",
       "      <td>STT</td>\n",
       "      <td>MIA</td>\n",
       "      <td>1535</td>\n",
       "      <td>1550.0</td>\n",
       "      <td>15.0</td>\n",
       "      <td>...</td>\n",
       "      <td>0.0</td>\n",
       "      <td>0.0</td>\n",
       "      <td>0.0</td>\n",
       "      <td>0.0</td>\n",
       "      <td>NaN</td>\n",
       "      <td>0</td>\n",
       "      <td>2</td>\n",
       "      <td>2010-05-02</td>\n",
       "      <td>15:35:00</td>\n",
       "      <td>18:40:00</td>\n",
       "    </tr>\n",
       "    <tr>\n",
       "      <th>2</th>\n",
       "      <td>461</td>\n",
       "      <td>2010</td>\n",
       "      <td>5</td>\n",
       "      <td>1.0</td>\n",
       "      <td>674</td>\n",
       "      <td>STT</td>\n",
       "      <td>MIA</td>\n",
       "      <td>1535</td>\n",
       "      <td>1550.0</td>\n",
       "      <td>15.0</td>\n",
       "      <td>...</td>\n",
       "      <td>0.0</td>\n",
       "      <td>0.0</td>\n",
       "      <td>0.0</td>\n",
       "      <td>0.0</td>\n",
       "      <td>NaN</td>\n",
       "      <td>0</td>\n",
       "      <td>3</td>\n",
       "      <td>2010-05-03</td>\n",
       "      <td>15:35:00</td>\n",
       "      <td>18:40:00</td>\n",
       "    </tr>\n",
       "    <tr>\n",
       "      <th>3</th>\n",
       "      <td>462</td>\n",
       "      <td>2010</td>\n",
       "      <td>5</td>\n",
       "      <td>2.0</td>\n",
       "      <td>674</td>\n",
       "      <td>STT</td>\n",
       "      <td>MIA</td>\n",
       "      <td>1535</td>\n",
       "      <td>1533.0</td>\n",
       "      <td>-2.0</td>\n",
       "      <td>...</td>\n",
       "      <td>0.0</td>\n",
       "      <td>0.0</td>\n",
       "      <td>0.0</td>\n",
       "      <td>0.0</td>\n",
       "      <td>NaN</td>\n",
       "      <td>0</td>\n",
       "      <td>4</td>\n",
       "      <td>2010-05-04</td>\n",
       "      <td>15:35:00</td>\n",
       "      <td>18:40:00</td>\n",
       "    </tr>\n",
       "    <tr>\n",
       "      <th>4</th>\n",
       "      <td>463</td>\n",
       "      <td>2010</td>\n",
       "      <td>5</td>\n",
       "      <td>3.0</td>\n",
       "      <td>674</td>\n",
       "      <td>STT</td>\n",
       "      <td>MIA</td>\n",
       "      <td>1535</td>\n",
       "      <td>1557.0</td>\n",
       "      <td>22.0</td>\n",
       "      <td>...</td>\n",
       "      <td>0.0</td>\n",
       "      <td>0.0</td>\n",
       "      <td>0.0</td>\n",
       "      <td>0.0</td>\n",
       "      <td>NaN</td>\n",
       "      <td>0</td>\n",
       "      <td>5</td>\n",
       "      <td>2010-05-05</td>\n",
       "      <td>15:35:00</td>\n",
       "      <td>18:40:00</td>\n",
       "    </tr>\n",
       "  </tbody>\n",
       "</table>\n",
       "<p>5 rows × 31 columns</p>\n",
       "</div>"
      ],
      "text/plain": [
       "   Unnamed: 0  YEAR  MONTH  DAY_OF_WEEK  OP_CARRIER_FL_NUM ORIGIN DEST  \\\n",
       "0         459  2010      5          6.0                674    STT  MIA   \n",
       "1         460  2010      5          7.0                674    STT  MIA   \n",
       "2         461  2010      5          1.0                674    STT  MIA   \n",
       "3         462  2010      5          2.0                674    STT  MIA   \n",
       "4         463  2010      5          3.0                674    STT  MIA   \n",
       "\n",
       "   CRS_DEP_TIME  DEP_TIME  DEP_DELAY  ...  WEATHER_DELAY  NAS_DELAY  \\\n",
       "0          1535    1519.0      -16.0  ...            0.0        0.0   \n",
       "1          1535    1550.0       15.0  ...            0.0        0.0   \n",
       "2          1535    1550.0       15.0  ...            0.0        0.0   \n",
       "3          1535    1533.0       -2.0  ...            0.0        0.0   \n",
       "4          1535    1557.0       22.0  ...            0.0        0.0   \n",
       "\n",
       "   SECURITY_DELAY  LATE_AIRCRAFT_DELAY  OP_CARRIER  WHY_DELAY DAY       DATE  \\\n",
       "0             0.0                  0.0         NaN          0   1 2010-05-01   \n",
       "1             0.0                  0.0         NaN          0   2 2010-05-02   \n",
       "2             0.0                  0.0         NaN          0   3 2010-05-03   \n",
       "3             0.0                  0.0         NaN          0   4 2010-05-04   \n",
       "4             0.0                  0.0         NaN          0   5 2010-05-05   \n",
       "\n",
       "   DEPARTURE_TIME  ARRIVAL_TIME  \n",
       "0        15:35:00      18:40:00  \n",
       "1        15:35:00      18:40:00  \n",
       "2        15:35:00      18:40:00  \n",
       "3        15:35:00      18:40:00  \n",
       "4        15:35:00      18:40:00  \n",
       "\n",
       "[5 rows x 31 columns]"
      ]
     },
     "execution_count": 23,
     "metadata": {},
     "output_type": "execute_result"
    }
   ],
   "source": [
    "df.head()"
   ]
  },
  {
   "cell_type": "code",
   "execution_count": 24,
   "id": "b7f50278",
   "metadata": {},
   "outputs": [],
   "source": [
    "# Create a histogram of all delayed arrival flights regardless of reason.\n",
    "df['ALL_LATE_ARR'] = df.query('ARR_DELAY_NEW > 0')[\"CRS_ARR_TIME\"]"
   ]
  },
  {
   "cell_type": "code",
   "execution_count": 25,
   "id": "7387f59f",
   "metadata": {},
   "outputs": [
    {
     "data": {
      "image/png": "[encoded data removed]",
      "text/plain": [
       "<Figure size 640x480 with 1 Axes>"
      ]
     },
     "metadata": {},
     "output_type": "display_data"
    }
   ],
   "source": [
    "plt.hist(df.ALL_LATE_ARR)\n",
    "plt.title('Frequency of Late Arrivals')\n",
    "plt.xlabel('Time of Arrival')\n",
    "plt.ylabel('Frequency')\n",
    "plt.show()"
   ]
  },
  {
   "cell_type": "code",
   "execution_count": 26,
   "id": "12bca690",
   "metadata": {},
   "outputs": [],
   "source": [
    "# Histogram of all delayed departure flights regardless of reason.\n",
    "df['ALL_LATE_DEP'] = df.query('DEP_DELAY_NEW > 0')[\"CRS_DEP_TIME\"]"
   ]
  },
  {
   "cell_type": "code",
   "execution_count": 27,
   "id": "cd0fa701",
   "metadata": {},
   "outputs": [
    {
     "data": {
      "image/png": "[encoded data removed]",
      "text/plain": [
       "<Figure size 640x480 with 1 Axes>"
      ]
     },
     "metadata": {},
     "output_type": "display_data"
    }
   ],
   "source": [
    "plt.hist(df.ALL_LATE_DEP)\n",
    "plt.title('Frequency of Late Departures')\n",
    "plt.xlabel('Time of Departure')\n",
    "plt.ylabel('Frequency')\n",
    "plt.show()"
   ]
  },
  {
   "cell_type": "code",
   "execution_count": 28,
   "id": "1063e966",
   "metadata": {},
   "outputs": [],
   "source": [
    "# Calculating the average time a arrival was late by.\n",
    "df_arr_mean = np.nanmean(df['ARR_DELAY_NEW'].values)"
   ]
  },
  {
   "cell_type": "code",
   "execution_count": 29,
   "id": "ce9f0c1c",
   "metadata": {},
   "outputs": [
    {
     "data": {
      "text/plain": [
       "15.627575507628263"
      ]
     },
     "execution_count": 29,
     "metadata": {},
     "output_type": "execute_result"
    }
   ],
   "source": [
    "df_arr_mean"
   ]
  },
  {
   "cell_type": "code",
   "execution_count": 30,
   "id": "3b3ad3eb",
   "metadata": {},
   "outputs": [],
   "source": [
    "# Calculating the average time a departure was late by\n",
    "df_dep_mean = np.nanmean(df['DEP_DELAY_NEW'])"
   ]
  },
  {
   "cell_type": "code",
   "execution_count": 31,
   "id": "ace59d54",
   "metadata": {},
   "outputs": [
    {
     "data": {
      "text/plain": [
       "14.91274191882681"
      ]
     },
     "execution_count": 31,
     "metadata": {},
     "output_type": "execute_result"
    }
   ],
   "source": [
    "df_dep_mean"
   ]
  },
  {
   "cell_type": "code",
   "execution_count": 32,
   "id": "21c22b68",
   "metadata": {},
   "outputs": [
    {
     "data": {
      "text/plain": [
       "count    17749.000000\n",
       "mean      1770.003831\n",
       "std        511.268421\n",
       "min          1.000000\n",
       "25%       1610.000000\n",
       "50%       1850.000000\n",
       "75%       2130.000000\n",
       "max       2359.000000\n",
       "Name: LATE_ARR, dtype: float64"
      ]
     },
     "execution_count": 32,
     "metadata": {},
     "output_type": "execute_result"
    }
   ],
   "source": [
    "# What time was the original arrival time for flights that were delayed by weather.\n",
    "df['LATE_ARR'] = df.query('WHY_DELAY == \"weather\" & ARR_DELAY_NEW > 0')[\"CRS_ARR_TIME\"]\n",
    "df.LATE_ARR.describe()"
   ]
  },
  {
   "cell_type": "code",
   "execution_count": 33,
   "id": "a215a788",
   "metadata": {},
   "outputs": [
    {
     "data": {
      "image/png": "[encoded data removed]",
      "text/plain": [
       "<Figure size 640x480 with 1 Axes>"
      ]
     },
     "metadata": {},
     "output_type": "display_data"
    }
   ],
   "source": [
    "plt.hist(df.LATE_ARR)\n",
    "plt.title('Frequency of Late Arrivals')\n",
    "plt.xlabel('Time of Arrival')\n",
    "plt.ylabel('Frequency')\n",
    "plt.show()"
   ]
  },
  {
   "cell_type": "code",
   "execution_count": 34,
   "id": "783a6461",
   "metadata": {},
   "outputs": [],
   "source": [
    "#What time was the original departure time for flights that were delayed by weather.\n",
    "df['LATE_DEP'] = df.query('WHY_DELAY == \"weather\" & DEP_DELAY_NEW > 0')[\"CRS_DEP_TIME\"]"
   ]
  },
  {
   "cell_type": "code",
   "execution_count": 35,
   "id": "56b7966f",
   "metadata": {},
   "outputs": [
    {
     "data": {
      "text/plain": [
       "count    17749.000000\n",
       "mean      1638.852724\n",
       "std        367.605130\n",
       "min          4.000000\n",
       "25%       1410.000000\n",
       "50%       1659.000000\n",
       "75%       1935.000000\n",
       "max       2359.000000\n",
       "Name: LATE_DEP, dtype: float64"
      ]
     },
     "execution_count": 35,
     "metadata": {},
     "output_type": "execute_result"
    }
   ],
   "source": [
    "df.LATE_DEP.describe()"
   ]
  },
  {
   "cell_type": "code",
   "execution_count": 36,
   "id": "fe270e82",
   "metadata": {},
   "outputs": [
    {
     "data": {
      "image/png": "[encoded data removed]",
      "text/plain": [
       "<Figure size 640x480 with 1 Axes>"
      ]
     },
     "metadata": {},
     "output_type": "display_data"
    }
   ],
   "source": [
    "plt.hist(df.LATE_DEP)\n",
    "plt.title('Frequency of Late Departures')\n",
    "plt.xlabel('Time of Arrival')\n",
    "plt.ylabel('Frequency')\n",
    "plt.show()"
   ]
  },
  {
   "cell_type": "code",
   "execution_count": 37,
   "id": "70d340c7",
   "metadata": {},
   "outputs": [
    {
     "data": {
      "text/plain": [
       "array([  nan, 1055., 1510., ..., 1802., 2331., 1408.])"
      ]
     },
     "execution_count": 37,
     "metadata": {},
     "output_type": "execute_result"
    }
   ],
   "source": [
    "df.LATE_ARR.unique()\n",
    "#plt.scatter(x = df.LATE_ARR, y = df.LATE_ARR.value_counts())"
   ]
  },
  {
   "cell_type": "code",
   "execution_count": 38,
   "id": "41bd1734",
   "metadata": {},
   "outputs": [
    {
     "data": {
      "text/plain": [
       "7    154177\n",
       "8    152211\n",
       "5    147527\n",
       "6    145887\n",
       "9    136850\n",
       "Name: MONTH, dtype: int64"
      ]
     },
     "execution_count": 38,
     "metadata": {},
     "output_type": "execute_result"
    }
   ],
   "source": [
    "# which month of the year is the busiest for travel\n",
    "df['MONTH'].value_counts()\n",
    "\n",
    "#July is the busiest month for travel"
   ]
  },
  {
   "cell_type": "code",
   "execution_count": 39,
   "id": "e5bdb7b5",
   "metadata": {},
   "outputs": [
    {
     "data": {
      "text/html": [
       "<div>\n",
       "<style scoped>\n",
       "    .dataframe tbody tr th:only-of-type {\n",
       "        vertical-align: middle;\n",
       "    }\n",
       "\n",
       "    .dataframe tbody tr th {\n",
       "        vertical-align: top;\n",
       "    }\n",
       "\n",
       "    .dataframe thead th {\n",
       "        text-align: right;\n",
       "    }\n",
       "</style>\n",
       "<table border=\"1\" class=\"dataframe\">\n",
       "  <thead>\n",
       "    <tr style=\"text-align: right;\">\n",
       "      <th></th>\n",
       "      <th>Unnamed: 0</th>\n",
       "      <th>YEAR</th>\n",
       "      <th>MONTH</th>\n",
       "      <th>DAY_OF_WEEK</th>\n",
       "      <th>OP_CARRIER_FL_NUM</th>\n",
       "      <th>ORIGIN</th>\n",
       "      <th>DEST</th>\n",
       "      <th>CRS_DEP_TIME</th>\n",
       "      <th>DEP_TIME</th>\n",
       "      <th>DEP_DELAY</th>\n",
       "      <th>...</th>\n",
       "      <th>OP_CARRIER</th>\n",
       "      <th>WHY_DELAY</th>\n",
       "      <th>DAY</th>\n",
       "      <th>DATE</th>\n",
       "      <th>DEPARTURE_TIME</th>\n",
       "      <th>ARRIVAL_TIME</th>\n",
       "      <th>ALL_LATE_ARR</th>\n",
       "      <th>ALL_LATE_DEP</th>\n",
       "      <th>LATE_ARR</th>\n",
       "      <th>LATE_DEP</th>\n",
       "    </tr>\n",
       "  </thead>\n",
       "  <tbody>\n",
       "    <tr>\n",
       "      <th>0</th>\n",
       "      <td>459</td>\n",
       "      <td>2010</td>\n",
       "      <td>5</td>\n",
       "      <td>6.0</td>\n",
       "      <td>674</td>\n",
       "      <td>STT</td>\n",
       "      <td>MIA</td>\n",
       "      <td>1535</td>\n",
       "      <td>1519.0</td>\n",
       "      <td>-16.0</td>\n",
       "      <td>...</td>\n",
       "      <td>NaN</td>\n",
       "      <td>0</td>\n",
       "      <td>1</td>\n",
       "      <td>2010-05-01</td>\n",
       "      <td>15:35:00</td>\n",
       "      <td>18:40:00</td>\n",
       "      <td>NaN</td>\n",
       "      <td>NaN</td>\n",
       "      <td>NaN</td>\n",
       "      <td>NaN</td>\n",
       "    </tr>\n",
       "    <tr>\n",
       "      <th>1</th>\n",
       "      <td>460</td>\n",
       "      <td>2010</td>\n",
       "      <td>5</td>\n",
       "      <td>7.0</td>\n",
       "      <td>674</td>\n",
       "      <td>STT</td>\n",
       "      <td>MIA</td>\n",
       "      <td>1535</td>\n",
       "      <td>1550.0</td>\n",
       "      <td>15.0</td>\n",
       "      <td>...</td>\n",
       "      <td>NaN</td>\n",
       "      <td>0</td>\n",
       "      <td>2</td>\n",
       "      <td>2010-05-02</td>\n",
       "      <td>15:35:00</td>\n",
       "      <td>18:40:00</td>\n",
       "      <td>NaN</td>\n",
       "      <td>1535.0</td>\n",
       "      <td>NaN</td>\n",
       "      <td>NaN</td>\n",
       "    </tr>\n",
       "    <tr>\n",
       "      <th>2</th>\n",
       "      <td>461</td>\n",
       "      <td>2010</td>\n",
       "      <td>5</td>\n",
       "      <td>1.0</td>\n",
       "      <td>674</td>\n",
       "      <td>STT</td>\n",
       "      <td>MIA</td>\n",
       "      <td>1535</td>\n",
       "      <td>1550.0</td>\n",
       "      <td>15.0</td>\n",
       "      <td>...</td>\n",
       "      <td>NaN</td>\n",
       "      <td>0</td>\n",
       "      <td>3</td>\n",
       "      <td>2010-05-03</td>\n",
       "      <td>15:35:00</td>\n",
       "      <td>18:40:00</td>\n",
       "      <td>1840.0</td>\n",
       "      <td>1535.0</td>\n",
       "      <td>NaN</td>\n",
       "      <td>NaN</td>\n",
       "    </tr>\n",
       "    <tr>\n",
       "      <th>3</th>\n",
       "      <td>462</td>\n",
       "      <td>2010</td>\n",
       "      <td>5</td>\n",
       "      <td>2.0</td>\n",
       "      <td>674</td>\n",
       "      <td>STT</td>\n",
       "      <td>MIA</td>\n",
       "      <td>1535</td>\n",
       "      <td>1533.0</td>\n",
       "      <td>-2.0</td>\n",
       "      <td>...</td>\n",
       "      <td>NaN</td>\n",
       "      <td>0</td>\n",
       "      <td>4</td>\n",
       "      <td>2010-05-04</td>\n",
       "      <td>15:35:00</td>\n",
       "      <td>18:40:00</td>\n",
       "      <td>NaN</td>\n",
       "      <td>NaN</td>\n",
       "      <td>NaN</td>\n",
       "      <td>NaN</td>\n",
       "    </tr>\n",
       "    <tr>\n",
       "      <th>4</th>\n",
       "      <td>463</td>\n",
       "      <td>2010</td>\n",
       "      <td>5</td>\n",
       "      <td>3.0</td>\n",
       "      <td>674</td>\n",
       "      <td>STT</td>\n",
       "      <td>MIA</td>\n",
       "      <td>1535</td>\n",
       "      <td>1557.0</td>\n",
       "      <td>22.0</td>\n",
       "      <td>...</td>\n",
       "      <td>NaN</td>\n",
       "      <td>0</td>\n",
       "      <td>5</td>\n",
       "      <td>2010-05-05</td>\n",
       "      <td>15:35:00</td>\n",
       "      <td>18:40:00</td>\n",
       "      <td>1840.0</td>\n",
       "      <td>1535.0</td>\n",
       "      <td>NaN</td>\n",
       "      <td>NaN</td>\n",
       "    </tr>\n",
       "  </tbody>\n",
       "</table>\n",
       "<p>5 rows × 35 columns</p>\n",
       "</div>"
      ],
      "text/plain": [
       "   Unnamed: 0  YEAR  MONTH  DAY_OF_WEEK  OP_CARRIER_FL_NUM ORIGIN DEST  \\\n",
       "0         459  2010      5          6.0                674    STT  MIA   \n",
       "1         460  2010      5          7.0                674    STT  MIA   \n",
       "2         461  2010      5          1.0                674    STT  MIA   \n",
       "3         462  2010      5          2.0                674    STT  MIA   \n",
       "4         463  2010      5          3.0                674    STT  MIA   \n",
       "\n",
       "   CRS_DEP_TIME  DEP_TIME  DEP_DELAY  ...  OP_CARRIER  WHY_DELAY  DAY  \\\n",
       "0          1535    1519.0      -16.0  ...         NaN          0    1   \n",
       "1          1535    1550.0       15.0  ...         NaN          0    2   \n",
       "2          1535    1550.0       15.0  ...         NaN          0    3   \n",
       "3          1535    1533.0       -2.0  ...         NaN          0    4   \n",
       "4          1535    1557.0       22.0  ...         NaN          0    5   \n",
       "\n",
       "        DATE  DEPARTURE_TIME  ARRIVAL_TIME ALL_LATE_ARR  ALL_LATE_DEP  \\\n",
       "0 2010-05-01        15:35:00      18:40:00          NaN           NaN   \n",
       "1 2010-05-02        15:35:00      18:40:00          NaN        1535.0   \n",
       "2 2010-05-03        15:35:00      18:40:00       1840.0        1535.0   \n",
       "3 2010-05-04        15:35:00      18:40:00          NaN           NaN   \n",
       "4 2010-05-05        15:35:00      18:40:00       1840.0        1535.0   \n",
       "\n",
       "   LATE_ARR  LATE_DEP  \n",
       "0       NaN       NaN  \n",
       "1       NaN       NaN  \n",
       "2       NaN       NaN  \n",
       "3       NaN       NaN  \n",
       "4       NaN       NaN  \n",
       "\n",
       "[5 rows x 35 columns]"
      ]
     },
     "execution_count": 39,
     "metadata": {},
     "output_type": "execute_result"
    }
   ],
   "source": [
    "# which time of the day is the busiest\n",
    "df['DEP_TIME'].value_counts()\n",
    "#5:56 Am is the most common departure time.\n",
    "df.head()"
   ]
  },
  {
   "cell_type": "code",
   "execution_count": 40,
   "id": "1a7efc69",
   "metadata": {},
   "outputs": [
    {
     "data": {
      "text/plain": [
       "AA    7260\n",
       "MQ    2228\n",
       "F9    1588\n",
       "WN    1542\n",
       "B6    1397\n",
       "DL     964\n",
       "UA     869\n",
       "YV     103\n",
       "YX      96\n",
       "Name: OP_CARRIER, dtype: int64"
      ]
     },
     "execution_count": 40,
     "metadata": {},
     "output_type": "execute_result"
    }
   ],
   "source": [
    "# which carrier is the most notorious for delay\n",
    "df_delayed = df[df['WHY_DELAY'] != '0']\n",
    "df_delayed['OP_CARRIER'].value_counts()"
   ]
  },
  {
   "cell_type": "code",
   "execution_count": 44,
   "id": "a02e904e",
   "metadata": {},
   "outputs": [
    {
     "data": {
      "text/plain": [
       "AA    31174\n",
       "MQ    10058\n",
       "DL     6080\n",
       "WN     5229\n",
       "F9     4509\n",
       "B6     3512\n",
       "UA     3288\n",
       "YX      454\n",
       "YV      353\n",
       "Name: OP_CARRIER, dtype: int64"
      ]
     },
     "execution_count": 44,
     "metadata": {},
     "output_type": "execute_result"
    }
   ],
   "source": [
    "df['OP_CARRIER'].value_counts()"
   ]
  },
  {
   "cell_type": "code",
   "execution_count": 45,
   "id": "3b452dde",
   "metadata": {},
   "outputs": [
    {
     "name": "stdout",
     "output_type": "stream",
     "text": [
      "American Airlines had more late flights than any other airline with 7260, Jet Blue had the most late flights in terms of percentage with 39.77%.\n"
     ]
    }
   ],
   "source": [
    "print('American Airlines had more late flights than any other airline with 7260, Jet Blue had the most late flights in terms of percentage with 39.77%.')"
   ]
  },
  {
   "cell_type": "code",
   "execution_count": 72,
   "id": "3af3a776",
   "metadata": {},
   "outputs": [
    {
     "data": {
      "text/plain": [
       "Index(['Unnamed: 0', 'YEAR', 'MONTH', 'DAY_OF_WEEK', 'OP_CARRIER_FL_NUM',\n",
       "       'ORIGIN', 'DEST', 'CRS_DEP_TIME', 'DEP_TIME', 'DEP_DELAY',\n",
       "       'DEP_DELAY_NEW', 'CRS_ARR_TIME', 'ARR_TIME', 'ARR_DELAY',\n",
       "       'ARR_DELAY_NEW', 'CANCELLED', 'CANCELLATION_CODE', 'DIVERTED',\n",
       "       'CRS_ELAPSED_TIME', 'ACTUAL_ELAPSED_TIME', 'CARRIER_DELAY',\n",
       "       'WEATHER_DELAY', 'NAS_DELAY', 'SECURITY_DELAY', 'LATE_AIRCRAFT_DELAY',\n",
       "       'OP_CARRIER', 'WHY_DELAY', 'DAY', 'DATE', 'DEPARTURE_TIME',\n",
       "       'ARRIVAL_TIME', 'ALL_LATE_ARR', 'ALL_LATE_DEP', 'LATE_ARR', 'LATE_DEP'],\n",
       "      dtype='object')"
      ]
     },
     "execution_count": 72,
     "metadata": {},
     "output_type": "execute_result"
    }
   ],
   "source": [
    "#which time of the day is more bound for cancellations.\n",
    "df.keys()"
   ]
  },
  {
   "cell_type": "code",
   "execution_count": 73,
   "id": "3eb186f7",
   "metadata": {},
   "outputs": [],
   "source": [
    "df_cancelled = df[df['CANCELLED'] == 1]"
   ]
  },
  {
   "cell_type": "code",
   "execution_count": 76,
   "id": "2671be62",
   "metadata": {},
   "outputs": [
    {
     "data": {
      "text/plain": [
       "1472.3340292275575"
      ]
     },
     "execution_count": 76,
     "metadata": {},
     "output_type": "execute_result"
    }
   ],
   "source": [
    "df_cancelled['DEP_TIME'].mean()"
   ]
  },
  {
   "cell_type": "code",
   "execution_count": 77,
   "id": "bc519cd9",
   "metadata": {},
   "outputs": [
    {
     "data": {
      "text/plain": [
       "0    1626.0\n",
       "1    1628.0\n",
       "Name: DEP_TIME, dtype: float64"
      ]
     },
     "execution_count": 77,
     "metadata": {},
     "output_type": "execute_result"
    }
   ],
   "source": [
    "df_cancelled['DEP_TIME'].mode()"
   ]
  },
  {
   "cell_type": "code",
   "execution_count": 78,
   "id": "8277e4be",
   "metadata": {},
   "outputs": [
    {
     "data": {
      "text/plain": [
       "1534.0"
      ]
     },
     "execution_count": 78,
     "metadata": {},
     "output_type": "execute_result"
    }
   ],
   "source": [
    "df_cancelled['DEP_TIME'].median()"
   ]
  }
 ],
 "metadata": {
  "kernelspec": {
   "display_name": "Python 3 (ipykernel)",
   "language": "python",
   "name": "python3"
  },
  "language_info": {
   "codemirror_mode": {
    "name": "ipython",
    "version": 3
   },
   "file_extension": ".py",
   "mimetype": "text/x-python",
   "name": "python",
   "nbconvert_exporter": "python",
   "pygments_lexer": "ipython3",
   "version": "3.9.13"
  }
 },
 "nbformat": 4,
 "nbformat_minor": 5
}
