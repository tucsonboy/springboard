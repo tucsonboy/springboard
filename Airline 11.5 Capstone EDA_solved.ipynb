{
 "cells": [
  {
   "cell_type": "code",
   "execution_count": 1,
   "id": "cfaf8b1c",
   "metadata": {},
   "outputs": [],
   "source": [
    "import numpy as np \n",
    "import pandas as pd \n",
    "import matplotlib.pyplot as plt \n",
    "import seaborn as sns\n",
    "\n",
    "# Show plots inline\n",
    "%matplotlib inline"
   ]
  },
  {
   "cell_type": "code",
   "execution_count": 2,
   "id": "cb54e86f",
   "metadata": {},
   "outputs": [],
   "source": [
    "# suppress future warnings\n",
    "import warnings\n",
    "warnings.simplefilter(action='ignore', category=FutureWarning)\n",
    "warnings.simplefilter(action='ignore', category=UserWarning)"
   ]
  },
  {
   "cell_type": "code",
   "execution_count": 3,
   "id": "050c9eed",
   "metadata": {},
   "outputs": [
    {
     "ename": "FileNotFoundError",
     "evalue": "[Errno 2] No such file or directory: 'C:\\\\Airline data\\\\mia_data.csv'",
     "output_type": "error",
     "traceback": [
      "\u001b[1;31m---------------------------------------------------------------------------\u001b[0m",
      "\u001b[1;31mFileNotFoundError\u001b[0m                         Traceback (most recent call last)",
      "\u001b[1;32m~\\AppData\\Local\\Temp\\ipykernel_8372\\639176254.py\u001b[0m in \u001b[0;36m<module>\u001b[1;34m\u001b[0m\n\u001b[1;32m----> 1\u001b[1;33m \u001b[0mdf\u001b[0m \u001b[1;33m=\u001b[0m \u001b[0mpd\u001b[0m\u001b[1;33m.\u001b[0m\u001b[0mread_csv\u001b[0m\u001b[1;33m(\u001b[0m\u001b[1;34mr'C:\\Airline data\\mia_data.csv'\u001b[0m\u001b[1;33m)\u001b[0m\u001b[1;33m\u001b[0m\u001b[1;33m\u001b[0m\u001b[0m\n\u001b[0m",
      "\u001b[1;32mC:\\ProgramData\\Anaconda3\\lib\\site-packages\\pandas\\util\\_decorators.py\u001b[0m in \u001b[0;36mwrapper\u001b[1;34m(*args, **kwargs)\u001b[0m\n\u001b[0;32m    309\u001b[0m                     \u001b[0mstacklevel\u001b[0m\u001b[1;33m=\u001b[0m\u001b[0mstacklevel\u001b[0m\u001b[1;33m,\u001b[0m\u001b[1;33m\u001b[0m\u001b[1;33m\u001b[0m\u001b[0m\n\u001b[0;32m    310\u001b[0m                 )\n\u001b[1;32m--> 311\u001b[1;33m             \u001b[1;32mreturn\u001b[0m \u001b[0mfunc\u001b[0m\u001b[1;33m(\u001b[0m\u001b[1;33m*\u001b[0m\u001b[0margs\u001b[0m\u001b[1;33m,\u001b[0m \u001b[1;33m**\u001b[0m\u001b[0mkwargs\u001b[0m\u001b[1;33m)\u001b[0m\u001b[1;33m\u001b[0m\u001b[1;33m\u001b[0m\u001b[0m\n\u001b[0m\u001b[0;32m    312\u001b[0m \u001b[1;33m\u001b[0m\u001b[0m\n\u001b[0;32m    313\u001b[0m         \u001b[1;32mreturn\u001b[0m \u001b[0mwrapper\u001b[0m\u001b[1;33m\u001b[0m\u001b[1;33m\u001b[0m\u001b[0m\n",
      "\u001b[1;32mC:\\ProgramData\\Anaconda3\\lib\\site-packages\\pandas\\io\\parsers\\readers.py\u001b[0m in \u001b[0;36mread_csv\u001b[1;34m(filepath_or_buffer, sep, delimiter, header, names, index_col, usecols, squeeze, prefix, mangle_dupe_cols, dtype, engine, converters, true_values, false_values, skipinitialspace, skiprows, skipfooter, nrows, na_values, keep_default_na, na_filter, verbose, skip_blank_lines, parse_dates, infer_datetime_format, keep_date_col, date_parser, dayfirst, cache_dates, iterator, chunksize, compression, thousands, decimal, lineterminator, quotechar, quoting, doublequote, escapechar, comment, encoding, encoding_errors, dialect, error_bad_lines, warn_bad_lines, on_bad_lines, delim_whitespace, low_memory, memory_map, float_precision, storage_options)\u001b[0m\n\u001b[0;32m    676\u001b[0m     \u001b[0mkwds\u001b[0m\u001b[1;33m.\u001b[0m\u001b[0mupdate\u001b[0m\u001b[1;33m(\u001b[0m\u001b[0mkwds_defaults\u001b[0m\u001b[1;33m)\u001b[0m\u001b[1;33m\u001b[0m\u001b[1;33m\u001b[0m\u001b[0m\n\u001b[0;32m    677\u001b[0m \u001b[1;33m\u001b[0m\u001b[0m\n\u001b[1;32m--> 678\u001b[1;33m     \u001b[1;32mreturn\u001b[0m \u001b[0m_read\u001b[0m\u001b[1;33m(\u001b[0m\u001b[0mfilepath_or_buffer\u001b[0m\u001b[1;33m,\u001b[0m \u001b[0mkwds\u001b[0m\u001b[1;33m)\u001b[0m\u001b[1;33m\u001b[0m\u001b[1;33m\u001b[0m\u001b[0m\n\u001b[0m\u001b[0;32m    679\u001b[0m \u001b[1;33m\u001b[0m\u001b[0m\n\u001b[0;32m    680\u001b[0m \u001b[1;33m\u001b[0m\u001b[0m\n",
      "\u001b[1;32mC:\\ProgramData\\Anaconda3\\lib\\site-packages\\pandas\\io\\parsers\\readers.py\u001b[0m in \u001b[0;36m_read\u001b[1;34m(filepath_or_buffer, kwds)\u001b[0m\n\u001b[0;32m    573\u001b[0m \u001b[1;33m\u001b[0m\u001b[0m\n\u001b[0;32m    574\u001b[0m     \u001b[1;31m# Create the parser.\u001b[0m\u001b[1;33m\u001b[0m\u001b[1;33m\u001b[0m\u001b[0m\n\u001b[1;32m--> 575\u001b[1;33m     \u001b[0mparser\u001b[0m \u001b[1;33m=\u001b[0m \u001b[0mTextFileReader\u001b[0m\u001b[1;33m(\u001b[0m\u001b[0mfilepath_or_buffer\u001b[0m\u001b[1;33m,\u001b[0m \u001b[1;33m**\u001b[0m\u001b[0mkwds\u001b[0m\u001b[1;33m)\u001b[0m\u001b[1;33m\u001b[0m\u001b[1;33m\u001b[0m\u001b[0m\n\u001b[0m\u001b[0;32m    576\u001b[0m \u001b[1;33m\u001b[0m\u001b[0m\n\u001b[0;32m    577\u001b[0m     \u001b[1;32mif\u001b[0m \u001b[0mchunksize\u001b[0m \u001b[1;32mor\u001b[0m \u001b[0miterator\u001b[0m\u001b[1;33m:\u001b[0m\u001b[1;33m\u001b[0m\u001b[1;33m\u001b[0m\u001b[0m\n",
      "\u001b[1;32mC:\\ProgramData\\Anaconda3\\lib\\site-packages\\pandas\\io\\parsers\\readers.py\u001b[0m in \u001b[0;36m__init__\u001b[1;34m(self, f, engine, **kwds)\u001b[0m\n\u001b[0;32m    930\u001b[0m \u001b[1;33m\u001b[0m\u001b[0m\n\u001b[0;32m    931\u001b[0m         \u001b[0mself\u001b[0m\u001b[1;33m.\u001b[0m\u001b[0mhandles\u001b[0m\u001b[1;33m:\u001b[0m \u001b[0mIOHandles\u001b[0m \u001b[1;33m|\u001b[0m \u001b[1;32mNone\u001b[0m \u001b[1;33m=\u001b[0m \u001b[1;32mNone\u001b[0m\u001b[1;33m\u001b[0m\u001b[1;33m\u001b[0m\u001b[0m\n\u001b[1;32m--> 932\u001b[1;33m         \u001b[0mself\u001b[0m\u001b[1;33m.\u001b[0m\u001b[0m_engine\u001b[0m \u001b[1;33m=\u001b[0m \u001b[0mself\u001b[0m\u001b[1;33m.\u001b[0m\u001b[0m_make_engine\u001b[0m\u001b[1;33m(\u001b[0m\u001b[0mf\u001b[0m\u001b[1;33m,\u001b[0m \u001b[0mself\u001b[0m\u001b[1;33m.\u001b[0m\u001b[0mengine\u001b[0m\u001b[1;33m)\u001b[0m\u001b[1;33m\u001b[0m\u001b[1;33m\u001b[0m\u001b[0m\n\u001b[0m\u001b[0;32m    933\u001b[0m \u001b[1;33m\u001b[0m\u001b[0m\n\u001b[0;32m    934\u001b[0m     \u001b[1;32mdef\u001b[0m \u001b[0mclose\u001b[0m\u001b[1;33m(\u001b[0m\u001b[0mself\u001b[0m\u001b[1;33m)\u001b[0m\u001b[1;33m:\u001b[0m\u001b[1;33m\u001b[0m\u001b[1;33m\u001b[0m\u001b[0m\n",
      "\u001b[1;32mC:\\ProgramData\\Anaconda3\\lib\\site-packages\\pandas\\io\\parsers\\readers.py\u001b[0m in \u001b[0;36m_make_engine\u001b[1;34m(self, f, engine)\u001b[0m\n\u001b[0;32m   1214\u001b[0m             \u001b[1;31m# \"Union[str, PathLike[str], ReadCsvBuffer[bytes], ReadCsvBuffer[str]]\"\u001b[0m\u001b[1;33m\u001b[0m\u001b[1;33m\u001b[0m\u001b[0m\n\u001b[0;32m   1215\u001b[0m             \u001b[1;31m# , \"str\", \"bool\", \"Any\", \"Any\", \"Any\", \"Any\", \"Any\"\u001b[0m\u001b[1;33m\u001b[0m\u001b[1;33m\u001b[0m\u001b[0m\n\u001b[1;32m-> 1216\u001b[1;33m             self.handles = get_handle(  # type: ignore[call-overload]\n\u001b[0m\u001b[0;32m   1217\u001b[0m                 \u001b[0mf\u001b[0m\u001b[1;33m,\u001b[0m\u001b[1;33m\u001b[0m\u001b[1;33m\u001b[0m\u001b[0m\n\u001b[0;32m   1218\u001b[0m                 \u001b[0mmode\u001b[0m\u001b[1;33m,\u001b[0m\u001b[1;33m\u001b[0m\u001b[1;33m\u001b[0m\u001b[0m\n",
      "\u001b[1;32mC:\\ProgramData\\Anaconda3\\lib\\site-packages\\pandas\\io\\common.py\u001b[0m in \u001b[0;36mget_handle\u001b[1;34m(path_or_buf, mode, encoding, compression, memory_map, is_text, errors, storage_options)\u001b[0m\n\u001b[0;32m    784\u001b[0m         \u001b[1;32mif\u001b[0m \u001b[0mioargs\u001b[0m\u001b[1;33m.\u001b[0m\u001b[0mencoding\u001b[0m \u001b[1;32mand\u001b[0m \u001b[1;34m\"b\"\u001b[0m \u001b[1;32mnot\u001b[0m \u001b[1;32min\u001b[0m \u001b[0mioargs\u001b[0m\u001b[1;33m.\u001b[0m\u001b[0mmode\u001b[0m\u001b[1;33m:\u001b[0m\u001b[1;33m\u001b[0m\u001b[1;33m\u001b[0m\u001b[0m\n\u001b[0;32m    785\u001b[0m             \u001b[1;31m# Encoding\u001b[0m\u001b[1;33m\u001b[0m\u001b[1;33m\u001b[0m\u001b[0m\n\u001b[1;32m--> 786\u001b[1;33m             handle = open(\n\u001b[0m\u001b[0;32m    787\u001b[0m                 \u001b[0mhandle\u001b[0m\u001b[1;33m,\u001b[0m\u001b[1;33m\u001b[0m\u001b[1;33m\u001b[0m\u001b[0m\n\u001b[0;32m    788\u001b[0m                 \u001b[0mioargs\u001b[0m\u001b[1;33m.\u001b[0m\u001b[0mmode\u001b[0m\u001b[1;33m,\u001b[0m\u001b[1;33m\u001b[0m\u001b[1;33m\u001b[0m\u001b[0m\n",
      "\u001b[1;31mFileNotFoundError\u001b[0m: [Errno 2] No such file or directory: 'C:\\\\Airline data\\\\mia_data.csv'"
     ]
    }
   ],
   "source": [
    "df = pd.read_csv(r'C:\\Airline data\\mia_data.csv')"
   ]
  },
  {
   "cell_type": "code",
   "execution_count": null,
   "id": "a47c44bd",
   "metadata": {},
   "outputs": [],
   "source": [
    "df.sample()"
   ]
  },
  {
   "cell_type": "code",
   "execution_count": null,
   "id": "59092c76",
   "metadata": {
    "scrolled": true
   },
   "outputs": [],
   "source": [
    "#These columns are not needed.\n",
    "\n",
    "to_delete = ['ORIGIN_CITY_NAME', 'DEST_CITY_NAME', 'DEP_DEL15','DEP_DELAY_GROUP']\n",
    "df.drop(to_delete, axis = 1, inplace = True)\n"
   ]
  },
  {
   "cell_type": "code",
   "execution_count": null,
   "id": "37e3ebf3",
   "metadata": {},
   "outputs": [],
   "source": [
    "df.keys()\n",
    "df.drop('QUARTER', axis = 1, inplace = True)"
   ]
  },
  {
   "cell_type": "code",
   "execution_count": null,
   "id": "342c82a2",
   "metadata": {},
   "outputs": [],
   "source": [
    "\n",
    "df['WHY_DELAY']=''"
   ]
  },
  {
   "cell_type": "code",
   "execution_count": null,
   "id": "be135140",
   "metadata": {},
   "outputs": [],
   "source": [
    "df.keys()"
   ]
  },
  {
   "cell_type": "code",
   "execution_count": null,
   "id": "782760bb",
   "metadata": {},
   "outputs": [],
   "source": [
    "#assiging value to WHY_DELAY column based on what caused the delay.\n",
    "\n",
    "conditions = [df['CARRIER_DELAY']>0, df['WEATHER_DELAY']>0, df['NAS_DELAY']>0, df['SECURITY_DELAY']>0, df['LATE_AIRCRAFT_DELAY']>0]\n",
    "choices = ['carrier', 'weather', 'nas', 'security', 'late aircraft']\n",
    "df['WHY_DELAY'] = np.select(conditions, choices,)"
   ]
  },
  {
   "cell_type": "code",
   "execution_count": null,
   "id": "86a9b7a5",
   "metadata": {},
   "outputs": [],
   "source": [
    "#create bar graph based on why flights were delayed.\n",
    "df.WHY_DELAY.value_counts().to_frame().style.bar()"
   ]
  },
  {
   "cell_type": "code",
   "execution_count": null,
   "id": "79cf94d2",
   "metadata": {
    "scrolled": true
   },
   "outputs": [],
   "source": [
    "df.sample()"
   ]
  },
  {
   "cell_type": "code",
   "execution_count": null,
   "id": "eb4e5d1d",
   "metadata": {},
   "outputs": [],
   "source": [
    "# Column FL_DATE time is wrong all times are set to midnight. I am going to get delete it to avoid further confusion.\n",
    "df.drop('FL_DATE', axis = 1, inplace = True)"
   ]
  },
  {
   "cell_type": "code",
   "execution_count": null,
   "id": "5f965371",
   "metadata": {},
   "outputs": [],
   "source": [
    "df.keys()"
   ]
  },
  {
   "cell_type": "code",
   "execution_count": null,
   "id": "95772552",
   "metadata": {},
   "outputs": [],
   "source": [
    "#Going to create DATE column by combining 'Year', 'Month', 'Day_of_Month'\n",
    "df['DAY'] =df['DAY_OF_MONTH']\n"
   ]
  },
  {
   "cell_type": "code",
   "execution_count": null,
   "id": "fe248dc4",
   "metadata": {},
   "outputs": [],
   "source": [
    "df['DATE']=pd.to_datetime(df[['YEAR', 'MONTH','DAY']])"
   ]
  },
  {
   "cell_type": "code",
   "execution_count": null,
   "id": "f1b90ebb",
   "metadata": {},
   "outputs": [],
   "source": [
    "df.drop('DAY_OF_MONTH', axis = 1, inplace = True)\n"
   ]
  },
  {
   "cell_type": "code",
   "execution_count": null,
   "id": "6fe01613",
   "metadata": {},
   "outputs": [],
   "source": [
    "df.keys()"
   ]
  },
  {
   "cell_type": "code",
   "execution_count": null,
   "id": "b522c767",
   "metadata": {},
   "outputs": [],
   "source": [
    "#This column I want to convert to a time stamp. However, I am having problems because the data is not in the proper format.\n",
    "df.CRS_ARR_TIME"
   ]
  },
  {
   "cell_type": "code",
   "execution_count": null,
   "id": "c73c372b",
   "metadata": {},
   "outputs": [],
   "source": [
    "#This column I want to convert to a time stamp. However, I am having problems because the data is not in the proper format.\n",
    "df.CRS_DEP_TIME"
   ]
  },
  {
   "cell_type": "code",
   "execution_count": null,
   "id": "ce1a0619",
   "metadata": {},
   "outputs": [],
   "source": [
    "import datetime as datetime\n",
    "#_________________________________________________________\n",
    "# Function that convert the 'HHMM' string to datetime.time\n",
    "def format_heure(chaine):\n",
    "    if pd.isnull(chaine):\n",
    "        return np.nan\n",
    "    else:\n",
    "        if chaine == 2400: chaine = 0\n",
    "        chaine = \"{0:04d}\".format(int(chaine))\n",
    "        heure = datetime.time(int(chaine[0:2]), int(chaine[2:4]))\n",
    "        return heure\n",
    "#_____________________________________________________________________\n",
    "# Function that combines a date and time to produce a datetime.datetime\n",
    "def combine_date_heure(x):\n",
    "    if pd.isnull(x[0]) or pd.isnull(x[1]):\n",
    "        return np.nan\n",
    "    else:\n",
    "        return datetime.datetime.combine(x[0],x[1])\n",
    "#_______________________________________________________________________________\n",
    "# Function that combine two columns of the dataframe to create a datetime format\n",
    "def create_flight_time(df, col):    \n",
    "    liste = []\n",
    "    for index, cols in df[['DATE', col]].iterrows():    \n",
    "        if pd.isnull(cols[1]):\n",
    "            liste.append(np.nan)\n",
    "        elif float(cols[1]) == 2400:\n",
    "            cols[0] += datetime.timedelta(days=1)\n",
    "            cols[1] = datetime.time(0,0)\n",
    "            liste.append(combine_date_heure(cols))\n",
    "        else:\n",
    "            cols[1] = format_heure(cols[1])\n",
    "            liste.append(combine_date_heure(cols))\n",
    "    return pd.Series(liste)\n"
   ]
  },
  {
   "cell_type": "code",
   "execution_count": null,
   "id": "cecddb58",
   "metadata": {},
   "outputs": [],
   "source": [
    "df.head(10)"
   ]
  },
  {
   "cell_type": "code",
   "execution_count": null,
   "id": "10083510",
   "metadata": {},
   "outputs": [],
   "source": [
    "df['DEPARTURE_TIME'] = df['CRS_DEP_TIME'].apply(format_heure)\n",
    "df['ARRIVAL_TIME'] = df['CRS_ARR_TIME'].apply(format_heure)"
   ]
  },
  {
   "cell_type": "code",
   "execution_count": 4,
   "id": "2b2807eb",
   "metadata": {},
   "outputs": [
    {
     "ename": "NameError",
     "evalue": "name 'df' is not defined",
     "output_type": "error",
     "traceback": [
      "\u001b[1;31m---------------------------------------------------------------------------\u001b[0m",
      "\u001b[1;31mNameError\u001b[0m                                 Traceback (most recent call last)",
      "\u001b[1;32m~\\AppData\\Local\\Temp\\ipykernel_8372\\3771845804.py\u001b[0m in \u001b[0;36m<module>\u001b[1;34m\u001b[0m\n\u001b[1;32m----> 1\u001b[1;33m \u001b[0mdf\u001b[0m\u001b[1;33m.\u001b[0m\u001b[0minfo\u001b[0m\u001b[1;33m(\u001b[0m\u001b[1;33m)\u001b[0m\u001b[1;33m\u001b[0m\u001b[1;33m\u001b[0m\u001b[0m\n\u001b[0m",
      "\u001b[1;31mNameError\u001b[0m: name 'df' is not defined"
     ]
    }
   ],
   "source": [
    "df.info()"
   ]
  },
  {
   "cell_type": "code",
   "execution_count": null,
   "id": "b7f50278",
   "metadata": {},
   "outputs": [],
   "source": [
    "# Create a histogram of all delayed arrival flights regardless of reason.\n",
    "df['ALL_LATE_ARR'] = df.query('ARR_DELAY_NEW > 0')[\"CRS_ARR_TIME\"]"
   ]
  },
  {
   "cell_type": "code",
   "execution_count": null,
   "id": "7387f59f",
   "metadata": {},
   "outputs": [],
   "source": [
    "plt.hist(df.ALL_LATE_ARR)\n",
    "plt.title('Frequency of Late Arrivals')\n",
    "plt.xlabel('Time of Arrival')\n",
    "plt.ylabel('Frequency')\n",
    "plt.show()"
   ]
  },
  {
   "cell_type": "code",
   "execution_count": null,
   "id": "12bca690",
   "metadata": {},
   "outputs": [],
   "source": [
    "# Histogram of all delayed departure flights regardless of reason.\n",
    "df['ALL_LATE_DEP'] = df.query('DEP_DELAY_NEW > 0')[\"CRS_DEP_TIME\"]"
   ]
  },
  {
   "cell_type": "code",
   "execution_count": null,
   "id": "cd0fa701",
   "metadata": {},
   "outputs": [],
   "source": [
    "plt.hist(df.ALL_LATE_DEP)\n",
    "plt.title('Frequency of Late Departures')\n",
    "plt.xlabel('Time of Departure')\n",
    "plt.ylabel('Frequency')\n",
    "plt.show()"
   ]
  },
  {
   "cell_type": "code",
   "execution_count": null,
   "id": "1063e966",
   "metadata": {},
   "outputs": [],
   "source": [
    "# Calculating the average time a arrival was late by.\n",
    "df_arr_mean = np.nanmean(df['ARR_DELAY_NEW'].values)"
   ]
  },
  {
   "cell_type": "code",
   "execution_count": null,
   "id": "ce9f0c1c",
   "metadata": {},
   "outputs": [],
   "source": [
    "df_arr_mean"
   ]
  },
  {
   "cell_type": "code",
   "execution_count": null,
   "id": "3b3ad3eb",
   "metadata": {},
   "outputs": [],
   "source": [
    "# Calculating the average time a departure was late by\n",
    "df_dep_mean = np.nanmean(df['DEP_DELAY_NEW'])"
   ]
  },
  {
   "cell_type": "code",
   "execution_count": null,
   "id": "ace59d54",
   "metadata": {},
   "outputs": [],
   "source": [
    "df_dep_mean"
   ]
  },
  {
   "cell_type": "code",
   "execution_count": null,
   "id": "21c22b68",
   "metadata": {},
   "outputs": [],
   "source": [
    "# What time was the original arrival time for flights that were delayed by weather.\n",
    "df['LATE_ARR'] = df.query('WHY_DELAY == \"weather\" & ARR_DELAY_NEW > 0')[\"CRS_ARR_TIME\"]\n",
    "df.LATE_ARR.describe()"
   ]
  },
  {
   "cell_type": "code",
   "execution_count": null,
   "id": "a215a788",
   "metadata": {},
   "outputs": [],
   "source": [
    "plt.hist(df.LATE_ARR)\n",
    "plt.title('Frequency of Late Arrivals')\n",
    "plt.xlabel('Time of Arrival')\n",
    "plt.ylabel('Frequency')\n",
    "plt.show()"
   ]
  },
  {
   "cell_type": "code",
   "execution_count": null,
   "id": "783a6461",
   "metadata": {},
   "outputs": [],
   "source": [
    "#What time was the original departure time for flights that were delayed by weather.\n",
    "df['LATE_DEP'] = df.query('WHY_DELAY == \"weather\" & DEP_DELAY_NEW > 0')[\"CRS_DEP_TIME\"]"
   ]
  },
  {
   "cell_type": "code",
   "execution_count": null,
   "id": "56b7966f",
   "metadata": {},
   "outputs": [],
   "source": [
    "df.LATE_DEP.describe()"
   ]
  },
  {
   "cell_type": "code",
   "execution_count": null,
   "id": "fe270e82",
   "metadata": {},
   "outputs": [],
   "source": [
    "plt.hist(df.LATE_DEP)\n",
    "plt.title('Frequency of Late Departures')\n",
    "plt.xlabel('Time of Arrival')\n",
    "plt.ylabel('Frequency')\n",
    "plt.show()"
   ]
  },
  {
   "cell_type": "code",
   "execution_count": null,
   "id": "70d340c7",
   "metadata": {},
   "outputs": [],
   "source": [
    "df.LATE_ARR.unique()\n",
    "#plt.scatter(x = df.LATE_ARR, y = df.LATE_ARR.value_counts())"
   ]
  },
  {
   "cell_type": "code",
   "execution_count": null,
   "id": "41bd1734",
   "metadata": {},
   "outputs": [],
   "source": [
    "# which month of the year is the busiest for travel\n",
    "df['MONTH'].value_counts()\n",
    "\n",
    "#July is the busiest month for travel"
   ]
  },
  {
   "cell_type": "code",
   "execution_count": null,
   "id": "e5bdb7b5",
   "metadata": {},
   "outputs": [],
   "source": [
    "# which time of the day is the busiest\n",
    "df['DEP_TIME'].value_counts()\n",
    "#5:56 Am is the most common departure time.\n",
    "df.head()"
   ]
  },
  {
   "cell_type": "code",
   "execution_count": null,
   "id": "1a7efc69",
   "metadata": {},
   "outputs": [],
   "source": [
    "# which carrier is the most notorious for delay\n",
    "df_delayed = df[df['WHY_DELAY'] != '0']\n",
    "df_delayed['OP_CARRIER'].value_counts()"
   ]
  },
  {
   "cell_type": "code",
   "execution_count": null,
   "id": "a02e904e",
   "metadata": {},
   "outputs": [],
   "source": [
    "df['OP_CARRIER'].value_counts()"
   ]
  },
  {
   "cell_type": "code",
   "execution_count": null,
   "id": "3b452dde",
   "metadata": {},
   "outputs": [],
   "source": [
    "print('American Airlines had more late flights than any other airline with 7260, Jet Blue had the most late flights in terms of percentage with 39.77%.')"
   ]
  },
  {
   "cell_type": "code",
   "execution_count": null,
   "id": "3af3a776",
   "metadata": {},
   "outputs": [],
   "source": [
    "#which time of the day is more bound for cancellations.\n",
    "df.keys()"
   ]
  },
  {
   "cell_type": "code",
   "execution_count": null,
   "id": "3eb186f7",
   "metadata": {},
   "outputs": [],
   "source": [
    "df_cancelled = df[df['CANCELLED'] == 1]"
   ]
  },
  {
   "cell_type": "code",
   "execution_count": null,
   "id": "2671be62",
   "metadata": {},
   "outputs": [],
   "source": [
    "df_cancelled['DEP_TIME'].mean()"
   ]
  },
  {
   "cell_type": "code",
   "execution_count": null,
   "id": "bc519cd9",
   "metadata": {},
   "outputs": [],
   "source": [
    "df_cancelled['DEP_TIME'].mode()"
   ]
  },
  {
   "cell_type": "code",
   "execution_count": null,
   "id": "8277e4be",
   "metadata": {},
   "outputs": [],
   "source": [
    "df_cancelled['DEP_TIME'].median()"
   ]
  }
 ],
 "metadata": {
  "kernelspec": {
   "display_name": "Python 3 (ipykernel)",
   "language": "python",
   "name": "python3"
  },
  "language_info": {
   "codemirror_mode": {
    "name": "ipython",
    "version": 3
   },
   "file_extension": ".py",
   "mimetype": "text/x-python",
   "name": "python",
   "nbconvert_exporter": "python",
   "pygments_lexer": "ipython3",
   "version": "3.9.13"
  }
 },
 "nbformat": 4,
 "nbformat_minor": 5
}
