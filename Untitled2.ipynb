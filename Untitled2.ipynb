{
 "cells": [
  {
   "cell_type": "code",
   "execution_count": 1,
   "id": "34009ddd",
   "metadata": {},
   "outputs": [
    {
     "name": "stdout",
     "output_type": "stream",
     "text": [
      "Requirement already satisfied: pandas-profiling[notebook] in c:\\users\\tucso\\anaconda3\\lib\\site-packages (1.4.1)\n",
      "Requirement already satisfied: pandas>=0.19 in c:\\users\\tucso\\anaconda3\\lib\\site-packages (from pandas-profiling[notebook]) (1.4.2)\n",
      "Requirement already satisfied: matplotlib>=1.4 in c:\\users\\tucso\\anaconda3\\lib\\site-packages (from pandas-profiling[notebook]) (3.5.1)\n",
      "Requirement already satisfied: jinja2>=2.8 in c:\\users\\tucso\\anaconda3\\lib\\site-packages (from pandas-profiling[notebook]) (2.11.3)\n",
      "Requirement already satisfied: six>=1.9 in c:\\users\\tucso\\anaconda3\\lib\\site-packages (from pandas-profiling[notebook]) (1.16.0)\n",
      "Requirement already satisfied: MarkupSafe>=0.23 in c:\\users\\tucso\\anaconda3\\lib\\site-packages (from jinja2>=2.8->pandas-profiling[notebook]) (2.0.1)\n",
      "Requirement already satisfied: packaging>=20.0 in c:\\users\\tucso\\anaconda3\\lib\\site-packages (from matplotlib>=1.4->pandas-profiling[notebook]) (21.3)\n",
      "Requirement already satisfied: pillow>=6.2.0 in c:\\users\\tucso\\anaconda3\\lib\\site-packages (from matplotlib>=1.4->pandas-profiling[notebook]) (9.0.1)\n",
      "Requirement already satisfied: kiwisolver>=1.0.1 in c:\\users\\tucso\\anaconda3\\lib\\site-packages (from matplotlib>=1.4->pandas-profiling[notebook]) (1.3.2)\n",
      "Requirement already satisfied: cycler>=0.10 in c:\\users\\tucso\\anaconda3\\lib\\site-packages (from matplotlib>=1.4->pandas-profiling[notebook]) (0.11.0)\n",
      "Requirement already satisfied: fonttools>=4.22.0 in c:\\users\\tucso\\anaconda3\\lib\\site-packages (from matplotlib>=1.4->pandas-profiling[notebook]) (4.25.0)\n",
      "Requirement already satisfied: python-dateutil>=2.7 in c:\\users\\tucso\\anaconda3\\lib\\site-packages (from matplotlib>=1.4->pandas-profiling[notebook]) (2.8.2)\n",
      "Requirement already satisfied: numpy>=1.17 in c:\\users\\tucso\\anaconda3\\lib\\site-packages (from matplotlib>=1.4->pandas-profiling[notebook]) (1.21.5)\n",
      "Requirement already satisfied: pyparsing>=2.2.1 in c:\\users\\tucso\\anaconda3\\lib\\site-packages (from matplotlib>=1.4->pandas-profiling[notebook]) (3.0.4)\n",
      "Requirement already satisfied: pytz>=2020.1 in c:\\users\\tucso\\anaconda3\\lib\\site-packages (from pandas>=0.19->pandas-profiling[notebook]) (2021.3)\n",
      "Note: you may need to restart the kernel to use updated packages.\n"
     ]
    },
    {
     "name": "stderr",
     "output_type": "stream",
     "text": [
      "WARNING: pandas-profiling 1.4.1 does not provide the extra 'notebook'\n"
     ]
    }
   ],
   "source": [
    "pip install pandas-profiling[notebook]"
   ]
  },
  {
   "cell_type": "code",
   "execution_count": null,
   "id": "4ba4439d",
   "metadata": {},
   "outputs": [],
   "source": [
    "conda install -c conda-forge pandas-profiling=3.0.0"
   ]
  },
  {
   "cell_type": "code",
   "execution_count": null,
   "id": "0efa3151",
   "metadata": {},
   "outputs": [],
   "source": [
    "import numpy as np\n",
    "import pandas as pd\n",
    "from pandas_profiling import ProfileReport"
   ]
  },
  {
   "cell_type": "code",
   "execution_count": null,
   "id": "68c2d2ff",
   "metadata": {},
   "outputs": [],
   "source": [
    "df = pd.DataFrame(np.random.rand(100, 5), columns=[\"a\", \"b\", \"c\", \"d\", \"e\"])"
   ]
  },
  {
   "cell_type": "code",
   "execution_count": null,
   "id": "4dcff719",
   "metadata": {},
   "outputs": [],
   "source": [
    "profile = ProfileReport(df, title=\"Pandas Profiling Report\")"
   ]
  },
  {
   "cell_type": "code",
   "execution_count": null,
   "id": "eecdba1e",
   "metadata": {},
   "outputs": [],
   "source": []
  }
 ],
 "metadata": {
  "kernelspec": {
   "display_name": "Python 3 (ipykernel)",
   "language": "python",
   "name": "python3"
  },
  "language_info": {
   "codemirror_mode": {
    "name": "ipython",
    "version": 3
   },
   "file_extension": ".py",
   "mimetype": "text/x-python",
   "name": "python",
   "nbconvert_exporter": "python",
   "pygments_lexer": "ipython3",
   "version": "3.9.12"
  }
 },
 "nbformat": 4,
 "nbformat_minor": 5
}
