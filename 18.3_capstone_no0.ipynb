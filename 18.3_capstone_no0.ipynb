{
 "cells": [
  {
   "cell_type": "code",
   "execution_count": 1,
   "id": "93f8fbe4",
   "metadata": {},
   "outputs": [],
   "source": [
    "import pandas as pd\n",
    "import numpy as np\n",
    "from sklearn.model_selection import train_test_split\n",
    "# suppress future warnings\n",
    "import warnings\n",
    "warnings.simplefilter(action='ignore', category=FutureWarning)\n",
    "warnings.simplefilter(action='ignore', category=UserWarning)"
   ]
  },
  {
   "cell_type": "code",
   "execution_count": 65,
   "id": "7c41f027",
   "metadata": {
    "scrolled": true
   },
   "outputs": [],
   "source": [
    "df = pd.read_csv(r'C:\\data\\mia_data2.csv')"
   ]
  },
  {
   "cell_type": "code",
   "execution_count": 66,
   "id": "dd32b1c3",
   "metadata": {},
   "outputs": [
    {
     "data": {
      "text/plain": [
       "Index(['Unnamed: 0.1', 'Unnamed: 0', 'YEAR', 'MONTH', 'DAY_OF_WEEK',\n",
       "       'OP_CARRIER_FL_NUM', 'ORIGIN', 'DEST', 'CRS_DEP_TIME', 'DEP_TIME',\n",
       "       'DEP_DELAY', 'DEP_DELAY_NEW', 'CRS_ARR_TIME', 'ARR_TIME', 'ARR_DELAY',\n",
       "       'ARR_DELAY_NEW', 'CANCELLED', 'CANCELLATION_CODE', 'DIVERTED',\n",
       "       'CRS_ELAPSED_TIME', 'ACTUAL_ELAPSED_TIME', 'CARRIER_DELAY',\n",
       "       'WEATHER_DELAY', 'NAS_DELAY', 'SECURITY_DELAY', 'LATE_AIRCRAFT_DELAY',\n",
       "       'WHY_DELAY', 'DAY', 'DATE'],\n",
       "      dtype='object')"
      ]
     },
     "execution_count": 66,
     "metadata": {},
     "output_type": "execute_result"
    }
   ],
   "source": [
    "df.keys()"
   ]
  },
  {
   "cell_type": "code",
   "execution_count": 67,
   "id": "67c416e4",
   "metadata": {},
   "outputs": [],
   "source": [
    "# Deleting all flights were the flight was diverted\n",
    "df = df[df.DIVERTED ==0]"
   ]
  },
  {
   "cell_type": "code",
   "execution_count": 68,
   "id": "cf9f946b",
   "metadata": {},
   "outputs": [],
   "source": [
    "#Deleting all rows where the flight was cancelled\n",
    "df = df[df.CANCELLED == 0]\n"
   ]
  },
  {
   "cell_type": "code",
   "execution_count": 69,
   "id": "0eb6f5a7",
   "metadata": {},
   "outputs": [
    {
     "name": "stdout",
     "output_type": "stream",
     "text": [
      "<class 'pandas.core.frame.DataFrame'>\n",
      "Int64Index: 659119 entries, 0 to 736651\n",
      "Data columns (total 29 columns):\n",
      " #   Column               Non-Null Count   Dtype  \n",
      "---  ------               --------------   -----  \n",
      " 0   Unnamed: 0.1         659119 non-null  int64  \n",
      " 1   Unnamed: 0           659119 non-null  int64  \n",
      " 2   YEAR                 659119 non-null  int64  \n",
      " 3   MONTH                659119 non-null  int64  \n",
      " 4   DAY_OF_WEEK          659119 non-null  float64\n",
      " 5   OP_CARRIER_FL_NUM    659119 non-null  int64  \n",
      " 6   ORIGIN               659119 non-null  object \n",
      " 7   DEST                 659119 non-null  object \n",
      " 8   CRS_DEP_TIME         659119 non-null  int64  \n",
      " 9   DEP_TIME             659119 non-null  float64\n",
      " 10  DEP_DELAY            659119 non-null  float64\n",
      " 11  DEP_DELAY_NEW        659119 non-null  float64\n",
      " 12  CRS_ARR_TIME         659119 non-null  int64  \n",
      " 13  ARR_TIME             659119 non-null  float64\n",
      " 14  ARR_DELAY            659119 non-null  float64\n",
      " 15  ARR_DELAY_NEW        659119 non-null  float64\n",
      " 16  CANCELLED            659119 non-null  float64\n",
      " 17  CANCELLATION_CODE    0 non-null       object \n",
      " 18  DIVERTED             659119 non-null  float64\n",
      " 19  CRS_ELAPSED_TIME     659119 non-null  float64\n",
      " 20  ACTUAL_ELAPSED_TIME  659119 non-null  float64\n",
      " 21  CARRIER_DELAY        659119 non-null  float64\n",
      " 22  WEATHER_DELAY        659119 non-null  float64\n",
      " 23  NAS_DELAY            659119 non-null  float64\n",
      " 24  SECURITY_DELAY       659119 non-null  float64\n",
      " 25  LATE_AIRCRAFT_DELAY  659119 non-null  float64\n",
      " 26  WHY_DELAY            659119 non-null  object \n",
      " 27  DAY                  659119 non-null  int64  \n",
      " 28  DATE                 659119 non-null  object \n",
      "dtypes: float64(16), int64(8), object(5)\n",
      "memory usage: 150.9+ MB\n"
     ]
    }
   ],
   "source": [
    "df.info()"
   ]
  },
  {
   "cell_type": "code",
   "execution_count": 70,
   "id": "03ffe081",
   "metadata": {},
   "outputs": [],
   "source": [
    "# I want to create dummy values based on the why delay column\n",
    "dummy = pd.get_dummies(df['WHY_DELAY'])"
   ]
  },
  {
   "cell_type": "code",
   "execution_count": 71,
   "id": "d46b76c8",
   "metadata": {},
   "outputs": [
    {
     "data": {
      "text/html": [
       "<div>\n",
       "<style scoped>\n",
       "    .dataframe tbody tr th:only-of-type {\n",
       "        vertical-align: middle;\n",
       "    }\n",
       "\n",
       "    .dataframe tbody tr th {\n",
       "        vertical-align: top;\n",
       "    }\n",
       "\n",
       "    .dataframe thead th {\n",
       "        text-align: right;\n",
       "    }\n",
       "</style>\n",
       "<table border=\"1\" class=\"dataframe\">\n",
       "  <thead>\n",
       "    <tr style=\"text-align: right;\">\n",
       "      <th></th>\n",
       "      <th>0</th>\n",
       "      <th>carrier</th>\n",
       "      <th>late aircraft</th>\n",
       "      <th>nas</th>\n",
       "      <th>security</th>\n",
       "      <th>weather</th>\n",
       "    </tr>\n",
       "  </thead>\n",
       "  <tbody>\n",
       "    <tr>\n",
       "      <th>0</th>\n",
       "      <td>1</td>\n",
       "      <td>0</td>\n",
       "      <td>0</td>\n",
       "      <td>0</td>\n",
       "      <td>0</td>\n",
       "      <td>0</td>\n",
       "    </tr>\n",
       "    <tr>\n",
       "      <th>1</th>\n",
       "      <td>1</td>\n",
       "      <td>0</td>\n",
       "      <td>0</td>\n",
       "      <td>0</td>\n",
       "      <td>0</td>\n",
       "      <td>0</td>\n",
       "    </tr>\n",
       "    <tr>\n",
       "      <th>2</th>\n",
       "      <td>1</td>\n",
       "      <td>0</td>\n",
       "      <td>0</td>\n",
       "      <td>0</td>\n",
       "      <td>0</td>\n",
       "      <td>0</td>\n",
       "    </tr>\n",
       "    <tr>\n",
       "      <th>3</th>\n",
       "      <td>1</td>\n",
       "      <td>0</td>\n",
       "      <td>0</td>\n",
       "      <td>0</td>\n",
       "      <td>0</td>\n",
       "      <td>0</td>\n",
       "    </tr>\n",
       "    <tr>\n",
       "      <th>4</th>\n",
       "      <td>1</td>\n",
       "      <td>0</td>\n",
       "      <td>0</td>\n",
       "      <td>0</td>\n",
       "      <td>0</td>\n",
       "      <td>0</td>\n",
       "    </tr>\n",
       "    <tr>\n",
       "      <th>...</th>\n",
       "      <td>...</td>\n",
       "      <td>...</td>\n",
       "      <td>...</td>\n",
       "      <td>...</td>\n",
       "      <td>...</td>\n",
       "      <td>...</td>\n",
       "    </tr>\n",
       "    <tr>\n",
       "      <th>736647</th>\n",
       "      <td>1</td>\n",
       "      <td>0</td>\n",
       "      <td>0</td>\n",
       "      <td>0</td>\n",
       "      <td>0</td>\n",
       "      <td>0</td>\n",
       "    </tr>\n",
       "    <tr>\n",
       "      <th>736648</th>\n",
       "      <td>1</td>\n",
       "      <td>0</td>\n",
       "      <td>0</td>\n",
       "      <td>0</td>\n",
       "      <td>0</td>\n",
       "      <td>0</td>\n",
       "    </tr>\n",
       "    <tr>\n",
       "      <th>736649</th>\n",
       "      <td>1</td>\n",
       "      <td>0</td>\n",
       "      <td>0</td>\n",
       "      <td>0</td>\n",
       "      <td>0</td>\n",
       "      <td>0</td>\n",
       "    </tr>\n",
       "    <tr>\n",
       "      <th>736650</th>\n",
       "      <td>0</td>\n",
       "      <td>0</td>\n",
       "      <td>0</td>\n",
       "      <td>1</td>\n",
       "      <td>0</td>\n",
       "      <td>0</td>\n",
       "    </tr>\n",
       "    <tr>\n",
       "      <th>736651</th>\n",
       "      <td>0</td>\n",
       "      <td>1</td>\n",
       "      <td>0</td>\n",
       "      <td>0</td>\n",
       "      <td>0</td>\n",
       "      <td>0</td>\n",
       "    </tr>\n",
       "  </tbody>\n",
       "</table>\n",
       "<p>659119 rows × 6 columns</p>\n",
       "</div>"
      ],
      "text/plain": [
       "        0  carrier  late aircraft  nas  security  weather\n",
       "0       1        0              0    0         0        0\n",
       "1       1        0              0    0         0        0\n",
       "2       1        0              0    0         0        0\n",
       "3       1        0              0    0         0        0\n",
       "4       1        0              0    0         0        0\n",
       "...    ..      ...            ...  ...       ...      ...\n",
       "736647  1        0              0    0         0        0\n",
       "736648  1        0              0    0         0        0\n",
       "736649  1        0              0    0         0        0\n",
       "736650  0        0              0    1         0        0\n",
       "736651  0        1              0    0         0        0\n",
       "\n",
       "[659119 rows x 6 columns]"
      ]
     },
     "execution_count": 71,
     "metadata": {},
     "output_type": "execute_result"
    }
   ],
   "source": [
    "dummy"
   ]
  },
  {
   "cell_type": "code",
   "execution_count": 72,
   "id": "33861e41",
   "metadata": {},
   "outputs": [
    {
     "data": {
      "text/plain": [
       "Index(['Unnamed: 0.1', 'Unnamed: 0', 'YEAR', 'MONTH', 'DAY_OF_WEEK',\n",
       "       'OP_CARRIER_FL_NUM', 'ORIGIN', 'DEST', 'CRS_DEP_TIME', 'DEP_TIME',\n",
       "       'DEP_DELAY', 'DEP_DELAY_NEW', 'CRS_ARR_TIME', 'ARR_TIME', 'ARR_DELAY',\n",
       "       'ARR_DELAY_NEW', 'CANCELLED', 'CANCELLATION_CODE', 'DIVERTED',\n",
       "       'CRS_ELAPSED_TIME', 'ACTUAL_ELAPSED_TIME', 'CARRIER_DELAY',\n",
       "       'WEATHER_DELAY', 'NAS_DELAY', 'SECURITY_DELAY', 'LATE_AIRCRAFT_DELAY',\n",
       "       'WHY_DELAY', 'DAY', 'DATE', '0', 'carrier', 'late aircraft', 'nas',\n",
       "       'security', 'weather'],\n",
       "      dtype='object')"
      ]
     },
     "execution_count": 72,
     "metadata": {},
     "output_type": "execute_result"
    }
   ],
   "source": [
    "df = pd.concat([df, dummy], axis = 1)\n",
    "df.keys()"
   ]
  },
  {
   "cell_type": "code",
   "execution_count": 73,
   "id": "e79427b4",
   "metadata": {},
   "outputs": [],
   "source": [
    "df.drop(columns = ['0', 'ARR_DELAY', 'ARR_DELAY_NEW','Unnamed: 0.1', 'Unnamed: 0', 'OP_CARRIER_FL_NUM', 'CANCELLATION_CODE', 'DIVERTED',  'CARRIER_DELAY','WEATHER_DELAY', 'NAS_DELAY', 'SECURITY_DELAY', 'LATE_AIRCRAFT_DELAY', 'DATE', 'WHY_DELAY', 'carrier', 'late aircraft', 'nas','security', 'OP_CARRIER_FL_NUM', 'CANCELLED']  , inplace = True)"
   ]
  },
  {
   "cell_type": "code",
   "execution_count": 74,
   "id": "69488055",
   "metadata": {},
   "outputs": [
    {
     "data": {
      "text/html": [
       "<div>\n",
       "<style scoped>\n",
       "    .dataframe tbody tr th:only-of-type {\n",
       "        vertical-align: middle;\n",
       "    }\n",
       "\n",
       "    .dataframe tbody tr th {\n",
       "        vertical-align: top;\n",
       "    }\n",
       "\n",
       "    .dataframe thead th {\n",
       "        text-align: right;\n",
       "    }\n",
       "</style>\n",
       "<table border=\"1\" class=\"dataframe\">\n",
       "  <thead>\n",
       "    <tr style=\"text-align: right;\">\n",
       "      <th></th>\n",
       "      <th>YEAR</th>\n",
       "      <th>MONTH</th>\n",
       "      <th>DAY_OF_WEEK</th>\n",
       "      <th>ORIGIN</th>\n",
       "      <th>DEST</th>\n",
       "      <th>CRS_DEP_TIME</th>\n",
       "      <th>DEP_TIME</th>\n",
       "      <th>DEP_DELAY</th>\n",
       "      <th>DEP_DELAY_NEW</th>\n",
       "      <th>CRS_ARR_TIME</th>\n",
       "      <th>ARR_TIME</th>\n",
       "      <th>CRS_ELAPSED_TIME</th>\n",
       "      <th>ACTUAL_ELAPSED_TIME</th>\n",
       "      <th>DAY</th>\n",
       "      <th>weather</th>\n",
       "    </tr>\n",
       "  </thead>\n",
       "  <tbody>\n",
       "    <tr>\n",
       "      <th>0</th>\n",
       "      <td>2010</td>\n",
       "      <td>5</td>\n",
       "      <td>6.0</td>\n",
       "      <td>STT</td>\n",
       "      <td>MIA</td>\n",
       "      <td>1535</td>\n",
       "      <td>1519.0</td>\n",
       "      <td>-16.0</td>\n",
       "      <td>0.0</td>\n",
       "      <td>1840</td>\n",
       "      <td>1835.0</td>\n",
       "      <td>185.0</td>\n",
       "      <td>196.0</td>\n",
       "      <td>1</td>\n",
       "      <td>0</td>\n",
       "    </tr>\n",
       "    <tr>\n",
       "      <th>1</th>\n",
       "      <td>2010</td>\n",
       "      <td>5</td>\n",
       "      <td>7.0</td>\n",
       "      <td>STT</td>\n",
       "      <td>MIA</td>\n",
       "      <td>1535</td>\n",
       "      <td>1550.0</td>\n",
       "      <td>15.0</td>\n",
       "      <td>15.0</td>\n",
       "      <td>1840</td>\n",
       "      <td>1840.0</td>\n",
       "      <td>185.0</td>\n",
       "      <td>170.0</td>\n",
       "      <td>2</td>\n",
       "      <td>0</td>\n",
       "    </tr>\n",
       "    <tr>\n",
       "      <th>2</th>\n",
       "      <td>2010</td>\n",
       "      <td>5</td>\n",
       "      <td>1.0</td>\n",
       "      <td>STT</td>\n",
       "      <td>MIA</td>\n",
       "      <td>1535</td>\n",
       "      <td>1550.0</td>\n",
       "      <td>15.0</td>\n",
       "      <td>15.0</td>\n",
       "      <td>1840</td>\n",
       "      <td>1846.0</td>\n",
       "      <td>185.0</td>\n",
       "      <td>176.0</td>\n",
       "      <td>3</td>\n",
       "      <td>0</td>\n",
       "    </tr>\n",
       "    <tr>\n",
       "      <th>3</th>\n",
       "      <td>2010</td>\n",
       "      <td>5</td>\n",
       "      <td>2.0</td>\n",
       "      <td>STT</td>\n",
       "      <td>MIA</td>\n",
       "      <td>1535</td>\n",
       "      <td>1533.0</td>\n",
       "      <td>-2.0</td>\n",
       "      <td>0.0</td>\n",
       "      <td>1840</td>\n",
       "      <td>1829.0</td>\n",
       "      <td>185.0</td>\n",
       "      <td>176.0</td>\n",
       "      <td>4</td>\n",
       "      <td>0</td>\n",
       "    </tr>\n",
       "    <tr>\n",
       "      <th>4</th>\n",
       "      <td>2010</td>\n",
       "      <td>5</td>\n",
       "      <td>3.0</td>\n",
       "      <td>STT</td>\n",
       "      <td>MIA</td>\n",
       "      <td>1535</td>\n",
       "      <td>1557.0</td>\n",
       "      <td>22.0</td>\n",
       "      <td>22.0</td>\n",
       "      <td>1840</td>\n",
       "      <td>1848.0</td>\n",
       "      <td>185.0</td>\n",
       "      <td>171.0</td>\n",
       "      <td>5</td>\n",
       "      <td>0</td>\n",
       "    </tr>\n",
       "  </tbody>\n",
       "</table>\n",
       "</div>"
      ],
      "text/plain": [
       "   YEAR  MONTH  DAY_OF_WEEK ORIGIN DEST  CRS_DEP_TIME  DEP_TIME  DEP_DELAY  \\\n",
       "0  2010      5          6.0    STT  MIA          1535    1519.0      -16.0   \n",
       "1  2010      5          7.0    STT  MIA          1535    1550.0       15.0   \n",
       "2  2010      5          1.0    STT  MIA          1535    1550.0       15.0   \n",
       "3  2010      5          2.0    STT  MIA          1535    1533.0       -2.0   \n",
       "4  2010      5          3.0    STT  MIA          1535    1557.0       22.0   \n",
       "\n",
       "   DEP_DELAY_NEW  CRS_ARR_TIME  ARR_TIME  CRS_ELAPSED_TIME  \\\n",
       "0            0.0          1840    1835.0             185.0   \n",
       "1           15.0          1840    1840.0             185.0   \n",
       "2           15.0          1840    1846.0             185.0   \n",
       "3            0.0          1840    1829.0             185.0   \n",
       "4           22.0          1840    1848.0             185.0   \n",
       "\n",
       "   ACTUAL_ELAPSED_TIME  DAY  weather  \n",
       "0                196.0    1        0  \n",
       "1                170.0    2        0  \n",
       "2                176.0    3        0  \n",
       "3                176.0    4        0  \n",
       "4                171.0    5        0  "
      ]
     },
     "execution_count": 74,
     "metadata": {},
     "output_type": "execute_result"
    }
   ],
   "source": [
    "df.head()"
   ]
  },
  {
   "cell_type": "code",
   "execution_count": 75,
   "id": "a4d629a7",
   "metadata": {},
   "outputs": [
    {
     "name": "stdout",
     "output_type": "stream",
     "text": [
      "<class 'pandas.core.frame.DataFrame'>\n",
      "Int64Index: 659119 entries, 0 to 736651\n",
      "Data columns (total 15 columns):\n",
      " #   Column               Non-Null Count   Dtype  \n",
      "---  ------               --------------   -----  \n",
      " 0   YEAR                 659119 non-null  int64  \n",
      " 1   MONTH                659119 non-null  int64  \n",
      " 2   DAY_OF_WEEK          659119 non-null  float64\n",
      " 3   ORIGIN               659119 non-null  object \n",
      " 4   DEST                 659119 non-null  object \n",
      " 5   CRS_DEP_TIME         659119 non-null  int64  \n",
      " 6   DEP_TIME             659119 non-null  float64\n",
      " 7   DEP_DELAY            659119 non-null  float64\n",
      " 8   DEP_DELAY_NEW        659119 non-null  float64\n",
      " 9   CRS_ARR_TIME         659119 non-null  int64  \n",
      " 10  ARR_TIME             659119 non-null  float64\n",
      " 11  CRS_ELAPSED_TIME     659119 non-null  float64\n",
      " 12  ACTUAL_ELAPSED_TIME  659119 non-null  float64\n",
      " 13  DAY                  659119 non-null  int64  \n",
      " 14  weather              659119 non-null  uint8  \n",
      "dtypes: float64(7), int64(5), object(2), uint8(1)\n",
      "memory usage: 76.1+ MB\n"
     ]
    }
   ],
   "source": [
    "df.info()"
   ]
  },
  {
   "cell_type": "code",
   "execution_count": 76,
   "id": "8255b78c",
   "metadata": {},
   "outputs": [],
   "source": [
    "# Due to the size and complexity of the data set, I am only going to focus on arrivals for the time being.\n",
    "df_arr = df[df.DEST == 'MIA']\n"
   ]
  },
  {
   "cell_type": "code",
   "execution_count": 77,
   "id": "839950d6",
   "metadata": {},
   "outputs": [
    {
     "data": {
      "text/plain": [
       "Index(['YEAR', 'MONTH', 'DAY_OF_WEEK', 'ORIGIN', 'DEST', 'CRS_DEP_TIME',\n",
       "       'DEP_TIME', 'DEP_DELAY', 'DEP_DELAY_NEW', 'CRS_ARR_TIME', 'ARR_TIME',\n",
       "       'CRS_ELAPSED_TIME', 'ACTUAL_ELAPSED_TIME', 'DAY', 'weather'],\n",
       "      dtype='object')"
      ]
     },
     "execution_count": 77,
     "metadata": {},
     "output_type": "execute_result"
    }
   ],
   "source": [
    "df_arr.keys()"
   ]
  },
  {
   "cell_type": "code",
   "execution_count": 78,
   "id": "e5ff3d0d",
   "metadata": {},
   "outputs": [
    {
     "name": "stderr",
     "output_type": "stream",
     "text": [
      "C:\\Users\\Fernando Araiza\\AppData\\Local\\Temp\\ipykernel_3904\\324790782.py:4: SettingWithCopyWarning: \n",
      "A value is trying to be set on a copy of a slice from a DataFrame\n",
      "\n",
      "See the caveats in the documentation: https://pandas.pydata.org/pandas-docs/stable/user_guide/indexing.html#returning-a-view-versus-a-copy\n",
      "  df_arr.drop(columns = ['CRS_DEP_TIME','DEST', 'DEP_DELAY_NEW', 'DEP_TIME', 'DEP_DELAY'], inplace = True)\n"
     ]
    }
   ],
   "source": [
    "# In df_ arr, the DEST value is the same for all flights, I will be eliminating that column as well as everything that has to \n",
    "# deal with departures.\n",
    "\n",
    "df_arr.drop(columns = ['CRS_DEP_TIME','DEST', 'DEP_DELAY_NEW', 'DEP_TIME', 'DEP_DELAY'], inplace = True)\n",
    "\n",
    "\n"
   ]
  },
  {
   "cell_type": "code",
   "execution_count": 79,
   "id": "89e969d0",
   "metadata": {},
   "outputs": [],
   "source": [
    "# Converting Origin to numerical data by using get_dummies for arrivals\n",
    "temp = pd.get_dummies(df_arr.ORIGIN, prefix = 'ORIGIN')\n",
    "\n"
   ]
  },
  {
   "cell_type": "code",
   "execution_count": 80,
   "id": "e3907353",
   "metadata": {},
   "outputs": [
    {
     "data": {
      "text/html": [
       "<div>\n",
       "<style scoped>\n",
       "    .dataframe tbody tr th:only-of-type {\n",
       "        vertical-align: middle;\n",
       "    }\n",
       "\n",
       "    .dataframe tbody tr th {\n",
       "        vertical-align: top;\n",
       "    }\n",
       "\n",
       "    .dataframe thead th {\n",
       "        text-align: right;\n",
       "    }\n",
       "</style>\n",
       "<table border=\"1\" class=\"dataframe\">\n",
       "  <thead>\n",
       "    <tr style=\"text-align: right;\">\n",
       "      <th></th>\n",
       "      <th>ORIGIN_ATL</th>\n",
       "      <th>ORIGIN_AUS</th>\n",
       "      <th>ORIGIN_BDL</th>\n",
       "      <th>ORIGIN_BGR</th>\n",
       "      <th>ORIGIN_BHM</th>\n",
       "      <th>ORIGIN_BNA</th>\n",
       "      <th>ORIGIN_BOS</th>\n",
       "      <th>ORIGIN_BWI</th>\n",
       "      <th>ORIGIN_CAE</th>\n",
       "      <th>ORIGIN_CHS</th>\n",
       "      <th>...</th>\n",
       "      <th>ORIGIN_SLC</th>\n",
       "      <th>ORIGIN_STL</th>\n",
       "      <th>ORIGIN_STT</th>\n",
       "      <th>ORIGIN_STX</th>\n",
       "      <th>ORIGIN_TLH</th>\n",
       "      <th>ORIGIN_TPA</th>\n",
       "      <th>ORIGIN_TTN</th>\n",
       "      <th>ORIGIN_TUL</th>\n",
       "      <th>ORIGIN_TYS</th>\n",
       "      <th>ORIGIN_XNA</th>\n",
       "    </tr>\n",
       "  </thead>\n",
       "  <tbody>\n",
       "    <tr>\n",
       "      <th>0</th>\n",
       "      <td>0</td>\n",
       "      <td>0</td>\n",
       "      <td>0</td>\n",
       "      <td>0</td>\n",
       "      <td>0</td>\n",
       "      <td>0</td>\n",
       "      <td>0</td>\n",
       "      <td>0</td>\n",
       "      <td>0</td>\n",
       "      <td>0</td>\n",
       "      <td>...</td>\n",
       "      <td>0</td>\n",
       "      <td>0</td>\n",
       "      <td>1</td>\n",
       "      <td>0</td>\n",
       "      <td>0</td>\n",
       "      <td>0</td>\n",
       "      <td>0</td>\n",
       "      <td>0</td>\n",
       "      <td>0</td>\n",
       "      <td>0</td>\n",
       "    </tr>\n",
       "    <tr>\n",
       "      <th>1</th>\n",
       "      <td>0</td>\n",
       "      <td>0</td>\n",
       "      <td>0</td>\n",
       "      <td>0</td>\n",
       "      <td>0</td>\n",
       "      <td>0</td>\n",
       "      <td>0</td>\n",
       "      <td>0</td>\n",
       "      <td>0</td>\n",
       "      <td>0</td>\n",
       "      <td>...</td>\n",
       "      <td>0</td>\n",
       "      <td>0</td>\n",
       "      <td>1</td>\n",
       "      <td>0</td>\n",
       "      <td>0</td>\n",
       "      <td>0</td>\n",
       "      <td>0</td>\n",
       "      <td>0</td>\n",
       "      <td>0</td>\n",
       "      <td>0</td>\n",
       "    </tr>\n",
       "    <tr>\n",
       "      <th>2</th>\n",
       "      <td>0</td>\n",
       "      <td>0</td>\n",
       "      <td>0</td>\n",
       "      <td>0</td>\n",
       "      <td>0</td>\n",
       "      <td>0</td>\n",
       "      <td>0</td>\n",
       "      <td>0</td>\n",
       "      <td>0</td>\n",
       "      <td>0</td>\n",
       "      <td>...</td>\n",
       "      <td>0</td>\n",
       "      <td>0</td>\n",
       "      <td>1</td>\n",
       "      <td>0</td>\n",
       "      <td>0</td>\n",
       "      <td>0</td>\n",
       "      <td>0</td>\n",
       "      <td>0</td>\n",
       "      <td>0</td>\n",
       "      <td>0</td>\n",
       "    </tr>\n",
       "    <tr>\n",
       "      <th>3</th>\n",
       "      <td>0</td>\n",
       "      <td>0</td>\n",
       "      <td>0</td>\n",
       "      <td>0</td>\n",
       "      <td>0</td>\n",
       "      <td>0</td>\n",
       "      <td>0</td>\n",
       "      <td>0</td>\n",
       "      <td>0</td>\n",
       "      <td>0</td>\n",
       "      <td>...</td>\n",
       "      <td>0</td>\n",
       "      <td>0</td>\n",
       "      <td>1</td>\n",
       "      <td>0</td>\n",
       "      <td>0</td>\n",
       "      <td>0</td>\n",
       "      <td>0</td>\n",
       "      <td>0</td>\n",
       "      <td>0</td>\n",
       "      <td>0</td>\n",
       "    </tr>\n",
       "    <tr>\n",
       "      <th>4</th>\n",
       "      <td>0</td>\n",
       "      <td>0</td>\n",
       "      <td>0</td>\n",
       "      <td>0</td>\n",
       "      <td>0</td>\n",
       "      <td>0</td>\n",
       "      <td>0</td>\n",
       "      <td>0</td>\n",
       "      <td>0</td>\n",
       "      <td>0</td>\n",
       "      <td>...</td>\n",
       "      <td>0</td>\n",
       "      <td>0</td>\n",
       "      <td>1</td>\n",
       "      <td>0</td>\n",
       "      <td>0</td>\n",
       "      <td>0</td>\n",
       "      <td>0</td>\n",
       "      <td>0</td>\n",
       "      <td>0</td>\n",
       "      <td>0</td>\n",
       "    </tr>\n",
       "    <tr>\n",
       "      <th>...</th>\n",
       "      <td>...</td>\n",
       "      <td>...</td>\n",
       "      <td>...</td>\n",
       "      <td>...</td>\n",
       "      <td>...</td>\n",
       "      <td>...</td>\n",
       "      <td>...</td>\n",
       "      <td>...</td>\n",
       "      <td>...</td>\n",
       "      <td>...</td>\n",
       "      <td>...</td>\n",
       "      <td>...</td>\n",
       "      <td>...</td>\n",
       "      <td>...</td>\n",
       "      <td>...</td>\n",
       "      <td>...</td>\n",
       "      <td>...</td>\n",
       "      <td>...</td>\n",
       "      <td>...</td>\n",
       "      <td>...</td>\n",
       "      <td>...</td>\n",
       "    </tr>\n",
       "    <tr>\n",
       "      <th>736642</th>\n",
       "      <td>0</td>\n",
       "      <td>0</td>\n",
       "      <td>0</td>\n",
       "      <td>0</td>\n",
       "      <td>0</td>\n",
       "      <td>0</td>\n",
       "      <td>0</td>\n",
       "      <td>0</td>\n",
       "      <td>0</td>\n",
       "      <td>0</td>\n",
       "      <td>...</td>\n",
       "      <td>0</td>\n",
       "      <td>0</td>\n",
       "      <td>0</td>\n",
       "      <td>0</td>\n",
       "      <td>0</td>\n",
       "      <td>0</td>\n",
       "      <td>0</td>\n",
       "      <td>0</td>\n",
       "      <td>0</td>\n",
       "      <td>0</td>\n",
       "    </tr>\n",
       "    <tr>\n",
       "      <th>736644</th>\n",
       "      <td>0</td>\n",
       "      <td>0</td>\n",
       "      <td>0</td>\n",
       "      <td>0</td>\n",
       "      <td>0</td>\n",
       "      <td>0</td>\n",
       "      <td>1</td>\n",
       "      <td>0</td>\n",
       "      <td>0</td>\n",
       "      <td>0</td>\n",
       "      <td>...</td>\n",
       "      <td>0</td>\n",
       "      <td>0</td>\n",
       "      <td>0</td>\n",
       "      <td>0</td>\n",
       "      <td>0</td>\n",
       "      <td>0</td>\n",
       "      <td>0</td>\n",
       "      <td>0</td>\n",
       "      <td>0</td>\n",
       "      <td>0</td>\n",
       "    </tr>\n",
       "    <tr>\n",
       "      <th>736645</th>\n",
       "      <td>0</td>\n",
       "      <td>0</td>\n",
       "      <td>0</td>\n",
       "      <td>0</td>\n",
       "      <td>0</td>\n",
       "      <td>0</td>\n",
       "      <td>0</td>\n",
       "      <td>0</td>\n",
       "      <td>0</td>\n",
       "      <td>0</td>\n",
       "      <td>...</td>\n",
       "      <td>0</td>\n",
       "      <td>0</td>\n",
       "      <td>0</td>\n",
       "      <td>0</td>\n",
       "      <td>0</td>\n",
       "      <td>0</td>\n",
       "      <td>0</td>\n",
       "      <td>0</td>\n",
       "      <td>0</td>\n",
       "      <td>0</td>\n",
       "    </tr>\n",
       "    <tr>\n",
       "      <th>736647</th>\n",
       "      <td>0</td>\n",
       "      <td>0</td>\n",
       "      <td>0</td>\n",
       "      <td>0</td>\n",
       "      <td>0</td>\n",
       "      <td>0</td>\n",
       "      <td>0</td>\n",
       "      <td>0</td>\n",
       "      <td>0</td>\n",
       "      <td>0</td>\n",
       "      <td>...</td>\n",
       "      <td>0</td>\n",
       "      <td>0</td>\n",
       "      <td>0</td>\n",
       "      <td>0</td>\n",
       "      <td>0</td>\n",
       "      <td>0</td>\n",
       "      <td>0</td>\n",
       "      <td>0</td>\n",
       "      <td>0</td>\n",
       "      <td>0</td>\n",
       "    </tr>\n",
       "    <tr>\n",
       "      <th>736648</th>\n",
       "      <td>1</td>\n",
       "      <td>0</td>\n",
       "      <td>0</td>\n",
       "      <td>0</td>\n",
       "      <td>0</td>\n",
       "      <td>0</td>\n",
       "      <td>0</td>\n",
       "      <td>0</td>\n",
       "      <td>0</td>\n",
       "      <td>0</td>\n",
       "      <td>...</td>\n",
       "      <td>0</td>\n",
       "      <td>0</td>\n",
       "      <td>0</td>\n",
       "      <td>0</td>\n",
       "      <td>0</td>\n",
       "      <td>0</td>\n",
       "      <td>0</td>\n",
       "      <td>0</td>\n",
       "      <td>0</td>\n",
       "      <td>0</td>\n",
       "    </tr>\n",
       "  </tbody>\n",
       "</table>\n",
       "<p>329362 rows × 75 columns</p>\n",
       "</div>"
      ],
      "text/plain": [
       "        ORIGIN_ATL  ORIGIN_AUS  ORIGIN_BDL  ORIGIN_BGR  ORIGIN_BHM  \\\n",
       "0                0           0           0           0           0   \n",
       "1                0           0           0           0           0   \n",
       "2                0           0           0           0           0   \n",
       "3                0           0           0           0           0   \n",
       "4                0           0           0           0           0   \n",
       "...            ...         ...         ...         ...         ...   \n",
       "736642           0           0           0           0           0   \n",
       "736644           0           0           0           0           0   \n",
       "736645           0           0           0           0           0   \n",
       "736647           0           0           0           0           0   \n",
       "736648           1           0           0           0           0   \n",
       "\n",
       "        ORIGIN_BNA  ORIGIN_BOS  ORIGIN_BWI  ORIGIN_CAE  ORIGIN_CHS  ...  \\\n",
       "0                0           0           0           0           0  ...   \n",
       "1                0           0           0           0           0  ...   \n",
       "2                0           0           0           0           0  ...   \n",
       "3                0           0           0           0           0  ...   \n",
       "4                0           0           0           0           0  ...   \n",
       "...            ...         ...         ...         ...         ...  ...   \n",
       "736642           0           0           0           0           0  ...   \n",
       "736644           0           1           0           0           0  ...   \n",
       "736645           0           0           0           0           0  ...   \n",
       "736647           0           0           0           0           0  ...   \n",
       "736648           0           0           0           0           0  ...   \n",
       "\n",
       "        ORIGIN_SLC  ORIGIN_STL  ORIGIN_STT  ORIGIN_STX  ORIGIN_TLH  \\\n",
       "0                0           0           1           0           0   \n",
       "1                0           0           1           0           0   \n",
       "2                0           0           1           0           0   \n",
       "3                0           0           1           0           0   \n",
       "4                0           0           1           0           0   \n",
       "...            ...         ...         ...         ...         ...   \n",
       "736642           0           0           0           0           0   \n",
       "736644           0           0           0           0           0   \n",
       "736645           0           0           0           0           0   \n",
       "736647           0           0           0           0           0   \n",
       "736648           0           0           0           0           0   \n",
       "\n",
       "        ORIGIN_TPA  ORIGIN_TTN  ORIGIN_TUL  ORIGIN_TYS  ORIGIN_XNA  \n",
       "0                0           0           0           0           0  \n",
       "1                0           0           0           0           0  \n",
       "2                0           0           0           0           0  \n",
       "3                0           0           0           0           0  \n",
       "4                0           0           0           0           0  \n",
       "...            ...         ...         ...         ...         ...  \n",
       "736642           0           0           0           0           0  \n",
       "736644           0           0           0           0           0  \n",
       "736645           0           0           0           0           0  \n",
       "736647           0           0           0           0           0  \n",
       "736648           0           0           0           0           0  \n",
       "\n",
       "[329362 rows x 75 columns]"
      ]
     },
     "execution_count": 80,
     "metadata": {},
     "output_type": "execute_result"
    }
   ],
   "source": [
    "temp"
   ]
  },
  {
   "cell_type": "code",
   "execution_count": 81,
   "id": "40e1cb44",
   "metadata": {},
   "outputs": [],
   "source": [
    "#Join the two dataframes\n",
    "df_arr = pd.concat([df_arr, temp], axis = 1)"
   ]
  },
  {
   "cell_type": "code",
   "execution_count": 82,
   "id": "6b06d3d8",
   "metadata": {},
   "outputs": [],
   "source": [
    "# Creating y for arrivals and dropping weather and origin column for df_arr\n",
    "y_arr = df_arr['weather']"
   ]
  },
  {
   "cell_type": "code",
   "execution_count": 83,
   "id": "abecc6d6",
   "metadata": {},
   "outputs": [],
   "source": [
    "df_arr.drop(columns = ['weather', 'ORIGIN'], inplace = True)"
   ]
  },
  {
   "cell_type": "code",
   "execution_count": 84,
   "id": "10cd6038",
   "metadata": {},
   "outputs": [
    {
     "name": "stdout",
     "output_type": "stream",
     "text": [
      "<class 'pandas.core.frame.DataFrame'>\n",
      "Int64Index: 329362 entries, 0 to 736648\n",
      "Data columns (total 83 columns):\n",
      " #   Column               Non-Null Count   Dtype  \n",
      "---  ------               --------------   -----  \n",
      " 0   YEAR                 329362 non-null  int64  \n",
      " 1   MONTH                329362 non-null  int64  \n",
      " 2   DAY_OF_WEEK          329362 non-null  float64\n",
      " 3   CRS_ARR_TIME         329362 non-null  int64  \n",
      " 4   ARR_TIME             329362 non-null  float64\n",
      " 5   CRS_ELAPSED_TIME     329362 non-null  float64\n",
      " 6   ACTUAL_ELAPSED_TIME  329362 non-null  float64\n",
      " 7   DAY                  329362 non-null  int64  \n",
      " 8   ORIGIN_ATL           329362 non-null  uint8  \n",
      " 9   ORIGIN_AUS           329362 non-null  uint8  \n",
      " 10  ORIGIN_BDL           329362 non-null  uint8  \n",
      " 11  ORIGIN_BGR           329362 non-null  uint8  \n",
      " 12  ORIGIN_BHM           329362 non-null  uint8  \n",
      " 13  ORIGIN_BNA           329362 non-null  uint8  \n",
      " 14  ORIGIN_BOS           329362 non-null  uint8  \n",
      " 15  ORIGIN_BWI           329362 non-null  uint8  \n",
      " 16  ORIGIN_CAE           329362 non-null  uint8  \n",
      " 17  ORIGIN_CHS           329362 non-null  uint8  \n",
      " 18  ORIGIN_CLE           329362 non-null  uint8  \n",
      " 19  ORIGIN_CLT           329362 non-null  uint8  \n",
      " 20  ORIGIN_CMH           329362 non-null  uint8  \n",
      " 21  ORIGIN_CVG           329362 non-null  uint8  \n",
      " 22  ORIGIN_DAL           329362 non-null  uint8  \n",
      " 23  ORIGIN_DCA           329362 non-null  uint8  \n",
      " 24  ORIGIN_DEN           329362 non-null  uint8  \n",
      " 25  ORIGIN_DFW           329362 non-null  uint8  \n",
      " 26  ORIGIN_DTW           329362 non-null  uint8  \n",
      " 27  ORIGIN_EWR           329362 non-null  uint8  \n",
      " 28  ORIGIN_EYW           329362 non-null  uint8  \n",
      " 29  ORIGIN_GNV           329362 non-null  uint8  \n",
      " 30  ORIGIN_GSO           329362 non-null  uint8  \n",
      " 31  ORIGIN_GSP           329362 non-null  uint8  \n",
      " 32  ORIGIN_HOU           329362 non-null  uint8  \n",
      " 33  ORIGIN_IAD           329362 non-null  uint8  \n",
      " 34  ORIGIN_IAH           329362 non-null  uint8  \n",
      " 35  ORIGIN_IND           329362 non-null  uint8  \n",
      " 36  ORIGIN_ISP           329362 non-null  uint8  \n",
      " 37  ORIGIN_JAN           329362 non-null  uint8  \n",
      " 38  ORIGIN_JAX           329362 non-null  uint8  \n",
      " 39  ORIGIN_JFK           329362 non-null  uint8  \n",
      " 40  ORIGIN_LAS           329362 non-null  uint8  \n",
      " 41  ORIGIN_LAX           329362 non-null  uint8  \n",
      " 42  ORIGIN_LGA           329362 non-null  uint8  \n",
      " 43  ORIGIN_LIT           329362 non-null  uint8  \n",
      " 44  ORIGIN_MCI           329362 non-null  uint8  \n",
      " 45  ORIGIN_MCO           329362 non-null  uint8  \n",
      " 46  ORIGIN_MDW           329362 non-null  uint8  \n",
      " 47  ORIGIN_MEM           329362 non-null  uint8  \n",
      " 48  ORIGIN_MKE           329362 non-null  uint8  \n",
      " 49  ORIGIN_MSP           329362 non-null  uint8  \n",
      " 50  ORIGIN_MSY           329362 non-null  uint8  \n",
      " 51  ORIGIN_MYR           329362 non-null  uint8  \n",
      " 52  ORIGIN_OKC           329362 non-null  uint8  \n",
      " 53  ORIGIN_OMA           329362 non-null  uint8  \n",
      " 54  ORIGIN_ORD           329362 non-null  uint8  \n",
      " 55  ORIGIN_ORF           329362 non-null  uint8  \n",
      " 56  ORIGIN_PHL           329362 non-null  uint8  \n",
      " 57  ORIGIN_PHX           329362 non-null  uint8  \n",
      " 58  ORIGIN_PIT           329362 non-null  uint8  \n",
      " 59  ORIGIN_PNS           329362 non-null  uint8  \n",
      " 60  ORIGIN_PVD           329362 non-null  uint8  \n",
      " 61  ORIGIN_PWM           329362 non-null  uint8  \n",
      " 62  ORIGIN_RDU           329362 non-null  uint8  \n",
      " 63  ORIGIN_RIC           329362 non-null  uint8  \n",
      " 64  ORIGIN_ROC           329362 non-null  uint8  \n",
      " 65  ORIGIN_RSW           329362 non-null  uint8  \n",
      " 66  ORIGIN_SAN           329362 non-null  uint8  \n",
      " 67  ORIGIN_SAT           329362 non-null  uint8  \n",
      " 68  ORIGIN_SAV           329362 non-null  uint8  \n",
      " 69  ORIGIN_SDF           329362 non-null  uint8  \n",
      " 70  ORIGIN_SEA           329362 non-null  uint8  \n",
      " 71  ORIGIN_SFO           329362 non-null  uint8  \n",
      " 72  ORIGIN_SJU           329362 non-null  uint8  \n",
      " 73  ORIGIN_SLC           329362 non-null  uint8  \n",
      " 74  ORIGIN_STL           329362 non-null  uint8  \n",
      " 75  ORIGIN_STT           329362 non-null  uint8  \n",
      " 76  ORIGIN_STX           329362 non-null  uint8  \n",
      " 77  ORIGIN_TLH           329362 non-null  uint8  \n",
      " 78  ORIGIN_TPA           329362 non-null  uint8  \n",
      " 79  ORIGIN_TTN           329362 non-null  uint8  \n",
      " 80  ORIGIN_TUL           329362 non-null  uint8  \n",
      " 81  ORIGIN_TYS           329362 non-null  uint8  \n",
      " 82  ORIGIN_XNA           329362 non-null  uint8  \n",
      "dtypes: float64(4), int64(4), uint8(75)\n",
      "memory usage: 46.2 MB\n"
     ]
    }
   ],
   "source": [
    "df_arr.info()"
   ]
  },
  {
   "cell_type": "code",
   "execution_count": 22,
   "id": "531c9821",
   "metadata": {},
   "outputs": [],
   "source": [
    "# Split train, test for df_arrival\n",
    "X_arr_train, X_arr_test, y_arr_train, y_arr_test = train_test_split(df_arr, y_arr, test_size = .33, random_state = 42)"
   ]
  },
  {
   "cell_type": "code",
   "execution_count": 23,
   "id": "c677dac3",
   "metadata": {},
   "outputs": [],
   "source": [
    "#Function to implement SMOTE\n",
    "def create_smote(X_arr_train, y_arr_train):\n",
    "    from imblearn.over_sampling import SMOTE\n",
    "    sm = SMOTE(random_state = 42, sampling_strategy = 1.0)\n",
    "    X_train, y_train = sm.fit_resample(X_arr_train, y_arr_train)\n",
    "    return [X_train, y_train]\n"
   ]
  },
  {
   "cell_type": "code",
   "execution_count": 24,
   "id": "e6b33220",
   "metadata": {},
   "outputs": [],
   "source": [
    "smoted = create_smote(X_arr_train, y_arr_train)\n",
    "X_arr_train = smoted[0] \n",
    "y_arr_train = smoted[1]"
   ]
  },
  {
   "cell_type": "code",
   "execution_count": 25,
   "id": "71062787",
   "metadata": {},
   "outputs": [],
   "source": [
    "# These functions are to interpret and print the results of the maching learning algorithms. \n",
    "#There are two functions, one for that had iterable parameter thus had multiple results and the other for those who didn't\n",
    "from sklearn.metrics import accuracy_score\n",
    "from sklearn.model_selection import cross_val_score\n",
    "import matplotlib.pyplot as plt\n",
    "from sklearn.model_selection import KFold\n",
    "from sklearn.metrics import classification_report\n",
    "from sklearn.metrics import confusion_matrix\n",
    "from sklearn.metrics import roc_auc_score\n",
    "import seaborn as sns\n",
    "\n",
    "#A dictionary will be used to save all the results from the different algorithms for analysis later on.\n",
    "t_results = {}\n",
    "def testing_results(test_name, y_test, y_pred, t_results):    \n",
    "   \n",
    "    \n",
    "    acc_score = accuracy_score(y_test, y_pred)\n",
    "    class_report = classification_report(y_test, y_pred)\n",
    "    conf_matrix = confusion_matrix(y_test, y_pred)\n",
    "    ROC =  roc_auc_score(y_test, y_pred)\n",
    "    \n",
    "    print(f'Accuracy score with {test_name} is {acc_score}.')\n",
    "    print(f'Classification report for {test_name} is \\n {class_report}.')\n",
    "    print(f'Confusion matrix for {test_name} is \\n {conf_matrix}.')   \n",
    "    print(f'ROC-AUC score is {ROC}.')\n",
    "    t_results[test_name] = [acc_score, class_report, conf_matrix, ROC]\n",
    "    return t_results\n",
    "    \n",
    "def iterable_testing_results(test_name, y_test, array, t_results) :\n",
    "    trinket = {}\n",
    "    for item in array.items():\n",
    "        trinket[item[0]] = accuracy_score(y_test, item[1])\n",
    "    max_score = max(trinket.values())\n",
    "    best_n = max(trinket, key=trinket.get)\n",
    "    \n",
    "    acc_score = accuracy_score(y_test, array[best_n])\n",
    "    class_report = classification_report(y_arr_test, array[best_n])\n",
    "    conf_matrix = confusion_matrix(y_arr_test, array[best_n])\n",
    "    ROC =  roc_auc_score(y_test, array[best_n])\n",
    "    print(best_n)\n",
    "    print(f'{best_n} makes the best n value with a score of {max_score}.')\n",
    "    print(f'Classification report for {test_name} \\n {class_report}.')\n",
    "    print(f'Confusion Matrix for {test_name} is \\n {conf_matrix}.')\n",
    "    print(f'ROC-AUC score is {ROC}.')\n",
    "    t_results[test_name] = [acc_score, class_report, conf_matrix, ROC]\n",
    "    return t_results\n"
   ]
  },
  {
   "cell_type": "code",
   "execution_count": 26,
   "id": "3f8bc35d",
   "metadata": {},
   "outputs": [],
   "source": [
    "# Logistic Regression\n",
    "def Logistic_Regression(X_train, y_train, X_test):\n",
    "    from sklearn.linear_model import LogisticRegression\n",
    "    c_range = [0.001,0.01,0.1,1,10,100]\n",
    "    results = {}\n",
    "    for c in c_range:\n",
    "        lgreg = LogisticRegression(C = c, class_weight = {0:.91, 1:.09})\n",
    "        lgreg.fit(X_arr_train, y_arr_train)\n",
    "        predlgreg = lgreg.predict(X_arr_test)\n",
    "        results[c] = predlgreg\n",
    "    return results    \n"
   ]
  },
  {
   "cell_type": "code",
   "execution_count": 27,
   "id": "4337bcc4",
   "metadata": {},
   "outputs": [],
   "source": [
    "# Arrival Logistic Regression\n",
    "lg_score = Logistic_Regression(X_arr_train, y_arr_train, X_arr_test)"
   ]
  },
  {
   "cell_type": "code",
   "execution_count": 28,
   "id": "38132edb",
   "metadata": {},
   "outputs": [
    {
     "name": "stdout",
     "output_type": "stream",
     "text": [
      "1\n",
      "1 makes the best n value with a score of 0.9819854632440886.\n",
      "Classification report for Logistic Regression \n",
      "               precision    recall  f1-score   support\n",
      "\n",
      "           0       0.99      1.00      0.99    107087\n",
      "           1       0.11      0.03      0.05      1603\n",
      "\n",
      "    accuracy                           0.98    108690\n",
      "   macro avg       0.55      0.51      0.52    108690\n",
      "weighted avg       0.97      0.98      0.98    108690\n",
      ".\n",
      "Confusion Matrix for Logistic Regression is \n",
      " [[106680    407]\n",
      " [  1551     52]].\n",
      "ROC-AUC score is 0.5143192642363928.\n"
     ]
    }
   ],
   "source": [
    "t_arr_results_0 = iterable_testing_results('Logistic Regression', y_arr_test, lg_score, t_results)"
   ]
  },
  {
   "cell_type": "code",
   "execution_count": 29,
   "id": "876a7527",
   "metadata": {},
   "outputs": [],
   "source": [
    "# Random Forest Classifier\n",
    "def Random_Forest(X_train, y_train, X_test):\n",
    "    from sklearn.ensemble import RandomForestClassifier\n",
    "    \n",
    "    rf=RandomForestClassifier(max_depth=5, min_samples_leaf=5, min_samples_split=12, random_state=42)\n",
    "    rf.fit(X_train, y_train)\n",
    "    rf_y_pred = rf.predict(X_test)\n",
    "    return [rf_y_pred, rf] \n",
    "\n"
   ]
  },
  {
   "cell_type": "code",
   "execution_count": 30,
   "id": "5c11d7df",
   "metadata": {},
   "outputs": [],
   "source": [
    "#Arrival Random Forest\n",
    "rf_results = Random_Forest(X_arr_train, y_arr_train, X_arr_test)"
   ]
  },
  {
   "cell_type": "code",
   "execution_count": 31,
   "id": "c97dca3a",
   "metadata": {},
   "outputs": [
    {
     "name": "stdout",
     "output_type": "stream",
     "text": [
      "Accuracy score with Random Forest Classifier is 0.7752691139939277.\n",
      "Classification report for Random Forest Classifier is \n",
      "               precision    recall  f1-score   support\n",
      "\n",
      "           0       0.99      0.78      0.87    107087\n",
      "           1       0.04      0.59      0.07      1603\n",
      "\n",
      "    accuracy                           0.78    108690\n",
      "   macro avg       0.52      0.68      0.47    108690\n",
      "weighted avg       0.98      0.78      0.86    108690\n",
      ".\n",
      "Confusion matrix for Random Forest Classifier is \n",
      " [[83319 23768]\n",
      " [  658   945]].\n",
      "ROC-AUC score is 0.6837846369292927.\n"
     ]
    }
   ],
   "source": [
    "t_arr_results_1 = testing_results('Random Forest Classifier', y_arr_test, rf_results[0], t_results)"
   ]
  },
  {
   "cell_type": "code",
   "execution_count": 32,
   "id": "9d84a07d",
   "metadata": {},
   "outputs": [],
   "source": [
    "# Decision Tree Classifier\n",
    "def Decision_Tree_Classifier(X_train, y_train, X_test):\n",
    "    from sklearn.tree import DecisionTreeClassifier\n",
    "    DTC = DecisionTreeClassifier(criterion = 'gini', random_state = 42, max_depth = 3, min_samples_leaf=5)\n",
    "    DTC.fit(X_train, y_train)\n",
    "    DTC_y_predict = DTC.predict(X_test)\n",
    "    return DTC_y_predict\n"
   ]
  },
  {
   "cell_type": "code",
   "execution_count": 33,
   "id": "7eef93d3",
   "metadata": {},
   "outputs": [],
   "source": [
    "DTC_y_predict = Decision_Tree_Classifier(X_arr_train, y_arr_train, X_arr_test)"
   ]
  },
  {
   "cell_type": "code",
   "execution_count": 34,
   "id": "11301230",
   "metadata": {},
   "outputs": [
    {
     "name": "stdout",
     "output_type": "stream",
     "text": [
      "Accuracy score with Decision Tree Classifier is 0.7032293679271322.\n",
      "Classification report for Decision Tree Classifier is \n",
      "               precision    recall  f1-score   support\n",
      "\n",
      "           0       0.99      0.70      0.82    107087\n",
      "           1       0.03      0.65      0.06      1603\n",
      "\n",
      "    accuracy                           0.70    108690\n",
      "   macro avg       0.51      0.68      0.44    108690\n",
      "weighted avg       0.98      0.70      0.81    108690\n",
      ".\n",
      "Confusion matrix for Decision Tree Classifier is \n",
      " [[75394 31693]\n",
      " [  563  1040]].\n",
      "ROC-AUC score is 0.6764139530069186.\n"
     ]
    }
   ],
   "source": [
    "t_arr_results_2 = testing_results('Decision Tree Classifier', y_arr_test, DTC_y_predict, t_arr_results_1)"
   ]
  },
  {
   "cell_type": "code",
   "execution_count": 35,
   "id": "656fefb0",
   "metadata": {},
   "outputs": [],
   "source": [
    "# Naive Bayes Gaussian NB\n",
    "def NBG (X_train, y_train, X_test):\n",
    "    from sklearn.naive_bayes import GaussianNB\n",
    "    gaussian = GaussianNB()\n",
    "    gaussian.fit(X_train, y_train)\n",
    "    gaus_pred = gaussian.predict(X_test)\n",
    "    return gaus_pred"
   ]
  },
  {
   "cell_type": "code",
   "execution_count": 36,
   "id": "e071593d",
   "metadata": {},
   "outputs": [],
   "source": [
    "gaus_pred = NBG(X_arr_train, y_arr_train, X_arr_test)"
   ]
  },
  {
   "cell_type": "code",
   "execution_count": 37,
   "id": "45953a44",
   "metadata": {},
   "outputs": [
    {
     "name": "stdout",
     "output_type": "stream",
     "text": [
      "Accuracy score with Naive Bayes Gaussian is 0.5648541724169657.\n",
      "Classification report for Naive Bayes Gaussian is \n",
      "               precision    recall  f1-score   support\n",
      "\n",
      "           0       0.99      0.56      0.72    107087\n",
      "           1       0.02      0.70      0.05      1603\n",
      "\n",
      "    accuracy                           0.56    108690\n",
      "   macro avg       0.51      0.63      0.38    108690\n",
      "weighted avg       0.98      0.56      0.71    108690\n",
      ".\n",
      "Confusion matrix for Naive Bayes Gaussian is \n",
      " [[60274 46813]\n",
      " [  483  1120]].\n",
      "ROC-AUC score is 0.6307703612656614.\n"
     ]
    }
   ],
   "source": [
    "t_arr_results_3 = testing_results('Naive Bayes Gaussian', y_arr_test, gaus_pred, t_arr_results_2)"
   ]
  },
  {
   "cell_type": "code",
   "execution_count": 38,
   "id": "412a0197",
   "metadata": {},
   "outputs": [],
   "source": [
    "# Gradient Boosting\n",
    "def Grad_Boosting(X_train, y_train, X_test):\n",
    "    from sklearn.ensemble import ExtraTreesClassifier, GradientBoostingClassifier\n",
    "    gbc = GradientBoostingClassifier(subsample=0.8, learning_rate=0.05 , n_estimators=160, random_state=5, max_depth=9, max_leaf_nodes=100)\n",
    "    gbc.fit(X_arr_train, y_arr_train)\n",
    "\n",
    "    #Predict using the model:\n",
    "\n",
    "    y_predict_gbc = gbc.predict(X_arr_test)\n",
    "    return  y_predict_gbc"
   ]
  },
  {
   "cell_type": "code",
   "execution_count": 39,
   "id": "37c31f3e",
   "metadata": {},
   "outputs": [],
   "source": [
    "y_predict_gbc = Grad_Boosting(X_arr_train, y_arr_train, X_arr_test)"
   ]
  },
  {
   "cell_type": "code",
   "execution_count": 40,
   "id": "ce786600",
   "metadata": {},
   "outputs": [
    {
     "name": "stdout",
     "output_type": "stream",
     "text": [
      "Accuracy score with Gradient Boosting is 0.9755819302603735.\n",
      "Classification report for Gradient Boosting is \n",
      "               precision    recall  f1-score   support\n",
      "\n",
      "           0       0.99      0.99      0.99    107087\n",
      "           1       0.22      0.27      0.24      1603\n",
      "\n",
      "    accuracy                           0.98    108690\n",
      "   macro avg       0.61      0.63      0.62    108690\n",
      "weighted avg       0.98      0.98      0.98    108690\n",
      ".\n",
      "Confusion matrix for Gradient Boosting is \n",
      " [[105610   1477]\n",
      " [  1177    426]].\n",
      "ROC-AUC score is 0.6259795958488076.\n"
     ]
    }
   ],
   "source": [
    "t_arr_results_4 = testing_results('Gradient Boosting', y_arr_test, y_predict_gbc, t_arr_results_3)"
   ]
  },
  {
   "cell_type": "markdown",
   "id": "ed046bc2",
   "metadata": {},
   "source": [
    "# Machine Learning Analysis"
   ]
  },
  {
   "cell_type": "code",
   "execution_count": 41,
   "id": "f1574f20",
   "metadata": {},
   "outputs": [],
   "source": [
    "# t_results[test_name] = [acc_score, class_report, conf_matrix, ROC]\n",
    "t_results = t_arr_results_4\n",
    "ml = list(t_results.keys())\n",
    "result_values = list(t_results.values())\n",
    "acc_scores_analysis = []\n",
    "class_report_analysis = []\n",
    "conf_matrix_analysis = []\n",
    "ROC_analysis= []\n",
    "for lists in result_values:\n",
    "    acc_scores_analysis.append(lists[0])\n",
    "    class_report_analysis.append(lists[1])\n",
    "    conf_matrix_analysis.append(lists[2])\n",
    "    ROC_analysis.append(lists[3])\n",
    "\n",
    "\n"
   ]
  },
  {
   "cell_type": "code",
   "execution_count": 42,
   "id": "f63b7138",
   "metadata": {},
   "outputs": [
    {
     "data": {
      "text/plain": [
       "<function matplotlib.pyplot.show(close=None, block=None)>"
      ]
     },
     "execution_count": 42,
     "metadata": {},
     "output_type": "execute_result"
    },
    {
     "data": {
      "image/png": "[encoded data removed]",
      "text/plain": [
       "<Figure size 640x480 with 1 Axes>"
      ]
     },
     "metadata": {},
     "output_type": "display_data"
    }
   ],
   "source": [
    "\n",
    "# Create a graph to compare the accuracy of each model\n",
    "fig = plt.figure()\n",
    "ax = fig.add_axes([0,0,1,1])\n",
    "ax.bar(ml, acc_scores_analysis)\n",
    "plt.setp(ax.get_xticklabels(), rotation = 'vertical')\n",
    "plt.title('Accuracy Score by ML Algorithm')\n",
    "\n",
    "plt.show"
   ]
  },
  {
   "cell_type": "code",
   "execution_count": 43,
   "id": "3ccbca53",
   "metadata": {},
   "outputs": [
    {
     "data": {
      "text/plain": [
       "<function matplotlib.pyplot.show(close=None, block=None)>"
      ]
     },
     "execution_count": 43,
     "metadata": {},
     "output_type": "execute_result"
    },
    {
     "data": {
      "image/png": "[encoded data removed]",
      "text/plain": [
       "<Figure size 640x480 with 1 Axes>"
      ]
     },
     "metadata": {},
     "output_type": "display_data"
    }
   ],
   "source": [
    "# Bar graph of ROC_AUC scores\n",
    "fig = plt.figure()\n",
    "ax = fig.add_axes([0,0,1,1])\n",
    "ax.bar(ml, ROC_analysis)\n",
    "plt.setp(ax.get_xticklabels(), rotation = 'vertical')\n",
    "plt.title('ROC_AUC scores by ML Algoritm')\n",
    "\n",
    "plt.show\n",
    "\n"
   ]
  },
  {
   "cell_type": "markdown",
   "id": "07391b69",
   "metadata": {},
   "source": [
    "Random Forest Classifier and Decision Tree Classifier will go through hypertuning to see if the results can be improved."
   ]
  },
  {
   "cell_type": "code",
   "execution_count": 50,
   "id": "3aeffa5a",
   "metadata": {},
   "outputs": [
    {
     "data": {
      "text/plain": [
       "RandomizedSearchCV(cv=3, estimator=RandomForestClassifier(), n_jobs=-1,\n",
       "                   param_distributions={'criterion': ['gini', 'entropy'],\n",
       "                                        'min_samples_leaf': [1, 5, 10],\n",
       "                                        'min_samples_split': [2, 4, 10, 12, 16],\n",
       "                                        'n_estimators': [50, 100, 400, 700,\n",
       "                                                         1000]},\n",
       "                   scoring='roc_auc')"
      ]
     },
     "execution_count": 50,
     "metadata": {},
     "output_type": "execute_result"
    }
   ],
   "source": [
    "'''\n",
    "Tried to use GridSearchCV as well but it is too computation intensive.\n",
    "Going to use RandomizedSearchCV to try to optomize the parameters for Random Forest Classifier.\n",
    "'''\n",
    "\n",
    "\n",
    "from sklearn.model_selection import RandomizedSearchCV\n",
    "\n",
    "\n",
    "param_grid = { \"criterion\" : [\"gini\", \"entropy\"], \"min_samples_leaf\" : [1, 5, 10], \"min_samples_split\" : [2, 4, 10,12,16], \"n_estimators\": [50, 100,400,700,1000]}\n",
    "\n",
    "RSCV = RandomizedSearchCV(estimator=RandomForestClassifier(), param_distributions=param_grid, scoring= 'roc_auc', cv=3, n_jobs=-1)  \n",
    "RSCV.fit(X_arr_train, y_arr_train)\n"
   ]
  },
  {
   "cell_type": "code",
   "execution_count": 51,
   "id": "e6139b94",
   "metadata": {},
   "outputs": [
    {
     "data": {
      "text/plain": [
       "0.5551054444622515"
      ]
     },
     "execution_count": 51,
     "metadata": {},
     "output_type": "execute_result"
    }
   ],
   "source": [
    "rf_tuned = RandomForestClassifier(**RSCV.best_params_)\n",
    "rf_tuned.fit(X_arr_train, y_arr_train)\n",
    "rf_tuned_predict = rf_tuned.predict(X_arr_test)\n",
    "ROC_test = roc_auc_score(y_arr_test, rf_tuned_predict )\n",
    "ROC_test"
   ]
  },
  {
   "cell_type": "code",
   "execution_count": 55,
   "id": "fb6f23ef",
   "metadata": {},
   "outputs": [
    {
     "name": "stdout",
     "output_type": "stream",
     "text": [
      "Fitting 10 folds for each of 10 candidates, totalling 100 fits\n"
     ]
    },
    {
     "data": {
      "text/plain": [
       "RandomizedSearchCV(cv=10, estimator=DecisionTreeClassifier(), n_jobs=-1,\n",
       "                   param_distributions={'criterion': ['gini', 'entropy'],\n",
       "                                        'max_depth': [2, 3, 5, 10, 20],\n",
       "                                        'min_samples_leaf': [5, 10, 20, 50,\n",
       "                                                             100],\n",
       "                                        'min_samples_split': [10, 20, 40, 80,\n",
       "                                                              160]},\n",
       "                   scoring='roc_auc', verbose=1)"
      ]
     },
     "execution_count": 55,
     "metadata": {},
     "output_type": "execute_result"
    }
   ],
   "source": [
    "# Going to use RandomizedSearchCV to try to optomize the parameters for Decision Tree Classifier.\n",
    "from sklearn.tree import DecisionTreeClassifier\n",
    "param_dict = {'max_depth': [2, 3, 5, 10, 20], 'min_samples_split': [10, 20, 40, 80, 160], 'min_samples_leaf': [5, 10, 20, 50, 100], 'criterion': [\"gini\", \"entropy\"]}\n",
    "rand = RandomizedSearchCV(DecisionTreeClassifier(), param_distributions = param_dict, cv = 10, verbose = 1, n_jobs=-1, scoring = 'roc_auc')\n",
    "rand.fit(X_arr_train, y_arr_train)\n"
   ]
  },
  {
   "cell_type": "code",
   "execution_count": 57,
   "id": "81518c25",
   "metadata": {},
   "outputs": [
    {
     "data": {
      "text/plain": [
       "0.6384703522379565"
      ]
     },
     "execution_count": 57,
     "metadata": {},
     "output_type": "execute_result"
    }
   ],
   "source": [
    "DTC_tuned = DecisionTreeClassifier(**rand.best_params_)\n",
    "DTC_tuned.fit(X_arr_train, y_arr_train)\n",
    "DTC_tuned_predict = DTC_tuned.predict(X_arr_test)\n",
    "ROC_DTC_tuned = roc_auc_score(y_arr_test, DTC_tuned_predict)\n",
    "ROC_DTC_tuned"
   ]
  },
  {
   "cell_type": "code",
   "execution_count": 58,
   "id": "40377489",
   "metadata": {},
   "outputs": [],
   "source": [
    "feature_scores = pd.Series(rf_results[1].feature_importances_, index = X_arr_train.columns).sort_values(ascending = False)"
   ]
  },
  {
   "cell_type": "code",
   "execution_count": 59,
   "id": "a16663ff",
   "metadata": {},
   "outputs": [],
   "source": [
    "# Eliminating all columns with 0 value.\n",
    "feature_scores = feature_scores[feature_scores >0]"
   ]
  },
  {
   "cell_type": "code",
   "execution_count": 86,
   "id": "570c158c",
   "metadata": {},
   "outputs": [],
   "source": [
    "def min_feature_scores(feature_scores, rf_results, t_arr_results_5, df_arr, y_arr):\n",
    "    roc_score = t_arr_results_5['Random Forest Classifier'][-1] * 100\n",
    "    n = 100\n",
    "    t_results = {}\n",
    "    # final_score will keep track of the columns dropped.\n",
    "    final_score = {}\n",
    "    df = df_arr\n",
    "    while n >= roc_score:\n",
    "        print(n)\n",
    "        column_drop = feature_scores.idxmin()\n",
    "        print(column_drop)\n",
    "        df.drop(columns = column_drop, inplace = True)\n",
    "        X_arr_train, X_arr_test, y_arr_train, y_arr_test = train_test_split(df, y_arr, test_size = .33, random_state = 42)\n",
    "        smoted = create_smote(X_arr_train, y_arr_train)\n",
    "        X_arr_train = smoted[0]\n",
    "        y_arr_train = smoted[1]\n",
    "        results = Random_Forest(X_arr_train, y_arr_train, X_arr_test)\n",
    "        test_results =  testing_results('Random Forest Classifier', y_arr_test, results[0], t_results)\n",
    "        n = test_results['Random Forest Classifier'][-1] * 100\n",
    "        print(f' this is n after Random_forest, {n}.')\n",
    "        final_score[column_drop] = [n]\n",
    "        if n>= roc_score:\n",
    "            roc_score = n\n",
    "            print(f'new roc_score {roc_score}.')\n",
    "            feature_scores = pd.Series(results[1].feature_importances_, index = X_arr_train.columns).sort_values(ascending = False)\n",
    "            final_score[column_drop].append(feature_scores)\n",
    "    return [df, final_score]\n",
    "        \n",
    "     "
   ]
  },
  {
   "cell_type": "code",
   "execution_count": 87,
   "id": "5c9f29ce",
   "metadata": {},
   "outputs": [
    {
     "name": "stdout",
     "output_type": "stream",
     "text": [
      "100\n",
      "ORIGIN_CVG\n",
      "Accuracy score with Random Forest Classifier is 0.7848836139479253.\n",
      "Classification report for Random Forest Classifier is \n",
      "               precision    recall  f1-score   support\n",
      "\n",
      "           0       0.99      0.79      0.88    107087\n",
      "           1       0.04      0.60      0.08      1603\n",
      "\n",
      "    accuracy                           0.78    108690\n",
      "   macro avg       0.52      0.69      0.48    108690\n",
      "weighted avg       0.98      0.78      0.87    108690\n",
      ".\n",
      "Confusion matrix for Random Forest Classifier is \n",
      " [[84352 22735]\n",
      " [  646   957]].\n",
      "ROC-AUC score is 0.6923507999899873.\n",
      " this is n after Random_forest, 69.23507999899873.\n",
      "new roc_score 69.23507999899873.\n",
      "69.23507999899873\n",
      "ORIGIN_TYS\n",
      "Accuracy score with Random Forest Classifier is 0.7825282914711565.\n",
      "Classification report for Random Forest Classifier is \n",
      "               precision    recall  f1-score   support\n",
      "\n",
      "           0       0.99      0.79      0.88    107087\n",
      "           1       0.04      0.58      0.07      1603\n",
      "\n",
      "    accuracy                           0.78    108690\n",
      "   macro avg       0.52      0.68      0.48    108690\n",
      "weighted avg       0.98      0.78      0.86    108690\n",
      ".\n",
      "Confusion matrix for Random Forest Classifier is \n",
      " [[84118 22969]\n",
      " [  668   935]].\n",
      "ROC-AUC score is 0.6843960968973514.\n",
      " this is n after Random_forest, 68.43960968973514.\n"
     ]
    }
   ],
   "source": [
    "best_df = min_feature_scores(feature_scores, rf_results, t_arr_results_4, df_arr, y_arr)\n"
   ]
  },
  {
   "cell_type": "code",
   "execution_count": 88,
   "id": "40e3e689",
   "metadata": {},
   "outputs": [],
   "source": [
    "answer = list(best_df[1].values())\n"
   ]
  },
  {
   "cell_type": "code",
   "execution_count": 89,
   "id": "73749628",
   "metadata": {},
   "outputs": [],
   "source": [
    "ganga = max(best_df[1].values())"
   ]
  },
  {
   "cell_type": "code",
   "execution_count": 90,
   "id": "175bef1c",
   "metadata": {},
   "outputs": [],
   "source": [
    "feature_score = ganga[1]"
   ]
  },
  {
   "cell_type": "code",
   "execution_count": 91,
   "id": "e9beedd5",
   "metadata": {},
   "outputs": [
    {
     "data": {
      "text/plain": [
       "<AxesSubplot:title={'center':'Feature Importance'}, ylabel='Features'>"
      ]
     },
     "execution_count": 91,
     "metadata": {},
     "output_type": "execute_result"
    },
    {
     "data": {
      "image/png": "[encoded data removed]",
      "text/plain": [
       "<Figure size 640x480 with 1 Axes>"
      ]
     },
     "metadata": {},
     "output_type": "display_data"
    }
   ],
   "source": [
    "# Plot feature_scores\n",
    "feature_score.nlargest(20).plot(title= 'Feature Importance', xlabel = 'Features', kind = 'barh', ylabel = 'Relative Importance' )"
   ]
  },
  {
   "cell_type": "code",
   "execution_count": 93,
   "id": "1093a33a",
   "metadata": {},
   "outputs": [],
   "source": [
    "final_df = best_df[0]"
   ]
  },
  {
   "cell_type": "code",
   "execution_count": 94,
   "id": "7c109b2b",
   "metadata": {},
   "outputs": [],
   "source": [
    "final_df.to_csv(r'C:\\data\\final_arr_df.csv')"
   ]
  },
  {
   "cell_type": "code",
   "execution_count": null,
   "id": "1ecd2c2b",
   "metadata": {},
   "outputs": [],
   "source": []
  },
  {
   "cell_type": "code",
   "execution_count": null,
   "id": "ccc63446",
   "metadata": {},
   "outputs": [],
   "source": []
  }
 ],
 "metadata": {
  "celltoolbar": "Raw Cell Format",
  "kernelspec": {
   "display_name": "Python 3 (ipykernel)",
   "language": "python",
   "name": "python3"
  },
  "language_info": {
   "codemirror_mode": {
    "name": "ipython",
    "version": 3
   },
   "file_extension": ".py",
   "mimetype": "text/x-python",
   "name": "python",
   "nbconvert_exporter": "python",
   "pygments_lexer": "ipython3",
   "version": "3.9.13"
  }
 },
 "nbformat": 4,
 "nbformat_minor": 5
}
