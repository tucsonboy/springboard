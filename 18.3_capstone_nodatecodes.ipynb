{
 "cells": [
  {
   "cell_type": "code",
   "execution_count": 34,
   "id": "93f8fbe4",
   "metadata": {},
   "outputs": [],
   "source": [
    "import pandas as pd\n",
    "import numpy as np\n",
    "from sklearn.model_selection import train_test_split\n",
    "# suppress future warnings\n",
    "import warnings\n",
    "warnings.simplefilter(action='ignore', category=FutureWarning)\n",
    "warnings.simplefilter(action='ignore', category=UserWarning)"
   ]
  },
  {
   "cell_type": "code",
   "execution_count": 35,
   "id": "7c41f027",
   "metadata": {
    "scrolled": true
   },
   "outputs": [],
   "source": [
    "df = pd.read_csv(r'C:\\data\\mia_data2.csv')"
   ]
  },
  {
   "cell_type": "code",
   "execution_count": 36,
   "id": "dd32b1c3",
   "metadata": {},
   "outputs": [
    {
     "data": {
      "text/plain": [
       "Index(['Unnamed: 0.1', 'Unnamed: 0', 'YEAR', 'MONTH', 'DAY_OF_WEEK',\n",
       "       'OP_CARRIER_FL_NUM', 'ORIGIN', 'DEST', 'CRS_DEP_TIME', 'DEP_TIME',\n",
       "       'DEP_DELAY', 'DEP_DELAY_NEW', 'CRS_ARR_TIME', 'ARR_TIME', 'ARR_DELAY',\n",
       "       'ARR_DELAY_NEW', 'CANCELLED', 'CANCELLATION_CODE', 'DIVERTED',\n",
       "       'CRS_ELAPSED_TIME', 'ACTUAL_ELAPSED_TIME', 'CARRIER_DELAY',\n",
       "       'WEATHER_DELAY', 'NAS_DELAY', 'SECURITY_DELAY', 'LATE_AIRCRAFT_DELAY',\n",
       "       'WHY_DELAY', 'DAY', 'DATE'],\n",
       "      dtype='object')"
      ]
     },
     "execution_count": 36,
     "metadata": {},
     "output_type": "execute_result"
    }
   ],
   "source": [
    "df.keys()"
   ]
  },
  {
   "cell_type": "code",
   "execution_count": 37,
   "id": "67c416e4",
   "metadata": {},
   "outputs": [],
   "source": [
    "# Deleting all flights were the flight was diverted\n",
    "df = df[df.DIVERTED ==0]"
   ]
  },
  {
   "cell_type": "code",
   "execution_count": 38,
   "id": "cf9f946b",
   "metadata": {},
   "outputs": [],
   "source": [
    "#Deleting all rows where the flight was cancelled\n",
    "df = df[df.CANCELLED == 0]\n"
   ]
  },
  {
   "cell_type": "code",
   "execution_count": 39,
   "id": "0eb6f5a7",
   "metadata": {},
   "outputs": [
    {
     "name": "stdout",
     "output_type": "stream",
     "text": [
      "<class 'pandas.core.frame.DataFrame'>\n",
      "Int64Index: 659119 entries, 0 to 736651\n",
      "Data columns (total 29 columns):\n",
      " #   Column               Non-Null Count   Dtype  \n",
      "---  ------               --------------   -----  \n",
      " 0   Unnamed: 0.1         659119 non-null  int64  \n",
      " 1   Unnamed: 0           659119 non-null  int64  \n",
      " 2   YEAR                 659119 non-null  int64  \n",
      " 3   MONTH                659119 non-null  int64  \n",
      " 4   DAY_OF_WEEK          659119 non-null  float64\n",
      " 5   OP_CARRIER_FL_NUM    659119 non-null  int64  \n",
      " 6   ORIGIN               659119 non-null  object \n",
      " 7   DEST                 659119 non-null  object \n",
      " 8   CRS_DEP_TIME         659119 non-null  int64  \n",
      " 9   DEP_TIME             659119 non-null  float64\n",
      " 10  DEP_DELAY            659119 non-null  float64\n",
      " 11  DEP_DELAY_NEW        659119 non-null  float64\n",
      " 12  CRS_ARR_TIME         659119 non-null  int64  \n",
      " 13  ARR_TIME             659119 non-null  float64\n",
      " 14  ARR_DELAY            659119 non-null  float64\n",
      " 15  ARR_DELAY_NEW        659119 non-null  float64\n",
      " 16  CANCELLED            659119 non-null  float64\n",
      " 17  CANCELLATION_CODE    0 non-null       object \n",
      " 18  DIVERTED             659119 non-null  float64\n",
      " 19  CRS_ELAPSED_TIME     659119 non-null  float64\n",
      " 20  ACTUAL_ELAPSED_TIME  659119 non-null  float64\n",
      " 21  CARRIER_DELAY        659119 non-null  float64\n",
      " 22  WEATHER_DELAY        659119 non-null  float64\n",
      " 23  NAS_DELAY            659119 non-null  float64\n",
      " 24  SECURITY_DELAY       659119 non-null  float64\n",
      " 25  LATE_AIRCRAFT_DELAY  659119 non-null  float64\n",
      " 26  WHY_DELAY            659119 non-null  object \n",
      " 27  DAY                  659119 non-null  int64  \n",
      " 28  DATE                 659119 non-null  object \n",
      "dtypes: float64(16), int64(8), object(5)\n",
      "memory usage: 150.9+ MB\n"
     ]
    }
   ],
   "source": [
    "df.info()"
   ]
  },
  {
   "cell_type": "code",
   "execution_count": 40,
   "id": "03ffe081",
   "metadata": {},
   "outputs": [],
   "source": [
    "# I want to create dummy values based on the why delay column\n",
    "dummy = pd.get_dummies(df['WHY_DELAY'])"
   ]
  },
  {
   "cell_type": "code",
   "execution_count": 41,
   "id": "d46b76c8",
   "metadata": {},
   "outputs": [
    {
     "data": {
      "text/html": [
       "<div>\n",
       "<style scoped>\n",
       "    .dataframe tbody tr th:only-of-type {\n",
       "        vertical-align: middle;\n",
       "    }\n",
       "\n",
       "    .dataframe tbody tr th {\n",
       "        vertical-align: top;\n",
       "    }\n",
       "\n",
       "    .dataframe thead th {\n",
       "        text-align: right;\n",
       "    }\n",
       "</style>\n",
       "<table border=\"1\" class=\"dataframe\">\n",
       "  <thead>\n",
       "    <tr style=\"text-align: right;\">\n",
       "      <th></th>\n",
       "      <th>0</th>\n",
       "      <th>carrier</th>\n",
       "      <th>late aircraft</th>\n",
       "      <th>nas</th>\n",
       "      <th>security</th>\n",
       "      <th>weather</th>\n",
       "    </tr>\n",
       "  </thead>\n",
       "  <tbody>\n",
       "    <tr>\n",
       "      <th>0</th>\n",
       "      <td>1</td>\n",
       "      <td>0</td>\n",
       "      <td>0</td>\n",
       "      <td>0</td>\n",
       "      <td>0</td>\n",
       "      <td>0</td>\n",
       "    </tr>\n",
       "    <tr>\n",
       "      <th>1</th>\n",
       "      <td>1</td>\n",
       "      <td>0</td>\n",
       "      <td>0</td>\n",
       "      <td>0</td>\n",
       "      <td>0</td>\n",
       "      <td>0</td>\n",
       "    </tr>\n",
       "    <tr>\n",
       "      <th>2</th>\n",
       "      <td>1</td>\n",
       "      <td>0</td>\n",
       "      <td>0</td>\n",
       "      <td>0</td>\n",
       "      <td>0</td>\n",
       "      <td>0</td>\n",
       "    </tr>\n",
       "    <tr>\n",
       "      <th>3</th>\n",
       "      <td>1</td>\n",
       "      <td>0</td>\n",
       "      <td>0</td>\n",
       "      <td>0</td>\n",
       "      <td>0</td>\n",
       "      <td>0</td>\n",
       "    </tr>\n",
       "    <tr>\n",
       "      <th>4</th>\n",
       "      <td>1</td>\n",
       "      <td>0</td>\n",
       "      <td>0</td>\n",
       "      <td>0</td>\n",
       "      <td>0</td>\n",
       "      <td>0</td>\n",
       "    </tr>\n",
       "    <tr>\n",
       "      <th>...</th>\n",
       "      <td>...</td>\n",
       "      <td>...</td>\n",
       "      <td>...</td>\n",
       "      <td>...</td>\n",
       "      <td>...</td>\n",
       "      <td>...</td>\n",
       "    </tr>\n",
       "    <tr>\n",
       "      <th>736647</th>\n",
       "      <td>1</td>\n",
       "      <td>0</td>\n",
       "      <td>0</td>\n",
       "      <td>0</td>\n",
       "      <td>0</td>\n",
       "      <td>0</td>\n",
       "    </tr>\n",
       "    <tr>\n",
       "      <th>736648</th>\n",
       "      <td>1</td>\n",
       "      <td>0</td>\n",
       "      <td>0</td>\n",
       "      <td>0</td>\n",
       "      <td>0</td>\n",
       "      <td>0</td>\n",
       "    </tr>\n",
       "    <tr>\n",
       "      <th>736649</th>\n",
       "      <td>1</td>\n",
       "      <td>0</td>\n",
       "      <td>0</td>\n",
       "      <td>0</td>\n",
       "      <td>0</td>\n",
       "      <td>0</td>\n",
       "    </tr>\n",
       "    <tr>\n",
       "      <th>736650</th>\n",
       "      <td>0</td>\n",
       "      <td>0</td>\n",
       "      <td>0</td>\n",
       "      <td>1</td>\n",
       "      <td>0</td>\n",
       "      <td>0</td>\n",
       "    </tr>\n",
       "    <tr>\n",
       "      <th>736651</th>\n",
       "      <td>0</td>\n",
       "      <td>1</td>\n",
       "      <td>0</td>\n",
       "      <td>0</td>\n",
       "      <td>0</td>\n",
       "      <td>0</td>\n",
       "    </tr>\n",
       "  </tbody>\n",
       "</table>\n",
       "<p>659119 rows × 6 columns</p>\n",
       "</div>"
      ],
      "text/plain": [
       "        0  carrier  late aircraft  nas  security  weather\n",
       "0       1        0              0    0         0        0\n",
       "1       1        0              0    0         0        0\n",
       "2       1        0              0    0         0        0\n",
       "3       1        0              0    0         0        0\n",
       "4       1        0              0    0         0        0\n",
       "...    ..      ...            ...  ...       ...      ...\n",
       "736647  1        0              0    0         0        0\n",
       "736648  1        0              0    0         0        0\n",
       "736649  1        0              0    0         0        0\n",
       "736650  0        0              0    1         0        0\n",
       "736651  0        1              0    0         0        0\n",
       "\n",
       "[659119 rows x 6 columns]"
      ]
     },
     "execution_count": 41,
     "metadata": {},
     "output_type": "execute_result"
    }
   ],
   "source": [
    "dummy"
   ]
  },
  {
   "cell_type": "code",
   "execution_count": 42,
   "id": "33861e41",
   "metadata": {},
   "outputs": [
    {
     "data": {
      "text/plain": [
       "Index(['Unnamed: 0.1', 'Unnamed: 0', 'YEAR', 'MONTH', 'DAY_OF_WEEK',\n",
       "       'OP_CARRIER_FL_NUM', 'ORIGIN', 'DEST', 'CRS_DEP_TIME', 'DEP_TIME',\n",
       "       'DEP_DELAY', 'DEP_DELAY_NEW', 'CRS_ARR_TIME', 'ARR_TIME', 'ARR_DELAY',\n",
       "       'ARR_DELAY_NEW', 'CANCELLED', 'CANCELLATION_CODE', 'DIVERTED',\n",
       "       'CRS_ELAPSED_TIME', 'ACTUAL_ELAPSED_TIME', 'CARRIER_DELAY',\n",
       "       'WEATHER_DELAY', 'NAS_DELAY', 'SECURITY_DELAY', 'LATE_AIRCRAFT_DELAY',\n",
       "       'WHY_DELAY', 'DAY', 'DATE', '0', 'carrier', 'late aircraft', 'nas',\n",
       "       'security', 'weather'],\n",
       "      dtype='object')"
      ]
     },
     "execution_count": 42,
     "metadata": {},
     "output_type": "execute_result"
    }
   ],
   "source": [
    "df = pd.concat([df, dummy], axis = 1)\n",
    "df.keys()"
   ]
  },
  {
   "cell_type": "code",
   "execution_count": 43,
   "id": "e79427b4",
   "metadata": {},
   "outputs": [],
   "source": [
    "df.drop(columns = ['Unnamed: 0.1', 'Unnamed: 0', 'OP_CARRIER_FL_NUM', 'CANCELLATION_CODE', 'DIVERTED',  'CARRIER_DELAY','WEATHER_DELAY', 'NAS_DELAY', 'SECURITY_DELAY', 'LATE_AIRCRAFT_DELAY', 'DATE', 'WHY_DELAY', 'carrier', 'late aircraft', 'nas','security', 'OP_CARRIER_FL_NUM', 'CANCELLED']  , inplace = True)"
   ]
  },
  {
   "cell_type": "code",
   "execution_count": 44,
   "id": "69488055",
   "metadata": {},
   "outputs": [
    {
     "data": {
      "text/html": [
       "<div>\n",
       "<style scoped>\n",
       "    .dataframe tbody tr th:only-of-type {\n",
       "        vertical-align: middle;\n",
       "    }\n",
       "\n",
       "    .dataframe tbody tr th {\n",
       "        vertical-align: top;\n",
       "    }\n",
       "\n",
       "    .dataframe thead th {\n",
       "        text-align: right;\n",
       "    }\n",
       "</style>\n",
       "<table border=\"1\" class=\"dataframe\">\n",
       "  <thead>\n",
       "    <tr style=\"text-align: right;\">\n",
       "      <th></th>\n",
       "      <th>YEAR</th>\n",
       "      <th>MONTH</th>\n",
       "      <th>DAY_OF_WEEK</th>\n",
       "      <th>ORIGIN</th>\n",
       "      <th>DEST</th>\n",
       "      <th>CRS_DEP_TIME</th>\n",
       "      <th>DEP_TIME</th>\n",
       "      <th>DEP_DELAY</th>\n",
       "      <th>DEP_DELAY_NEW</th>\n",
       "      <th>CRS_ARR_TIME</th>\n",
       "      <th>ARR_TIME</th>\n",
       "      <th>ARR_DELAY</th>\n",
       "      <th>ARR_DELAY_NEW</th>\n",
       "      <th>CRS_ELAPSED_TIME</th>\n",
       "      <th>ACTUAL_ELAPSED_TIME</th>\n",
       "      <th>DAY</th>\n",
       "      <th>0</th>\n",
       "      <th>weather</th>\n",
       "    </tr>\n",
       "  </thead>\n",
       "  <tbody>\n",
       "    <tr>\n",
       "      <th>0</th>\n",
       "      <td>2010</td>\n",
       "      <td>5</td>\n",
       "      <td>6.0</td>\n",
       "      <td>STT</td>\n",
       "      <td>MIA</td>\n",
       "      <td>1535</td>\n",
       "      <td>1519.0</td>\n",
       "      <td>-16.0</td>\n",
       "      <td>0.0</td>\n",
       "      <td>1840</td>\n",
       "      <td>1835.0</td>\n",
       "      <td>-5.0</td>\n",
       "      <td>0.0</td>\n",
       "      <td>185.0</td>\n",
       "      <td>196.0</td>\n",
       "      <td>1</td>\n",
       "      <td>1</td>\n",
       "      <td>0</td>\n",
       "    </tr>\n",
       "    <tr>\n",
       "      <th>1</th>\n",
       "      <td>2010</td>\n",
       "      <td>5</td>\n",
       "      <td>7.0</td>\n",
       "      <td>STT</td>\n",
       "      <td>MIA</td>\n",
       "      <td>1535</td>\n",
       "      <td>1550.0</td>\n",
       "      <td>15.0</td>\n",
       "      <td>15.0</td>\n",
       "      <td>1840</td>\n",
       "      <td>1840.0</td>\n",
       "      <td>0.0</td>\n",
       "      <td>0.0</td>\n",
       "      <td>185.0</td>\n",
       "      <td>170.0</td>\n",
       "      <td>2</td>\n",
       "      <td>1</td>\n",
       "      <td>0</td>\n",
       "    </tr>\n",
       "    <tr>\n",
       "      <th>2</th>\n",
       "      <td>2010</td>\n",
       "      <td>5</td>\n",
       "      <td>1.0</td>\n",
       "      <td>STT</td>\n",
       "      <td>MIA</td>\n",
       "      <td>1535</td>\n",
       "      <td>1550.0</td>\n",
       "      <td>15.0</td>\n",
       "      <td>15.0</td>\n",
       "      <td>1840</td>\n",
       "      <td>1846.0</td>\n",
       "      <td>6.0</td>\n",
       "      <td>6.0</td>\n",
       "      <td>185.0</td>\n",
       "      <td>176.0</td>\n",
       "      <td>3</td>\n",
       "      <td>1</td>\n",
       "      <td>0</td>\n",
       "    </tr>\n",
       "    <tr>\n",
       "      <th>3</th>\n",
       "      <td>2010</td>\n",
       "      <td>5</td>\n",
       "      <td>2.0</td>\n",
       "      <td>STT</td>\n",
       "      <td>MIA</td>\n",
       "      <td>1535</td>\n",
       "      <td>1533.0</td>\n",
       "      <td>-2.0</td>\n",
       "      <td>0.0</td>\n",
       "      <td>1840</td>\n",
       "      <td>1829.0</td>\n",
       "      <td>-11.0</td>\n",
       "      <td>0.0</td>\n",
       "      <td>185.0</td>\n",
       "      <td>176.0</td>\n",
       "      <td>4</td>\n",
       "      <td>1</td>\n",
       "      <td>0</td>\n",
       "    </tr>\n",
       "    <tr>\n",
       "      <th>4</th>\n",
       "      <td>2010</td>\n",
       "      <td>5</td>\n",
       "      <td>3.0</td>\n",
       "      <td>STT</td>\n",
       "      <td>MIA</td>\n",
       "      <td>1535</td>\n",
       "      <td>1557.0</td>\n",
       "      <td>22.0</td>\n",
       "      <td>22.0</td>\n",
       "      <td>1840</td>\n",
       "      <td>1848.0</td>\n",
       "      <td>8.0</td>\n",
       "      <td>8.0</td>\n",
       "      <td>185.0</td>\n",
       "      <td>171.0</td>\n",
       "      <td>5</td>\n",
       "      <td>1</td>\n",
       "      <td>0</td>\n",
       "    </tr>\n",
       "  </tbody>\n",
       "</table>\n",
       "</div>"
      ],
      "text/plain": [
       "   YEAR  MONTH  DAY_OF_WEEK ORIGIN DEST  CRS_DEP_TIME  DEP_TIME  DEP_DELAY  \\\n",
       "0  2010      5          6.0    STT  MIA          1535    1519.0      -16.0   \n",
       "1  2010      5          7.0    STT  MIA          1535    1550.0       15.0   \n",
       "2  2010      5          1.0    STT  MIA          1535    1550.0       15.0   \n",
       "3  2010      5          2.0    STT  MIA          1535    1533.0       -2.0   \n",
       "4  2010      5          3.0    STT  MIA          1535    1557.0       22.0   \n",
       "\n",
       "   DEP_DELAY_NEW  CRS_ARR_TIME  ARR_TIME  ARR_DELAY  ARR_DELAY_NEW  \\\n",
       "0            0.0          1840    1835.0       -5.0            0.0   \n",
       "1           15.0          1840    1840.0        0.0            0.0   \n",
       "2           15.0          1840    1846.0        6.0            6.0   \n",
       "3            0.0          1840    1829.0      -11.0            0.0   \n",
       "4           22.0          1840    1848.0        8.0            8.0   \n",
       "\n",
       "   CRS_ELAPSED_TIME  ACTUAL_ELAPSED_TIME  DAY  0  weather  \n",
       "0             185.0                196.0    1  1        0  \n",
       "1             185.0                170.0    2  1        0  \n",
       "2             185.0                176.0    3  1        0  \n",
       "3             185.0                176.0    4  1        0  \n",
       "4             185.0                171.0    5  1        0  "
      ]
     },
     "execution_count": 44,
     "metadata": {},
     "output_type": "execute_result"
    }
   ],
   "source": [
    "df.head()"
   ]
  },
  {
   "cell_type": "code",
   "execution_count": 45,
   "id": "a4d629a7",
   "metadata": {},
   "outputs": [
    {
     "name": "stdout",
     "output_type": "stream",
     "text": [
      "<class 'pandas.core.frame.DataFrame'>\n",
      "Int64Index: 659119 entries, 0 to 736651\n",
      "Data columns (total 18 columns):\n",
      " #   Column               Non-Null Count   Dtype  \n",
      "---  ------               --------------   -----  \n",
      " 0   YEAR                 659119 non-null  int64  \n",
      " 1   MONTH                659119 non-null  int64  \n",
      " 2   DAY_OF_WEEK          659119 non-null  float64\n",
      " 3   ORIGIN               659119 non-null  object \n",
      " 4   DEST                 659119 non-null  object \n",
      " 5   CRS_DEP_TIME         659119 non-null  int64  \n",
      " 6   DEP_TIME             659119 non-null  float64\n",
      " 7   DEP_DELAY            659119 non-null  float64\n",
      " 8   DEP_DELAY_NEW        659119 non-null  float64\n",
      " 9   CRS_ARR_TIME         659119 non-null  int64  \n",
      " 10  ARR_TIME             659119 non-null  float64\n",
      " 11  ARR_DELAY            659119 non-null  float64\n",
      " 12  ARR_DELAY_NEW        659119 non-null  float64\n",
      " 13  CRS_ELAPSED_TIME     659119 non-null  float64\n",
      " 14  ACTUAL_ELAPSED_TIME  659119 non-null  float64\n",
      " 15  DAY                  659119 non-null  int64  \n",
      " 16  0                    659119 non-null  uint8  \n",
      " 17  weather              659119 non-null  uint8  \n",
      "dtypes: float64(9), int64(5), object(2), uint8(2)\n",
      "memory usage: 86.7+ MB\n"
     ]
    }
   ],
   "source": [
    "df.info()"
   ]
  },
  {
   "cell_type": "code",
   "execution_count": 46,
   "id": "8255b78c",
   "metadata": {},
   "outputs": [],
   "source": [
    "# Due to the size and complexity of the data set, I am only going to focus on arrivals for the time being.\n",
    "df_arr = df[df.DEST == 'MIA']\n"
   ]
  },
  {
   "cell_type": "code",
   "execution_count": 47,
   "id": "839950d6",
   "metadata": {},
   "outputs": [
    {
     "data": {
      "text/plain": [
       "Index(['YEAR', 'MONTH', 'DAY_OF_WEEK', 'ORIGIN', 'DEST', 'CRS_DEP_TIME',\n",
       "       'DEP_TIME', 'DEP_DELAY', 'DEP_DELAY_NEW', 'CRS_ARR_TIME', 'ARR_TIME',\n",
       "       'ARR_DELAY', 'ARR_DELAY_NEW', 'CRS_ELAPSED_TIME', 'ACTUAL_ELAPSED_TIME',\n",
       "       'DAY', '0', 'weather'],\n",
       "      dtype='object')"
      ]
     },
     "execution_count": 47,
     "metadata": {},
     "output_type": "execute_result"
    }
   ],
   "source": [
    "df_arr.keys()"
   ]
  },
  {
   "cell_type": "code",
   "execution_count": 48,
   "id": "e5ff3d0d",
   "metadata": {},
   "outputs": [
    {
     "name": "stderr",
     "output_type": "stream",
     "text": [
      "C:\\Users\\Fernando Araiza\\AppData\\Local\\Temp\\ipykernel_5232\\324790782.py:4: SettingWithCopyWarning: \n",
      "A value is trying to be set on a copy of a slice from a DataFrame\n",
      "\n",
      "See the caveats in the documentation: https://pandas.pydata.org/pandas-docs/stable/user_guide/indexing.html#returning-a-view-versus-a-copy\n",
      "  df_arr.drop(columns = ['CRS_DEP_TIME','DEST', 'DEP_DELAY_NEW', 'DEP_TIME', 'DEP_DELAY'], inplace = True)\n"
     ]
    }
   ],
   "source": [
    "# In df_ arr, the DEST value is the same for all flights, I will be eliminating that column as well as everything that has to \n",
    "# deal with departures.\n",
    "\n",
    "df_arr.drop(columns = ['CRS_DEP_TIME','DEST', 'DEP_DELAY_NEW', 'DEP_TIME', 'DEP_DELAY'], inplace = True)\n",
    "\n",
    "\n"
   ]
  },
  {
   "cell_type": "code",
   "execution_count": 49,
   "id": "89e969d0",
   "metadata": {},
   "outputs": [],
   "source": [
    "# Converting Origin to numerical data by using get_dummies for arrivals\n",
    "temp = pd.get_dummies(df_arr.ORIGIN, prefix = 'ORIGIN')\n",
    "\n"
   ]
  },
  {
   "cell_type": "code",
   "execution_count": 50,
   "id": "e3907353",
   "metadata": {},
   "outputs": [
    {
     "data": {
      "text/html": [
       "<div>\n",
       "<style scoped>\n",
       "    .dataframe tbody tr th:only-of-type {\n",
       "        vertical-align: middle;\n",
       "    }\n",
       "\n",
       "    .dataframe tbody tr th {\n",
       "        vertical-align: top;\n",
       "    }\n",
       "\n",
       "    .dataframe thead th {\n",
       "        text-align: right;\n",
       "    }\n",
       "</style>\n",
       "<table border=\"1\" class=\"dataframe\">\n",
       "  <thead>\n",
       "    <tr style=\"text-align: right;\">\n",
       "      <th></th>\n",
       "      <th>ORIGIN_ATL</th>\n",
       "      <th>ORIGIN_AUS</th>\n",
       "      <th>ORIGIN_BDL</th>\n",
       "      <th>ORIGIN_BGR</th>\n",
       "      <th>ORIGIN_BHM</th>\n",
       "      <th>ORIGIN_BNA</th>\n",
       "      <th>ORIGIN_BOS</th>\n",
       "      <th>ORIGIN_BWI</th>\n",
       "      <th>ORIGIN_CAE</th>\n",
       "      <th>ORIGIN_CHS</th>\n",
       "      <th>...</th>\n",
       "      <th>ORIGIN_SLC</th>\n",
       "      <th>ORIGIN_STL</th>\n",
       "      <th>ORIGIN_STT</th>\n",
       "      <th>ORIGIN_STX</th>\n",
       "      <th>ORIGIN_TLH</th>\n",
       "      <th>ORIGIN_TPA</th>\n",
       "      <th>ORIGIN_TTN</th>\n",
       "      <th>ORIGIN_TUL</th>\n",
       "      <th>ORIGIN_TYS</th>\n",
       "      <th>ORIGIN_XNA</th>\n",
       "    </tr>\n",
       "  </thead>\n",
       "  <tbody>\n",
       "    <tr>\n",
       "      <th>0</th>\n",
       "      <td>0</td>\n",
       "      <td>0</td>\n",
       "      <td>0</td>\n",
       "      <td>0</td>\n",
       "      <td>0</td>\n",
       "      <td>0</td>\n",
       "      <td>0</td>\n",
       "      <td>0</td>\n",
       "      <td>0</td>\n",
       "      <td>0</td>\n",
       "      <td>...</td>\n",
       "      <td>0</td>\n",
       "      <td>0</td>\n",
       "      <td>1</td>\n",
       "      <td>0</td>\n",
       "      <td>0</td>\n",
       "      <td>0</td>\n",
       "      <td>0</td>\n",
       "      <td>0</td>\n",
       "      <td>0</td>\n",
       "      <td>0</td>\n",
       "    </tr>\n",
       "    <tr>\n",
       "      <th>1</th>\n",
       "      <td>0</td>\n",
       "      <td>0</td>\n",
       "      <td>0</td>\n",
       "      <td>0</td>\n",
       "      <td>0</td>\n",
       "      <td>0</td>\n",
       "      <td>0</td>\n",
       "      <td>0</td>\n",
       "      <td>0</td>\n",
       "      <td>0</td>\n",
       "      <td>...</td>\n",
       "      <td>0</td>\n",
       "      <td>0</td>\n",
       "      <td>1</td>\n",
       "      <td>0</td>\n",
       "      <td>0</td>\n",
       "      <td>0</td>\n",
       "      <td>0</td>\n",
       "      <td>0</td>\n",
       "      <td>0</td>\n",
       "      <td>0</td>\n",
       "    </tr>\n",
       "    <tr>\n",
       "      <th>2</th>\n",
       "      <td>0</td>\n",
       "      <td>0</td>\n",
       "      <td>0</td>\n",
       "      <td>0</td>\n",
       "      <td>0</td>\n",
       "      <td>0</td>\n",
       "      <td>0</td>\n",
       "      <td>0</td>\n",
       "      <td>0</td>\n",
       "      <td>0</td>\n",
       "      <td>...</td>\n",
       "      <td>0</td>\n",
       "      <td>0</td>\n",
       "      <td>1</td>\n",
       "      <td>0</td>\n",
       "      <td>0</td>\n",
       "      <td>0</td>\n",
       "      <td>0</td>\n",
       "      <td>0</td>\n",
       "      <td>0</td>\n",
       "      <td>0</td>\n",
       "    </tr>\n",
       "    <tr>\n",
       "      <th>3</th>\n",
       "      <td>0</td>\n",
       "      <td>0</td>\n",
       "      <td>0</td>\n",
       "      <td>0</td>\n",
       "      <td>0</td>\n",
       "      <td>0</td>\n",
       "      <td>0</td>\n",
       "      <td>0</td>\n",
       "      <td>0</td>\n",
       "      <td>0</td>\n",
       "      <td>...</td>\n",
       "      <td>0</td>\n",
       "      <td>0</td>\n",
       "      <td>1</td>\n",
       "      <td>0</td>\n",
       "      <td>0</td>\n",
       "      <td>0</td>\n",
       "      <td>0</td>\n",
       "      <td>0</td>\n",
       "      <td>0</td>\n",
       "      <td>0</td>\n",
       "    </tr>\n",
       "    <tr>\n",
       "      <th>4</th>\n",
       "      <td>0</td>\n",
       "      <td>0</td>\n",
       "      <td>0</td>\n",
       "      <td>0</td>\n",
       "      <td>0</td>\n",
       "      <td>0</td>\n",
       "      <td>0</td>\n",
       "      <td>0</td>\n",
       "      <td>0</td>\n",
       "      <td>0</td>\n",
       "      <td>...</td>\n",
       "      <td>0</td>\n",
       "      <td>0</td>\n",
       "      <td>1</td>\n",
       "      <td>0</td>\n",
       "      <td>0</td>\n",
       "      <td>0</td>\n",
       "      <td>0</td>\n",
       "      <td>0</td>\n",
       "      <td>0</td>\n",
       "      <td>0</td>\n",
       "    </tr>\n",
       "    <tr>\n",
       "      <th>...</th>\n",
       "      <td>...</td>\n",
       "      <td>...</td>\n",
       "      <td>...</td>\n",
       "      <td>...</td>\n",
       "      <td>...</td>\n",
       "      <td>...</td>\n",
       "      <td>...</td>\n",
       "      <td>...</td>\n",
       "      <td>...</td>\n",
       "      <td>...</td>\n",
       "      <td>...</td>\n",
       "      <td>...</td>\n",
       "      <td>...</td>\n",
       "      <td>...</td>\n",
       "      <td>...</td>\n",
       "      <td>...</td>\n",
       "      <td>...</td>\n",
       "      <td>...</td>\n",
       "      <td>...</td>\n",
       "      <td>...</td>\n",
       "      <td>...</td>\n",
       "    </tr>\n",
       "    <tr>\n",
       "      <th>736642</th>\n",
       "      <td>0</td>\n",
       "      <td>0</td>\n",
       "      <td>0</td>\n",
       "      <td>0</td>\n",
       "      <td>0</td>\n",
       "      <td>0</td>\n",
       "      <td>0</td>\n",
       "      <td>0</td>\n",
       "      <td>0</td>\n",
       "      <td>0</td>\n",
       "      <td>...</td>\n",
       "      <td>0</td>\n",
       "      <td>0</td>\n",
       "      <td>0</td>\n",
       "      <td>0</td>\n",
       "      <td>0</td>\n",
       "      <td>0</td>\n",
       "      <td>0</td>\n",
       "      <td>0</td>\n",
       "      <td>0</td>\n",
       "      <td>0</td>\n",
       "    </tr>\n",
       "    <tr>\n",
       "      <th>736644</th>\n",
       "      <td>0</td>\n",
       "      <td>0</td>\n",
       "      <td>0</td>\n",
       "      <td>0</td>\n",
       "      <td>0</td>\n",
       "      <td>0</td>\n",
       "      <td>1</td>\n",
       "      <td>0</td>\n",
       "      <td>0</td>\n",
       "      <td>0</td>\n",
       "      <td>...</td>\n",
       "      <td>0</td>\n",
       "      <td>0</td>\n",
       "      <td>0</td>\n",
       "      <td>0</td>\n",
       "      <td>0</td>\n",
       "      <td>0</td>\n",
       "      <td>0</td>\n",
       "      <td>0</td>\n",
       "      <td>0</td>\n",
       "      <td>0</td>\n",
       "    </tr>\n",
       "    <tr>\n",
       "      <th>736645</th>\n",
       "      <td>0</td>\n",
       "      <td>0</td>\n",
       "      <td>0</td>\n",
       "      <td>0</td>\n",
       "      <td>0</td>\n",
       "      <td>0</td>\n",
       "      <td>0</td>\n",
       "      <td>0</td>\n",
       "      <td>0</td>\n",
       "      <td>0</td>\n",
       "      <td>...</td>\n",
       "      <td>0</td>\n",
       "      <td>0</td>\n",
       "      <td>0</td>\n",
       "      <td>0</td>\n",
       "      <td>0</td>\n",
       "      <td>0</td>\n",
       "      <td>0</td>\n",
       "      <td>0</td>\n",
       "      <td>0</td>\n",
       "      <td>0</td>\n",
       "    </tr>\n",
       "    <tr>\n",
       "      <th>736647</th>\n",
       "      <td>0</td>\n",
       "      <td>0</td>\n",
       "      <td>0</td>\n",
       "      <td>0</td>\n",
       "      <td>0</td>\n",
       "      <td>0</td>\n",
       "      <td>0</td>\n",
       "      <td>0</td>\n",
       "      <td>0</td>\n",
       "      <td>0</td>\n",
       "      <td>...</td>\n",
       "      <td>0</td>\n",
       "      <td>0</td>\n",
       "      <td>0</td>\n",
       "      <td>0</td>\n",
       "      <td>0</td>\n",
       "      <td>0</td>\n",
       "      <td>0</td>\n",
       "      <td>0</td>\n",
       "      <td>0</td>\n",
       "      <td>0</td>\n",
       "    </tr>\n",
       "    <tr>\n",
       "      <th>736648</th>\n",
       "      <td>1</td>\n",
       "      <td>0</td>\n",
       "      <td>0</td>\n",
       "      <td>0</td>\n",
       "      <td>0</td>\n",
       "      <td>0</td>\n",
       "      <td>0</td>\n",
       "      <td>0</td>\n",
       "      <td>0</td>\n",
       "      <td>0</td>\n",
       "      <td>...</td>\n",
       "      <td>0</td>\n",
       "      <td>0</td>\n",
       "      <td>0</td>\n",
       "      <td>0</td>\n",
       "      <td>0</td>\n",
       "      <td>0</td>\n",
       "      <td>0</td>\n",
       "      <td>0</td>\n",
       "      <td>0</td>\n",
       "      <td>0</td>\n",
       "    </tr>\n",
       "  </tbody>\n",
       "</table>\n",
       "<p>329362 rows × 75 columns</p>\n",
       "</div>"
      ],
      "text/plain": [
       "        ORIGIN_ATL  ORIGIN_AUS  ORIGIN_BDL  ORIGIN_BGR  ORIGIN_BHM  \\\n",
       "0                0           0           0           0           0   \n",
       "1                0           0           0           0           0   \n",
       "2                0           0           0           0           0   \n",
       "3                0           0           0           0           0   \n",
       "4                0           0           0           0           0   \n",
       "...            ...         ...         ...         ...         ...   \n",
       "736642           0           0           0           0           0   \n",
       "736644           0           0           0           0           0   \n",
       "736645           0           0           0           0           0   \n",
       "736647           0           0           0           0           0   \n",
       "736648           1           0           0           0           0   \n",
       "\n",
       "        ORIGIN_BNA  ORIGIN_BOS  ORIGIN_BWI  ORIGIN_CAE  ORIGIN_CHS  ...  \\\n",
       "0                0           0           0           0           0  ...   \n",
       "1                0           0           0           0           0  ...   \n",
       "2                0           0           0           0           0  ...   \n",
       "3                0           0           0           0           0  ...   \n",
       "4                0           0           0           0           0  ...   \n",
       "...            ...         ...         ...         ...         ...  ...   \n",
       "736642           0           0           0           0           0  ...   \n",
       "736644           0           1           0           0           0  ...   \n",
       "736645           0           0           0           0           0  ...   \n",
       "736647           0           0           0           0           0  ...   \n",
       "736648           0           0           0           0           0  ...   \n",
       "\n",
       "        ORIGIN_SLC  ORIGIN_STL  ORIGIN_STT  ORIGIN_STX  ORIGIN_TLH  \\\n",
       "0                0           0           1           0           0   \n",
       "1                0           0           1           0           0   \n",
       "2                0           0           1           0           0   \n",
       "3                0           0           1           0           0   \n",
       "4                0           0           1           0           0   \n",
       "...            ...         ...         ...         ...         ...   \n",
       "736642           0           0           0           0           0   \n",
       "736644           0           0           0           0           0   \n",
       "736645           0           0           0           0           0   \n",
       "736647           0           0           0           0           0   \n",
       "736648           0           0           0           0           0   \n",
       "\n",
       "        ORIGIN_TPA  ORIGIN_TTN  ORIGIN_TUL  ORIGIN_TYS  ORIGIN_XNA  \n",
       "0                0           0           0           0           0  \n",
       "1                0           0           0           0           0  \n",
       "2                0           0           0           0           0  \n",
       "3                0           0           0           0           0  \n",
       "4                0           0           0           0           0  \n",
       "...            ...         ...         ...         ...         ...  \n",
       "736642           0           0           0           0           0  \n",
       "736644           0           0           0           0           0  \n",
       "736645           0           0           0           0           0  \n",
       "736647           0           0           0           0           0  \n",
       "736648           0           0           0           0           0  \n",
       "\n",
       "[329362 rows x 75 columns]"
      ]
     },
     "execution_count": 50,
     "metadata": {},
     "output_type": "execute_result"
    }
   ],
   "source": [
    "temp"
   ]
  },
  {
   "cell_type": "code",
   "execution_count": 51,
   "id": "40e1cb44",
   "metadata": {},
   "outputs": [],
   "source": [
    "#Join the two dataframes\n",
    "df_arr = pd.concat([df_arr, temp], axis = 1)"
   ]
  },
  {
   "cell_type": "code",
   "execution_count": 53,
   "id": "6b06d3d8",
   "metadata": {},
   "outputs": [],
   "source": [
    "# Creating y for arrivals and dropping weather and origin column for df_arr\n",
    "y_arr = df_arr['weather']"
   ]
  },
  {
   "cell_type": "code",
   "execution_count": 54,
   "id": "abecc6d6",
   "metadata": {},
   "outputs": [],
   "source": [
    "df_arr.drop(columns = ['weather', 'ORIGIN'], inplace = True)"
   ]
  },
  {
   "cell_type": "code",
   "execution_count": 55,
   "id": "10cd6038",
   "metadata": {},
   "outputs": [
    {
     "name": "stdout",
     "output_type": "stream",
     "text": [
      "<class 'pandas.core.frame.DataFrame'>\n",
      "Int64Index: 329362 entries, 0 to 736648\n",
      "Data columns (total 86 columns):\n",
      " #   Column               Non-Null Count   Dtype  \n",
      "---  ------               --------------   -----  \n",
      " 0   YEAR                 329362 non-null  int64  \n",
      " 1   MONTH                329362 non-null  int64  \n",
      " 2   DAY_OF_WEEK          329362 non-null  float64\n",
      " 3   CRS_ARR_TIME         329362 non-null  int64  \n",
      " 4   ARR_TIME             329362 non-null  float64\n",
      " 5   ARR_DELAY            329362 non-null  float64\n",
      " 6   ARR_DELAY_NEW        329362 non-null  float64\n",
      " 7   CRS_ELAPSED_TIME     329362 non-null  float64\n",
      " 8   ACTUAL_ELAPSED_TIME  329362 non-null  float64\n",
      " 9   DAY                  329362 non-null  int64  \n",
      " 10  0                    329362 non-null  uint8  \n",
      " 11  ORIGIN_ATL           329362 non-null  uint8  \n",
      " 12  ORIGIN_AUS           329362 non-null  uint8  \n",
      " 13  ORIGIN_BDL           329362 non-null  uint8  \n",
      " 14  ORIGIN_BGR           329362 non-null  uint8  \n",
      " 15  ORIGIN_BHM           329362 non-null  uint8  \n",
      " 16  ORIGIN_BNA           329362 non-null  uint8  \n",
      " 17  ORIGIN_BOS           329362 non-null  uint8  \n",
      " 18  ORIGIN_BWI           329362 non-null  uint8  \n",
      " 19  ORIGIN_CAE           329362 non-null  uint8  \n",
      " 20  ORIGIN_CHS           329362 non-null  uint8  \n",
      " 21  ORIGIN_CLE           329362 non-null  uint8  \n",
      " 22  ORIGIN_CLT           329362 non-null  uint8  \n",
      " 23  ORIGIN_CMH           329362 non-null  uint8  \n",
      " 24  ORIGIN_CVG           329362 non-null  uint8  \n",
      " 25  ORIGIN_DAL           329362 non-null  uint8  \n",
      " 26  ORIGIN_DCA           329362 non-null  uint8  \n",
      " 27  ORIGIN_DEN           329362 non-null  uint8  \n",
      " 28  ORIGIN_DFW           329362 non-null  uint8  \n",
      " 29  ORIGIN_DTW           329362 non-null  uint8  \n",
      " 30  ORIGIN_EWR           329362 non-null  uint8  \n",
      " 31  ORIGIN_EYW           329362 non-null  uint8  \n",
      " 32  ORIGIN_GNV           329362 non-null  uint8  \n",
      " 33  ORIGIN_GSO           329362 non-null  uint8  \n",
      " 34  ORIGIN_GSP           329362 non-null  uint8  \n",
      " 35  ORIGIN_HOU           329362 non-null  uint8  \n",
      " 36  ORIGIN_IAD           329362 non-null  uint8  \n",
      " 37  ORIGIN_IAH           329362 non-null  uint8  \n",
      " 38  ORIGIN_IND           329362 non-null  uint8  \n",
      " 39  ORIGIN_ISP           329362 non-null  uint8  \n",
      " 40  ORIGIN_JAN           329362 non-null  uint8  \n",
      " 41  ORIGIN_JAX           329362 non-null  uint8  \n",
      " 42  ORIGIN_JFK           329362 non-null  uint8  \n",
      " 43  ORIGIN_LAS           329362 non-null  uint8  \n",
      " 44  ORIGIN_LAX           329362 non-null  uint8  \n",
      " 45  ORIGIN_LGA           329362 non-null  uint8  \n",
      " 46  ORIGIN_LIT           329362 non-null  uint8  \n",
      " 47  ORIGIN_MCI           329362 non-null  uint8  \n",
      " 48  ORIGIN_MCO           329362 non-null  uint8  \n",
      " 49  ORIGIN_MDW           329362 non-null  uint8  \n",
      " 50  ORIGIN_MEM           329362 non-null  uint8  \n",
      " 51  ORIGIN_MKE           329362 non-null  uint8  \n",
      " 52  ORIGIN_MSP           329362 non-null  uint8  \n",
      " 53  ORIGIN_MSY           329362 non-null  uint8  \n",
      " 54  ORIGIN_MYR           329362 non-null  uint8  \n",
      " 55  ORIGIN_OKC           329362 non-null  uint8  \n",
      " 56  ORIGIN_OMA           329362 non-null  uint8  \n",
      " 57  ORIGIN_ORD           329362 non-null  uint8  \n",
      " 58  ORIGIN_ORF           329362 non-null  uint8  \n",
      " 59  ORIGIN_PHL           329362 non-null  uint8  \n",
      " 60  ORIGIN_PHX           329362 non-null  uint8  \n",
      " 61  ORIGIN_PIT           329362 non-null  uint8  \n",
      " 62  ORIGIN_PNS           329362 non-null  uint8  \n",
      " 63  ORIGIN_PVD           329362 non-null  uint8  \n",
      " 64  ORIGIN_PWM           329362 non-null  uint8  \n",
      " 65  ORIGIN_RDU           329362 non-null  uint8  \n",
      " 66  ORIGIN_RIC           329362 non-null  uint8  \n",
      " 67  ORIGIN_ROC           329362 non-null  uint8  \n",
      " 68  ORIGIN_RSW           329362 non-null  uint8  \n",
      " 69  ORIGIN_SAN           329362 non-null  uint8  \n",
      " 70  ORIGIN_SAT           329362 non-null  uint8  \n",
      " 71  ORIGIN_SAV           329362 non-null  uint8  \n",
      " 72  ORIGIN_SDF           329362 non-null  uint8  \n",
      " 73  ORIGIN_SEA           329362 non-null  uint8  \n",
      " 74  ORIGIN_SFO           329362 non-null  uint8  \n",
      " 75  ORIGIN_SJU           329362 non-null  uint8  \n",
      " 76  ORIGIN_SLC           329362 non-null  uint8  \n",
      " 77  ORIGIN_STL           329362 non-null  uint8  \n",
      " 78  ORIGIN_STT           329362 non-null  uint8  \n",
      " 79  ORIGIN_STX           329362 non-null  uint8  \n",
      " 80  ORIGIN_TLH           329362 non-null  uint8  \n",
      " 81  ORIGIN_TPA           329362 non-null  uint8  \n",
      " 82  ORIGIN_TTN           329362 non-null  uint8  \n",
      " 83  ORIGIN_TUL           329362 non-null  uint8  \n",
      " 84  ORIGIN_TYS           329362 non-null  uint8  \n",
      " 85  ORIGIN_XNA           329362 non-null  uint8  \n",
      "dtypes: float64(6), int64(4), uint8(76)\n",
      "memory usage: 51.5 MB\n"
     ]
    }
   ],
   "source": [
    "df_arr.info()"
   ]
  },
  {
   "cell_type": "code",
   "execution_count": 123,
   "id": "531c9821",
   "metadata": {},
   "outputs": [],
   "source": [
    "# Split train, test for df_arrival\n",
    "X_arr_train, X_arr_test, y_arr_train, y_arr_test = train_test_split(df_arr, y_arr, test_size = .33, random_state = 42)"
   ]
  },
  {
   "cell_type": "code",
   "execution_count": 124,
   "id": "c677dac3",
   "metadata": {},
   "outputs": [],
   "source": [
    "#Function to implement SMOTE\n",
    "def create_smote(X_arr_train, y_arr_train):\n",
    "    from imblearn.over_sampling import SMOTE\n",
    "    sm = SMOTE(random_state = 42, sampling_strategy = 1.0)\n",
    "    X_train, y_train = sm.fit_resample(X_arr_train, y_arr_train)\n",
    "    return [X_train, y_train]\n"
   ]
  },
  {
   "cell_type": "code",
   "execution_count": 121,
   "id": "79e51b67",
   "metadata": {},
   "outputs": [
    {
     "ename": "ValueError",
     "evalue": "The specified ratio required to remove samples from the minority class while trying to generate new samples. Please increase the ratio.",
     "output_type": "error",
     "traceback": [
      "\u001b[1;31m---------------------------------------------------------------------------\u001b[0m",
      "\u001b[1;31mValueError\u001b[0m                                Traceback (most recent call last)",
      "\u001b[1;32m~\\AppData\\Local\\Temp\\ipykernel_5232\\1196960046.py\u001b[0m in \u001b[0;36m<module>\u001b[1;34m\u001b[0m\n\u001b[1;32m----> 1\u001b[1;33m \u001b[0msmoted\u001b[0m \u001b[1;33m=\u001b[0m \u001b[0mcreate_smote\u001b[0m\u001b[1;33m(\u001b[0m\u001b[0mX_arr_train\u001b[0m\u001b[1;33m,\u001b[0m \u001b[0my_arr_train\u001b[0m\u001b[1;33m)\u001b[0m\u001b[1;33m\u001b[0m\u001b[1;33m\u001b[0m\u001b[0m\n\u001b[0m\u001b[0;32m      2\u001b[0m \u001b[0mX_arr_train\u001b[0m \u001b[1;33m=\u001b[0m \u001b[0msmoted\u001b[0m\u001b[1;33m[\u001b[0m\u001b[1;36m0\u001b[0m\u001b[1;33m]\u001b[0m\u001b[1;33m\u001b[0m\u001b[1;33m\u001b[0m\u001b[0m\n\u001b[0;32m      3\u001b[0m \u001b[0my_arr_train\u001b[0m \u001b[1;33m=\u001b[0m \u001b[0msmoted\u001b[0m\u001b[1;33m[\u001b[0m\u001b[1;36m1\u001b[0m\u001b[1;33m]\u001b[0m\u001b[1;33m\u001b[0m\u001b[1;33m\u001b[0m\u001b[0m\n",
      "\u001b[1;32m~\\AppData\\Local\\Temp\\ipykernel_5232\\2812125524.py\u001b[0m in \u001b[0;36mcreate_smote\u001b[1;34m(X_arr_train, y_arr_train)\u001b[0m\n\u001b[0;32m      3\u001b[0m     \u001b[1;32mfrom\u001b[0m \u001b[0mimblearn\u001b[0m\u001b[1;33m.\u001b[0m\u001b[0mover_sampling\u001b[0m \u001b[1;32mimport\u001b[0m \u001b[0mSMOTE\u001b[0m\u001b[1;33m\u001b[0m\u001b[1;33m\u001b[0m\u001b[0m\n\u001b[0;32m      4\u001b[0m     \u001b[0msm\u001b[0m \u001b[1;33m=\u001b[0m \u001b[0mSMOTE\u001b[0m\u001b[1;33m(\u001b[0m\u001b[0mrandom_state\u001b[0m \u001b[1;33m=\u001b[0m \u001b[1;36m42\u001b[0m\u001b[1;33m,\u001b[0m \u001b[0msampling_strategy\u001b[0m \u001b[1;33m=\u001b[0m \u001b[1;36m1.0\u001b[0m\u001b[1;33m)\u001b[0m\u001b[1;33m\u001b[0m\u001b[1;33m\u001b[0m\u001b[0m\n\u001b[1;32m----> 5\u001b[1;33m     \u001b[0mX_train\u001b[0m\u001b[1;33m,\u001b[0m \u001b[0my_train\u001b[0m \u001b[1;33m=\u001b[0m \u001b[0msm\u001b[0m\u001b[1;33m.\u001b[0m\u001b[0mfit_resample\u001b[0m\u001b[1;33m(\u001b[0m\u001b[0mX_arr_train\u001b[0m\u001b[1;33m,\u001b[0m \u001b[0my_arr_train\u001b[0m\u001b[1;33m)\u001b[0m\u001b[1;33m\u001b[0m\u001b[1;33m\u001b[0m\u001b[0m\n\u001b[0m\u001b[0;32m      6\u001b[0m     \u001b[1;32mreturn\u001b[0m \u001b[0mX_train\u001b[0m\u001b[1;33m,\u001b[0m \u001b[0my_train\u001b[0m\u001b[1;33m\u001b[0m\u001b[1;33m\u001b[0m\u001b[0m\n",
      "\u001b[1;32m~\\AppData\\Roaming\\Python\\Python39\\site-packages\\imblearn\\base.py\u001b[0m in \u001b[0;36mfit_resample\u001b[1;34m(self, X, y)\u001b[0m\n\u001b[0;32m    201\u001b[0m         \"\"\"\n\u001b[0;32m    202\u001b[0m         \u001b[0mself\u001b[0m\u001b[1;33m.\u001b[0m\u001b[0m_validate_params\u001b[0m\u001b[1;33m(\u001b[0m\u001b[1;33m)\u001b[0m\u001b[1;33m\u001b[0m\u001b[1;33m\u001b[0m\u001b[0m\n\u001b[1;32m--> 203\u001b[1;33m         \u001b[1;32mreturn\u001b[0m \u001b[0msuper\u001b[0m\u001b[1;33m(\u001b[0m\u001b[1;33m)\u001b[0m\u001b[1;33m.\u001b[0m\u001b[0mfit_resample\u001b[0m\u001b[1;33m(\u001b[0m\u001b[0mX\u001b[0m\u001b[1;33m,\u001b[0m \u001b[0my\u001b[0m\u001b[1;33m)\u001b[0m\u001b[1;33m\u001b[0m\u001b[1;33m\u001b[0m\u001b[0m\n\u001b[0m\u001b[0;32m    204\u001b[0m \u001b[1;33m\u001b[0m\u001b[0m\n\u001b[0;32m    205\u001b[0m     \u001b[1;32mdef\u001b[0m \u001b[0m_more_tags\u001b[0m\u001b[1;33m(\u001b[0m\u001b[0mself\u001b[0m\u001b[1;33m)\u001b[0m\u001b[1;33m:\u001b[0m\u001b[1;33m\u001b[0m\u001b[1;33m\u001b[0m\u001b[0m\n",
      "\u001b[1;32m~\\AppData\\Roaming\\Python\\Python39\\site-packages\\imblearn\\base.py\u001b[0m in \u001b[0;36mfit_resample\u001b[1;34m(self, X, y)\u001b[0m\n\u001b[0;32m     82\u001b[0m         \u001b[0mX\u001b[0m\u001b[1;33m,\u001b[0m \u001b[0my\u001b[0m\u001b[1;33m,\u001b[0m \u001b[0mbinarize_y\u001b[0m \u001b[1;33m=\u001b[0m \u001b[0mself\u001b[0m\u001b[1;33m.\u001b[0m\u001b[0m_check_X_y\u001b[0m\u001b[1;33m(\u001b[0m\u001b[0mX\u001b[0m\u001b[1;33m,\u001b[0m \u001b[0my\u001b[0m\u001b[1;33m)\u001b[0m\u001b[1;33m\u001b[0m\u001b[1;33m\u001b[0m\u001b[0m\n\u001b[0;32m     83\u001b[0m \u001b[1;33m\u001b[0m\u001b[0m\n\u001b[1;32m---> 84\u001b[1;33m         self.sampling_strategy_ = check_sampling_strategy(\n\u001b[0m\u001b[0;32m     85\u001b[0m             \u001b[0mself\u001b[0m\u001b[1;33m.\u001b[0m\u001b[0msampling_strategy\u001b[0m\u001b[1;33m,\u001b[0m \u001b[0my\u001b[0m\u001b[1;33m,\u001b[0m \u001b[0mself\u001b[0m\u001b[1;33m.\u001b[0m\u001b[0m_sampling_type\u001b[0m\u001b[1;33m\u001b[0m\u001b[1;33m\u001b[0m\u001b[0m\n\u001b[0;32m     86\u001b[0m         )\n",
      "\u001b[1;32m~\\AppData\\Roaming\\Python\\Python39\\site-packages\\imblearn\\utils\\_validation.py\u001b[0m in \u001b[0;36mcheck_sampling_strategy\u001b[1;34m(sampling_strategy, y, sampling_type, **kwargs)\u001b[0m\n\u001b[0;32m    546\u001b[0m         return OrderedDict(\n\u001b[0;32m    547\u001b[0m             sorted(\n\u001b[1;32m--> 548\u001b[1;33m                 \u001b[0m_sampling_strategy_float\u001b[0m\u001b[1;33m(\u001b[0m\u001b[0msampling_strategy\u001b[0m\u001b[1;33m,\u001b[0m \u001b[0my\u001b[0m\u001b[1;33m,\u001b[0m \u001b[0msampling_type\u001b[0m\u001b[1;33m)\u001b[0m\u001b[1;33m.\u001b[0m\u001b[0mitems\u001b[0m\u001b[1;33m(\u001b[0m\u001b[1;33m)\u001b[0m\u001b[1;33m\u001b[0m\u001b[1;33m\u001b[0m\u001b[0m\n\u001b[0m\u001b[0;32m    549\u001b[0m             )\n\u001b[0;32m    550\u001b[0m         )\n",
      "\u001b[1;32m~\\AppData\\Roaming\\Python\\Python39\\site-packages\\imblearn\\utils\\_validation.py\u001b[0m in \u001b[0;36m_sampling_strategy_float\u001b[1;34m(sampling_strategy, y, sampling_type)\u001b[0m\n\u001b[0;32m    385\u001b[0m         }\n\u001b[0;32m    386\u001b[0m         \u001b[1;32mif\u001b[0m \u001b[0many\u001b[0m\u001b[1;33m(\u001b[0m\u001b[1;33m[\u001b[0m\u001b[0mn_samples\u001b[0m \u001b[1;33m<=\u001b[0m \u001b[1;36m0\u001b[0m \u001b[1;32mfor\u001b[0m \u001b[0mn_samples\u001b[0m \u001b[1;32min\u001b[0m \u001b[0msampling_strategy_\u001b[0m\u001b[1;33m.\u001b[0m\u001b[0mvalues\u001b[0m\u001b[1;33m(\u001b[0m\u001b[1;33m)\u001b[0m\u001b[1;33m]\u001b[0m\u001b[1;33m)\u001b[0m\u001b[1;33m:\u001b[0m\u001b[1;33m\u001b[0m\u001b[1;33m\u001b[0m\u001b[0m\n\u001b[1;32m--> 387\u001b[1;33m             raise ValueError(\n\u001b[0m\u001b[0;32m    388\u001b[0m                 \u001b[1;34m\"The specified ratio required to remove samples \"\u001b[0m\u001b[1;33m\u001b[0m\u001b[1;33m\u001b[0m\u001b[0m\n\u001b[0;32m    389\u001b[0m                 \u001b[1;34m\"from the minority class while trying to \"\u001b[0m\u001b[1;33m\u001b[0m\u001b[1;33m\u001b[0m\u001b[0m\n",
      "\u001b[1;31mValueError\u001b[0m: The specified ratio required to remove samples from the minority class while trying to generate new samples. Please increase the ratio."
     ]
    }
   ],
   "source": [
    "smoted = create_smote(X_arr_train, y_arr_train)\n",
    "X_arr_train = smoted[0] \n",
    "y_arr_train = smoted[1]"
   ]
  },
  {
   "cell_type": "code",
   "execution_count": 97,
   "id": "71062787",
   "metadata": {},
   "outputs": [],
   "source": [
    "# These functions are to interpret and print the results of the maching learning algorithms. \n",
    "#There are two functions, one for that had iterable parameter thus had multiple results and the other for those who didn't\n",
    "from sklearn.metrics import accuracy_score\n",
    "from sklearn.model_selection import cross_val_score\n",
    "import matplotlib.pyplot as plt\n",
    "from sklearn.model_selection import KFold\n",
    "from sklearn.metrics import classification_report\n",
    "from sklearn.metrics import confusion_matrix\n",
    "from sklearn.metrics import roc_auc_score\n",
    "import seaborn as sns\n",
    "\n",
    "#A dictionary will be used to save all the results from the different algorithms for analysis later on.\n",
    "t_results = {}\n",
    "def testing_results(test_name, y_test, y_pred, t_results):    \n",
    "   \n",
    "    \n",
    "    acc_score = accuracy_score(y_test, y_pred)\n",
    "    class_report = classification_report(y_test, y_pred)\n",
    "    conf_matrix = confusion_matrix(y_test, y_pred)\n",
    "    ROC =  roc_auc_score(y_test, y_pred)\n",
    "    \n",
    "    print(f'Accuracy score with {test_name} is {acc_score}.')\n",
    "    print(f'Classification report for {test_name} is \\n {class_report}.')\n",
    "    print(f'Confusion matrix for {test_name} is \\n {conf_matrix}.')   \n",
    "    print(f'ROC-AUC score is {ROC}.')\n",
    "    t_results[test_name] = [acc_score, class_report, conf_matrix, ROC]\n",
    "    return t_results\n",
    "    \n",
    "def iterable_testing_results(test_name, y_test, array, t_results) :\n",
    "    trinket = {}\n",
    "    for item in array.items():\n",
    "        trinket[item[0]] = accuracy_score(y_test, item[1])\n",
    "    max_score = max(trinket.values())\n",
    "    best_n = max(trinket, key=trinket.get)\n",
    "    \n",
    "    acc_score = accuracy_score(y_test, array[best_n])\n",
    "    class_report = classification_report(y_arr_test, array[best_n])\n",
    "    conf_matrix = confusion_matrix(y_arr_test, array[best_n])\n",
    "    ROC =  roc_auc_score(y_test, array[best_n])\n",
    "    print(best_n)\n",
    "    print(f'{best_n} makes the best n value with a score of {max_score}.')\n",
    "    print(f'Classification report for {test_name} \\n {class_report}.')\n",
    "    print(f'Confusion Matrix for {test_name} is \\n {conf_matrix}.')\n",
    "    print(f'ROC-AUC score is {ROC}.')\n",
    "    t_results[test_name] = [acc_score, class_report, conf_matrix, ROC]\n",
    "    return t_results\n"
   ]
  },
  {
   "cell_type": "code",
   "execution_count": 62,
   "id": "3f8bc35d",
   "metadata": {},
   "outputs": [],
   "source": [
    "# Logistic Regression\n",
    "def Logistic_Regression(X_train, y_train, X_test):\n",
    "    from sklearn.linear_model import LogisticRegression\n",
    "    c_range = [0.001,0.01,0.1,1,10,100]\n",
    "    results = {}\n",
    "    for c in c_range:\n",
    "        lgreg = LogisticRegression(C = c, class_weight = {0:.91, 1:.09})\n",
    "        lgreg.fit(X_arr_train, y_arr_train)\n",
    "        predlgreg = lgreg.predict(X_arr_test)\n",
    "        results[c] = predlgreg\n",
    "    return results    \n"
   ]
  },
  {
   "cell_type": "code",
   "execution_count": 63,
   "id": "4337bcc4",
   "metadata": {},
   "outputs": [],
   "source": [
    "# Arrival Logistic Regression\n",
    "lg_score = Logistic_Regression(X_arr_train, y_arr_train, X_arr_test)"
   ]
  },
  {
   "cell_type": "code",
   "execution_count": 64,
   "id": "38132edb",
   "metadata": {},
   "outputs": [
    {
     "name": "stdout",
     "output_type": "stream",
     "text": [
      "0.001\n",
      "0.001 makes the best n value with a score of 0.9769159996319808.\n",
      "Classification report for Logistic Regression \n",
      "               precision    recall  f1-score   support\n",
      "\n",
      "           0       0.99      0.99      0.99    107087\n",
      "           1       0.17      0.14      0.15      1603\n",
      "\n",
      "    accuracy                           0.98    108690\n",
      "   macro avg       0.58      0.57      0.57    108690\n",
      "weighted avg       0.98      0.98      0.98    108690\n",
      ".\n",
      "Confusion Matrix for Logistic Regression is \n",
      " [[105955   1132]\n",
      " [  1377    226]].\n",
      "ROC-AUC score is 0.5652074038179357.\n"
     ]
    }
   ],
   "source": [
    "t_arr_results_0 = iterable_testing_results('Logistic Regression', y_arr_test, lg_score, t_results)"
   ]
  },
  {
   "cell_type": "code",
   "execution_count": 104,
   "id": "876a7527",
   "metadata": {},
   "outputs": [],
   "source": [
    "# Random Forest Classifier\n",
    "def Random_Forest(X_train, y_train, X_test):\n",
    "    from sklearn.ensemble import RandomForestClassifier\n",
    "    \n",
    "    rf=RandomForestClassifier(max_depth = 5, n_estimators=100, random_state = 42)\n",
    "    rf.fit(X_train, y_train)\n",
    "    rf_y_pred = rf.predict(X_test)\n",
    "    return [rf_y_pred, rf] \n",
    "\n"
   ]
  },
  {
   "cell_type": "code",
   "execution_count": 105,
   "id": "5c11d7df",
   "metadata": {},
   "outputs": [],
   "source": [
    "#Arrival Random Forest\n",
    "rf_results = Random_Forest(X_arr_train, y_arr_train, X_arr_test)"
   ]
  },
  {
   "cell_type": "code",
   "execution_count": 109,
   "id": "c97dca3a",
   "metadata": {},
   "outputs": [
    {
     "name": "stdout",
     "output_type": "stream",
     "text": [
      "Accuracy score with Random Forest Classifier is 0.8323580826202962.\n",
      "Classification report for Random Forest Classifier is \n",
      "               precision    recall  f1-score   support\n",
      "\n",
      "           0       1.00      0.83      0.91    107087\n",
      "           1       0.08      0.98      0.15      1603\n",
      "\n",
      "    accuracy                           0.83    108690\n",
      "   macro avg       0.54      0.90      0.53    108690\n",
      "weighted avg       0.99      0.83      0.90    108690\n",
      ".\n",
      "Confusion matrix for Random Forest Classifier is \n",
      " [[88904 18183]\n",
      " [   38  1565]].\n",
      "ROC-AUC score is 0.9032489636620514.\n"
     ]
    }
   ],
   "source": [
    "t_arr_results_1 = testing_results('Random Forest Classifier', y_arr_test, rf_results[0], t_results)"
   ]
  },
  {
   "cell_type": "code",
   "execution_count": 75,
   "id": "9d84a07d",
   "metadata": {},
   "outputs": [],
   "source": [
    "# Decision Tree Classifier\n",
    "def Decision_Tree_Classifier(X_train, y_train, X_test):\n",
    "    from sklearn.tree import DecisionTreeClassifier\n",
    "    DTC = DecisionTreeClassifier(criterion = 'gini', random_state = 42, max_depth = 3, min_samples_leaf=5)\n",
    "    DTC.fit(X_train, y_train)\n",
    "    DTC_y_predict = DTC.predict(X_test)\n",
    "    return DTC_y_predict\n"
   ]
  },
  {
   "cell_type": "code",
   "execution_count": 76,
   "id": "7eef93d3",
   "metadata": {},
   "outputs": [],
   "source": [
    "DTC_y_predict = Decision_Tree_Classifier(X_arr_train, y_arr_train, X_arr_test)"
   ]
  },
  {
   "cell_type": "code",
   "execution_count": 77,
   "id": "11301230",
   "metadata": {},
   "outputs": [
    {
     "name": "stdout",
     "output_type": "stream",
     "text": [
      "Accuracy score with Decision Tree Classifier is 0.8612935872665378.\n",
      "Classification report for Decision Tree Classifier is \n",
      "               precision    recall  f1-score   support\n",
      "\n",
      "           0       1.00      0.86      0.92    107087\n",
      "           1       0.08      0.78      0.14      1603\n",
      "\n",
      "    accuracy                           0.86    108690\n",
      "   macro avg       0.54      0.82      0.53    108690\n",
      "weighted avg       0.98      0.86      0.91    108690\n",
      ".\n",
      "Confusion matrix for Decision Tree Classifier is \n",
      " [[92361 14726]\n",
      " [  350  1253]].\n",
      "ROC-AUC score is 0.8220725155806264.\n"
     ]
    }
   ],
   "source": [
    "t_arr_results_2 = testing_results('Decision Tree Classifier', y_arr_test, DTC_y_predict, t_arr_results_1)"
   ]
  },
  {
   "cell_type": "code",
   "execution_count": 78,
   "id": "656fefb0",
   "metadata": {},
   "outputs": [],
   "source": [
    "# Naive Bayes Gaussian NB\n",
    "def NBG (X_train, y_train, X_test):\n",
    "    from sklearn.naive_bayes import GaussianNB\n",
    "    gaussian = GaussianNB()\n",
    "    gaussian.fit(X_train, y_train)\n",
    "    gaus_pred = gaussian.predict(X_test)\n",
    "    return gaus_pred"
   ]
  },
  {
   "cell_type": "code",
   "execution_count": 79,
   "id": "e071593d",
   "metadata": {},
   "outputs": [],
   "source": [
    "gaus_pred = NBG(X_arr_train, y_arr_train, X_arr_test)"
   ]
  },
  {
   "cell_type": "code",
   "execution_count": 80,
   "id": "45953a44",
   "metadata": {},
   "outputs": [
    {
     "name": "stdout",
     "output_type": "stream",
     "text": [
      "Accuracy score with Naive Bayes Gaussian is 0.903247768883982.\n",
      "Classification report for Naive Bayes Gaussian is \n",
      "               precision    recall  f1-score   support\n",
      "\n",
      "           0       1.00      0.91      0.95    107087\n",
      "           1       0.10      0.72      0.18      1603\n",
      "\n",
      "    accuracy                           0.90    108690\n",
      "   macro avg       0.55      0.81      0.56    108690\n",
      "weighted avg       0.98      0.90      0.94    108690\n",
      ".\n",
      "Confusion matrix for Naive Bayes Gaussian is \n",
      " [[97027 10060]\n",
      " [  456  1147]].\n",
      "ROC-AUC score is 0.8107955331659048.\n"
     ]
    }
   ],
   "source": [
    "t_arr_results_3 = testing_results('Naive Bayes Gaussian', y_arr_test, gaus_pred, t_arr_results_2)"
   ]
  },
  {
   "cell_type": "code",
   "execution_count": 81,
   "id": "412a0197",
   "metadata": {},
   "outputs": [],
   "source": [
    "# Gradient Boosting\n",
    "def Grad_Boosting(X_train, y_train, X_test):\n",
    "    from sklearn.ensemble import ExtraTreesClassifier, GradientBoostingClassifier\n",
    "    gbc = GradientBoostingClassifier(subsample=0.8, learning_rate=0.05 , n_estimators=160, random_state=5, max_depth=9, max_leaf_nodes=100)\n",
    "    gbc.fit(X_arr_train, y_arr_train)\n",
    "\n",
    "    #Predict using the model:\n",
    "\n",
    "    y_predict_gbc = gbc.predict(X_arr_test)\n",
    "    return  y_predict_gbc"
   ]
  },
  {
   "cell_type": "code",
   "execution_count": 82,
   "id": "37c31f3e",
   "metadata": {},
   "outputs": [],
   "source": [
    "y_predict_gbc = Grad_Boosting(X_arr_train, y_arr_train, X_arr_test)"
   ]
  },
  {
   "cell_type": "code",
   "execution_count": 83,
   "id": "ce786600",
   "metadata": {},
   "outputs": [
    {
     "name": "stdout",
     "output_type": "stream",
     "text": [
      "Accuracy score with Gradient Boosting is 0.9666114637961174.\n",
      "Classification report for Gradient Boosting is \n",
      "               precision    recall  f1-score   support\n",
      "\n",
      "           0       0.99      0.98      0.98    107087\n",
      "           1       0.19      0.38      0.25      1603\n",
      "\n",
      "    accuracy                           0.97    108690\n",
      "   macro avg       0.59      0.68      0.62    108690\n",
      "weighted avg       0.98      0.97      0.97    108690\n",
      ".\n",
      "Confusion matrix for Gradient Boosting is \n",
      " [[104456   2631]\n",
      " [   998    605]].\n",
      "ROC-AUC score is 0.6764242669719965.\n"
     ]
    }
   ],
   "source": [
    "t_arr_results_4 = testing_results('Gradient Boosting', y_arr_test, y_predict_gbc, t_arr_results_3)"
   ]
  },
  {
   "cell_type": "code",
   "execution_count": 30,
   "id": "d8dd936a",
   "metadata": {},
   "outputs": [],
   "source": [
    "# KNeighbor Classifier\n",
    "def knn(X_train,y_train, X_test):\n",
    "    from sklearn.neighbors import KNeighborsClassifier\n",
    "    score = {}\n",
    "    for n in range (1,10):\n",
    "        knn = KNeighborsClassifier(n_neighbors = (n), weights = 'distance')\n",
    "        knn.fit(X_train,y_train)\n",
    "        y_pred_class = knn.predict(X_test)\n",
    "        score[n] = y_pred_class\n",
    "    \n",
    "    return score\n"
   ]
  },
  {
   "cell_type": "code",
   "execution_count": 31,
   "id": "b7243a2a",
   "metadata": {},
   "outputs": [],
   "source": [
    "knn_score = knn(X_arr_train, y_arr_train, X_arr_test)\n"
   ]
  },
  {
   "cell_type": "code",
   "execution_count": 85,
   "id": "c176efa4",
   "metadata": {},
   "outputs": [
    {
     "name": "stdout",
     "output_type": "stream",
     "text": [
      "1\n",
      "1 makes the best n value with a score of 0.9572361762811666.\n",
      "Classification report for K Neighbor \n",
      "               precision    recall  f1-score   support\n",
      "\n",
      "           0       0.99      0.97      0.98    107087\n",
      "           1       0.13      0.34      0.19      1603\n",
      "\n",
      "    accuracy                           0.96    108690\n",
      "   macro avg       0.56      0.66      0.58    108690\n",
      "weighted avg       0.98      0.96      0.97    108690\n",
      ".\n",
      "Confusion Matrix for K Neighbor is \n",
      " [[103491   3596]\n",
      " [  1052    551]].\n",
      "ROC-AUC score is 0.6550751660861497.\n"
     ]
    }
   ],
   "source": [
    "t_arr_results_5 = iterable_testing_results('K Neighbor', y_arr_test, knn_score, t_arr_results_4)"
   ]
  },
  {
   "cell_type": "markdown",
   "id": "ed046bc2",
   "metadata": {},
   "source": [
    "# Machine Learning Analysis"
   ]
  },
  {
   "cell_type": "code",
   "execution_count": 86,
   "id": "f1574f20",
   "metadata": {},
   "outputs": [],
   "source": [
    "# t_results[test_name] = [acc_score, class_report, conf_matrix, ROC]\n",
    "t_results = t_arr_results_1\n",
    "ml = list(t_results.keys())\n",
    "result_values = list(t_results.values())\n",
    "acc_scores_analysis = []\n",
    "class_report_analysis = []\n",
    "conf_matrix_analysis = []\n",
    "ROC_analysis= []\n",
    "for lists in result_values:\n",
    "    acc_scores_analysis.append(lists[0])\n",
    "    class_report_analysis.append(lists[1])\n",
    "    conf_matrix_analysis.append(lists[2])\n",
    "    ROC_analysis.append(lists[3])\n",
    "\n",
    "\n"
   ]
  },
  {
   "cell_type": "code",
   "execution_count": 87,
   "id": "f63b7138",
   "metadata": {},
   "outputs": [
    {
     "data": {
      "text/plain": [
       "<function matplotlib.pyplot.show(close=None, block=None)>"
      ]
     },
     "execution_count": 87,
     "metadata": {},
     "output_type": "execute_result"
    },
    {
     "data": {
      "image/png": "[encoded data removed]",
      "text/plain": [
       "<Figure size 640x480 with 1 Axes>"
      ]
     },
     "metadata": {},
     "output_type": "display_data"
    }
   ],
   "source": [
    "\n",
    "# Create a graph to compare the accuracy of each model\n",
    "fig = plt.figure()\n",
    "ax = fig.add_axes([0,0,1,1])\n",
    "ax.bar(ml, acc_scores_analysis)\n",
    "plt.setp(ax.get_xticklabels(), rotation = 'vertical')\n",
    "plt.title('Accuracy Score by ML Algorithm')\n",
    "\n",
    "plt.show"
   ]
  },
  {
   "cell_type": "code",
   "execution_count": 88,
   "id": "3ccbca53",
   "metadata": {},
   "outputs": [
    {
     "data": {
      "text/plain": [
       "<function matplotlib.pyplot.show(close=None, block=None)>"
      ]
     },
     "execution_count": 88,
     "metadata": {},
     "output_type": "execute_result"
    },
    {
     "data": {
      "image/png": "[encoded data removed]",
      "text/plain": [
       "<Figure size 640x480 with 1 Axes>"
      ]
     },
     "metadata": {},
     "output_type": "display_data"
    }
   ],
   "source": [
    "# Bar graph of ROC_AUC scores\n",
    "fig = plt.figure()\n",
    "ax = fig.add_axes([0,0,1,1])\n",
    "ax.bar(ml, ROC_analysis)\n",
    "plt.setp(ax.get_xticklabels(), rotation = 'vertical')\n",
    "plt.title('ROC_AUC scores by ML Algoritm')\n",
    "\n",
    "plt.show\n",
    "\n"
   ]
  },
  {
   "cell_type": "markdown",
   "id": "54468959",
   "metadata": {},
   "source": [
    "Random Forest Classifer scored the best among the Machine Learining algorithms, Going to try to Hypertune it to see if we can get better results. I let this process for two days without getting a result. I think I need more processing power."
   ]
  },
  {
   "cell_type": "code",
   "execution_count": null,
   "id": "3aeffa5a",
   "metadata": {},
   "outputs": [],
   "source": [
    "from sklearn.model_selection import GridSearchCV\n",
    "from sklearn.ensemble import RandomForestClassifier\n",
    "\n",
    "rf = RandomForestClassifier(max_features='auto',random_state=1, n_jobs=-1)\n",
    "\n",
    "param_grid = { \"criterion\" : [\"gini\", \"entropy\"], \"min_samples_leaf\" : [1, 5, 10], \"min_samples_split\" : [2, 4, 10,12,16], \"n_estimators\": [50, 100,400,700,1000]}\n",
    "\n",
    "gs = GridSearchCV(estimator=rf, param_grid=param_grid, scoring='accuracy', cv=3, n_jobs=-1)\n",
    "\n",
    "gs = gs.fit(X_arr_train, y_arr_train)\n",
    "\n",
    "print(gs.best_estimator_) \n",
    "print(gs.best_score_)"
   ]
  },
  {
   "cell_type": "code",
   "execution_count": 110,
   "id": "40377489",
   "metadata": {},
   "outputs": [],
   "source": [
    "feature_scores = pd.Series(rf_results[1].feature_importances_, index = X_arr_train.columns).sort_values(ascending = False)"
   ]
  },
  {
   "cell_type": "code",
   "execution_count": 111,
   "id": "2d753653",
   "metadata": {},
   "outputs": [],
   "source": [
    "# Eliminating all columns with 0 value.\n",
    "feature_scores = feature_scores[feature_scores >0]"
   ]
  },
  {
   "cell_type": "code",
   "execution_count": 149,
   "id": "714696d4",
   "metadata": {},
   "outputs": [],
   "source": [
    "def min_feature_scores(feature_scores, rf_results, t_arr_results_5, df_arr, y_arr):\n",
    "    roc_score = t_arr_results_5['Random Forest Classifier'][-1] * 100\n",
    "    n = 100\n",
    "    t_results = {}\n",
    "    # final_score will keep track of the columns dropped.\n",
    "    final_score = {}\n",
    "    while n >= roc_score:\n",
    "        column_drop = feature_scores.idxmin()\n",
    "        df = df_arr.drop(columns = column_drop)\n",
    "        X_arr_train, X_arr_test, y_arr_train, y_arr_test = train_test_split(df_arr, y_arr, test_size = .33, random_state = 42)\n",
    "        smoted = create_smote(X_arr_train, y_arr_train)\n",
    "        X_arr_train = smoted[0]\n",
    "        y_arr_train = smoted[1]\n",
    "        results = Random_Forest(X_arr_train, y_arr_train, X_arr_test)\n",
    "        test_results =  testing_results('Random Forest Classifier', y_arr_test, results[0], t_results)\n",
    "        n = test_results['Random Forest Classifier'][-1] * 100\n",
    "        final_score[column_drop] = [n]\n",
    "        if n>= roc_score:\n",
    "            roc_score = n\n",
    "            df_arr = df\n",
    "            feature_scores = pd.Series(results[1].feature_importances_, index = X_arr_train.columns).sort_values(ascending = False)\n",
    "            final_score[column_drop].append(feature_scores)\n",
    "    return [df, final_score]\n",
    "        \n",
    "    "
   ]
  },
  {
   "cell_type": "code",
   "execution_count": 150,
   "id": "a9e26e2c",
   "metadata": {},
   "outputs": [
    {
     "name": "stdout",
     "output_type": "stream",
     "text": [
      " Initial ROC score is 90.32489636620514.\n",
      "ORIGIN_BNA\n",
      "Accuracy score with Random Forest Classifier is 0.8323580826202962.\n",
      "Classification report for Random Forest Classifier is \n",
      "               precision    recall  f1-score   support\n",
      "\n",
      "           0       1.00      0.83      0.91    107087\n",
      "           1       0.08      0.98      0.15      1603\n",
      "\n",
      "    accuracy                           0.83    108690\n",
      "   macro avg       0.54      0.90      0.53    108690\n",
      "weighted avg       0.99      0.83      0.90    108690\n",
      ".\n",
      "Confusion matrix for Random Forest Classifier is \n",
      " [[88904 18183]\n",
      " [   38  1565]].\n",
      "ROC-AUC score is 0.9032489636620514.\n",
      "90.32489636620514\n",
      "ORIGIN_AUS\n",
      "Accuracy score with Random Forest Classifier is 0.8338025577330022.\n",
      "Classification report for Random Forest Classifier is \n",
      "               precision    recall  f1-score   support\n",
      "\n",
      "           0       1.00      0.83      0.91    107087\n",
      "           1       0.08      0.97      0.15      1603\n",
      "\n",
      "    accuracy                           0.83    108690\n",
      "   macro avg       0.54      0.90      0.53    108690\n",
      "weighted avg       0.99      0.83      0.90    108690\n",
      ".\n",
      "Confusion matrix for Random Forest Classifier is \n",
      " [[89064 18023]\n",
      " [   41  1562]].\n",
      "ROC-AUC score is 0.9030602743167513.\n",
      "90.30602743167513\n"
     ]
    }
   ],
   "source": [
    "best_df = min_feature_scores(feature_scores, rf_results, t_arr_results_5, df_arr, y_arr)\n"
   ]
  },
  {
   "cell_type": "code",
   "execution_count": 152,
   "id": "710f1565",
   "metadata": {},
   "outputs": [
    {
     "data": {
      "text/plain": [
       "[        YEAR  MONTH  DAY_OF_WEEK  CRS_ARR_TIME  ARR_TIME  ARR_DELAY  \\\n",
       " 0       2010      5          6.0          1840    1835.0       -5.0   \n",
       " 1       2010      5          7.0          1840    1840.0        0.0   \n",
       " 2       2010      5          1.0          1840    1846.0        6.0   \n",
       " 3       2010      5          2.0          1840    1829.0      -11.0   \n",
       " 4       2010      5          3.0          1840    1848.0        8.0   \n",
       " ...      ...    ...          ...           ...       ...        ...   \n",
       " 736642  2021      9          4.0          1451    1444.0       -7.0   \n",
       " 736644  2021      9          4.0          1125    1110.0      -15.0   \n",
       " 736645  2021      9          4.0          1123    1120.0       -3.0   \n",
       " 736647  2021      9          4.0          1016    1009.0       -7.0   \n",
       " 736648  2021      9          4.0            12       5.0       -7.0   \n",
       " \n",
       "         ARR_DELAY_NEW  CRS_ELAPSED_TIME  ACTUAL_ELAPSED_TIME  DAY  ...  \\\n",
       " 0                 0.0             185.0                196.0    1  ...   \n",
       " 1                 0.0             185.0                170.0    2  ...   \n",
       " 2                 6.0             185.0                176.0    3  ...   \n",
       " 3                 0.0             185.0                176.0    4  ...   \n",
       " 4                 8.0             185.0                171.0    5  ...   \n",
       " ...               ...               ...                  ...  ...  ...   \n",
       " 736642            0.0             181.0                182.0   16  ...   \n",
       " 736644            0.0             210.0                198.0   16  ...   \n",
       " 736645            0.0             173.0                173.0   16  ...   \n",
       " 736647            0.0             171.0                168.0   16  ...   \n",
       " 736648            0.0             107.0                103.0   16  ...   \n",
       " \n",
       "         ORIGIN_SLC  ORIGIN_STL  ORIGIN_STT  ORIGIN_STX  ORIGIN_TLH  \\\n",
       " 0                0           0           1           0           0   \n",
       " 1                0           0           1           0           0   \n",
       " 2                0           0           1           0           0   \n",
       " 3                0           0           1           0           0   \n",
       " 4                0           0           1           0           0   \n",
       " ...            ...         ...         ...         ...         ...   \n",
       " 736642           0           0           0           0           0   \n",
       " 736644           0           0           0           0           0   \n",
       " 736645           0           0           0           0           0   \n",
       " 736647           0           0           0           0           0   \n",
       " 736648           0           0           0           0           0   \n",
       " \n",
       "         ORIGIN_TPA  ORIGIN_TTN  ORIGIN_TUL  ORIGIN_TYS  ORIGIN_XNA  \n",
       " 0                0           0           0           0           0  \n",
       " 1                0           0           0           0           0  \n",
       " 2                0           0           0           0           0  \n",
       " 3                0           0           0           0           0  \n",
       " 4                0           0           0           0           0  \n",
       " ...            ...         ...         ...         ...         ...  \n",
       " 736642           0           0           0           0           0  \n",
       " 736644           0           0           0           0           0  \n",
       " 736645           0           0           0           0           0  \n",
       " 736647           0           0           0           0           0  \n",
       " 736648           0           0           0           0           0  \n",
       " \n",
       " [329362 rows x 84 columns],\n",
       " {'ORIGIN_BNA': [90.32489636620514,\n",
       "   ARR_DELAY_NEW    0.322137\n",
       "   0                0.283113\n",
       "   ARR_DELAY        0.152547\n",
       "   CRS_ARR_TIME     0.049317\n",
       "   ARR_TIME         0.038819\n",
       "                      ...   \n",
       "   ORIGIN_OMA       0.000000\n",
       "   ORIGIN_DAL       0.000000\n",
       "   ORIGIN_ORF       0.000000\n",
       "   ORIGIN_HOU       0.000000\n",
       "   ORIGIN_XNA       0.000000\n",
       "   Length: 86, dtype: float64],\n",
       "  'ORIGIN_AUS': [90.30602743167513]}]"
      ]
     },
     "execution_count": 152,
     "metadata": {},
     "output_type": "execute_result"
    }
   ],
   "source": [
    "best_df"
   ]
  },
  {
   "cell_type": "code",
   "execution_count": 153,
   "id": "bc6cc376",
   "metadata": {},
   "outputs": [
    {
     "data": {
      "text/plain": [
       "ARR_DELAY_NEW    0.322137\n",
       "0                0.283113\n",
       "ARR_DELAY        0.152547\n",
       "CRS_ARR_TIME     0.049317\n",
       "ARR_TIME         0.038819\n",
       "                   ...   \n",
       "ORIGIN_OMA       0.000000\n",
       "ORIGIN_DAL       0.000000\n",
       "ORIGIN_ORF       0.000000\n",
       "ORIGIN_HOU       0.000000\n",
       "ORIGIN_XNA       0.000000\n",
       "Length: 86, dtype: float64"
      ]
     },
     "execution_count": 153,
     "metadata": {},
     "output_type": "execute_result"
    }
   ],
   "source": [
    "feature_score = best_df[1]['ORIGIN_BNA'][1]\n",
    "feature_score"
   ]
  },
  {
   "cell_type": "code",
   "execution_count": 159,
   "id": "e9beedd5",
   "metadata": {},
   "outputs": [
    {
     "data": {
      "text/plain": [
       "<AxesSubplot:title={'center':'Feature Importance'}, ylabel='Features'>"
      ]
     },
     "execution_count": 159,
     "metadata": {},
     "output_type": "execute_result"
    },
    {
     "data": {
      "image/png": "[encoded data removed]",
      "text/plain": [
       "<Figure size 640x480 with 1 Axes>"
      ]
     },
     "metadata": {},
     "output_type": "display_data"
    }
   ],
   "source": [
    "# Plot feature_scores\n",
    "feature_score.nlargest(20).plot(title= 'Feature Importance', xlabel = 'Features', kind = 'barh', ylabel = 'Relative Importance' )"
   ]
  },
  {
   "cell_type": "code",
   "execution_count": 151,
   "id": "c6205f18",
   "metadata": {},
   "outputs": [],
   "source": [
    "final_df = df_arr.drop(columns = 'ORIGIN_BNA')"
   ]
  },
  {
   "cell_type": "code",
   "execution_count": 160,
   "id": "e49b47c0",
   "metadata": {},
   "outputs": [],
   "source": [
    "final_df.to_csv(r'C:\\data\\final_arr_df.csv')"
   ]
  },
  {
   "cell_type": "code",
   "execution_count": null,
   "id": "83a5b03d",
   "metadata": {},
   "outputs": [],
   "source": []
  },
  {
   "cell_type": "code",
   "execution_count": null,
   "id": "7d56ac72",
   "metadata": {},
   "outputs": [],
   "source": []
  }
 ],
 "metadata": {
  "celltoolbar": "Raw Cell Format",
  "kernelspec": {
   "display_name": "Python 3 (ipykernel)",
   "language": "python",
   "name": "python3"
  },
  "language_info": {
   "codemirror_mode": {
    "name": "ipython",
    "version": 3
   },
   "file_extension": ".py",
   "mimetype": "text/x-python",
   "name": "python",
   "nbconvert_exporter": "python",
   "pygments_lexer": "ipython3",
   "version": "3.9.13"
  }
 },
 "nbformat": 4,
 "nbformat_minor": 5
}
